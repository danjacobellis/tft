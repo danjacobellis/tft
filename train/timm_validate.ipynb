{
 "cells": [
  {
   "cell_type": "code",
   "execution_count": null,
   "id": "8dcd046d-6188-4975-b631-8181c4315f5c",
   "metadata": {},
   "outputs": [],
   "source": [
    "import pandas as pd\n",
    "import matplotlib.pyplot as plt\n",
    "import torch\n",
    "import tft2d\n",
    "import timm\n",
    "from types import SimpleNamespace\n",
    "from torchvision.transforms.v2 import (\n",
    "    Compose, Resize, CenterCrop, Normalize, \n",
    "    PILToTensor, ToPILImage)\n",
    "from datasets import load_dataset\n",
    "from fastprogress.fastprogress import progress_bar"
   ]
  },
  {
   "cell_type": "code",
   "execution_count": null,
   "id": "4744e793-dacc-4ec1-8d46-27539d6e4949",
   "metadata": {},
   "outputs": [],
   "source": [
    "device = 'cpu'\n",
    "config = SimpleNamespace()\n",
    "config.batch_size = 256\n",
    "config.num_workers = 12\n",
    "config.image_size = 288\n",
    "config.crop_size = 256\n",
    "config.channels = 3"
   ]
  },
  {
   "cell_type": "code",
   "execution_count": null,
   "id": "b5408a23-ec28-401d-b506-3091f1c8bca0",
   "metadata": {},
   "outputs": [],
   "source": [
    "checkpoint = torch.load(\"output/train/20241220-120937-tft2d-256/model_best.pth.tar\",map_location='cpu',weights_only=False)\n",
    "data = pd.read_csv('output/train/20241220-120937-tft2d-256/summary.csv')\n",
    "data.plot(x='epoch', y='eval_top1', legend=False, title='Validation Accuracy')\n",
    "plt.ylabel('Accuracy (%)')\n",
    "plt.show()\n",
    "\n",
    "model = timm.create_model('tft2d')\n",
    "model.load_state_dict(checkpoint['state_dict'])"
   ]
  },
  {
   "cell_type": "code",
   "execution_count": null,
   "id": "739c6580-6622-4dfe-b4d1-5eafbf8fe30f",
   "metadata": {
    "scrolled": true
   },
   "outputs": [],
   "source": [
    "dataset_valid = load_dataset('danjacobellis/imagenet_288_webp',split='validation')"
   ]
  },
  {
   "cell_type": "code",
   "execution_count": null,
   "id": "e90654af-39ac-4437-9ca2-5d1ed911eb7f",
   "metadata": {},
   "outputs": [],
   "source": [
    "cent_crop = Compose([\n",
    "    CenterCrop(size=config.crop_size),\n",
    "    PILToTensor()\n",
    "])\n",
    "\n",
    "def valid_collate_fn(batch):\n",
    "    B = len(batch)\n",
    "    x = torch.zeros((B, config.channels, config.crop_size, config.crop_size), dtype=torch.uint8)\n",
    "    y = torch.zeros(B, dtype=torch.int)\n",
    "    for i_sample, sample in enumerate(batch):\n",
    "        y[i_sample] = sample['cls']\n",
    "        x[i_sample,:,:,:] = cent_crop(sample['webp'])\n",
    "    return (x,y)"
   ]
  },
  {
   "cell_type": "code",
   "execution_count": null,
   "id": "e2d75fc3-7d36-4faa-9802-e9a36f29f2f1",
   "metadata": {},
   "outputs": [],
   "source": [
    "inet_normalize = Normalize(\n",
    "    mean=[0.485, 0.456, 0.406],\n",
    "    std=[0.229, 0.224, 0.225]\n",
    ")"
   ]
  },
  {
   "cell_type": "code",
   "execution_count": null,
   "id": "03d50af7-cbb3-4d86-995d-31d994a4fed8",
   "metadata": {},
   "outputs": [],
   "source": [
    "n_correct = 0 \n",
    "data_loader_valid = torch.utils.data.DataLoader(\n",
    "    dataset_valid,\n",
    "    batch_size=config.batch_size,\n",
    "    shuffle=False,\n",
    "    num_workers=config.num_workers,\n",
    "    drop_last=False,\n",
    "    pin_memory=True,\n",
    "    collate_fn=valid_collate_fn\n",
    ")\n",
    "pb_valid = progress_bar(data_loader_valid)\n",
    "for i_batch, (x, y) in enumerate(pb_valid):\n",
    "    y = y.to(torch.long).to(device)\n",
    "    x = x.to(device).to(torch.float)/255\n",
    "    x = inet_normalize(x)\n",
    "    with torch.no_grad():\n",
    "        logits = model(x)\n",
    "    n_correct += torch.sum(logits.argmax(dim=1) == y).item()"
   ]
  }
 ],
 "metadata": {
  "kernelspec": {
   "display_name": "Python 3 (ipykernel)",
   "language": "python",
   "name": "python3"
  },
  "language_info": {
   "codemirror_mode": {
    "name": "ipython",
    "version": 3
   },
   "file_extension": ".py",
   "mimetype": "text/x-python",
   "name": "python",
   "nbconvert_exporter": "python",
   "pygments_lexer": "ipython3",
   "version": "3.10.12"
  }
 },
 "nbformat": 4,
 "nbformat_minor": 5
}
