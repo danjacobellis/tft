{
 "cells": [
  {
   "cell_type": "code",
   "execution_count": 1,
   "id": "65434349-eb3f-472f-8eb0-51eb09fd6ba3",
   "metadata": {},
   "outputs": [],
   "source": [
    "import warnings\n",
    "warnings.filterwarnings(\"ignore\", message=\".*`torch.cuda.amp.autocast.*\")\n",
    "import torch\n",
    "import numpy as np\n",
    "import random\n",
    "import PIL.Image\n",
    "import matplotlib.pyplot as plt\n",
    "import datasets\n",
    "from types import SimpleNamespace\n",
    "from timm.optim import Mars\n",
    "from torchvision.transforms.v2 import (\n",
    "    Compose, Resize, RandomCrop, CenterCrop,\n",
    "    PILToTensor, ToPILImage, CutMix, MixUp )\n",
    "from fastprogress.fastprogress import master_bar, progress_bar\n",
    "from IPython.display import display, HTML\n",
    "from walloc.walloc import pil_to_latent"
   ]
  },
  {
   "cell_type": "code",
   "execution_count": 2,
   "id": "7795613a-6a4b-4fe4-8a34-04b86e86c061",
   "metadata": {},
   "outputs": [],
   "source": [
    "torch.set_float32_matmul_precision('highest')\n",
    "device = \"cuda:3\"\n",
    "dataset_train = datasets.load_dataset('danjacobellis/imagenet_288_dcae_fp8',split='train')\n",
    "dataset_valid = datasets.load_dataset('danjacobellis/imagenet_288_dcae_fp8',split='validation')"
   ]
  },
  {
   "cell_type": "code",
   "execution_count": 3,
   "id": "a13d07b4-216e-4aeb-a71c-267a306dd8a7",
   "metadata": {},
   "outputs": [],
   "source": [
    "config = SimpleNamespace()\n",
    "# Training and optimizer config\n",
    "config.batch_size = 128\n",
    "config.steps_per_epoch = dataset_train.num_rows//config.batch_size\n",
    "config.grad_accum_steps = 1\n",
    "config.max_lr = (config.batch_size/256)*1e-3\n",
    "config.min_lr = config.max_lr/100\n",
    "config.plot_update = 128\n",
    "config.epochs = 400\n",
    "config.lr_scale = 4\n",
    "config.lr_offset = 0.55\n",
    "config.lr_pow1 = 8\n",
    "config.lr_pow2 = 2\n",
    "config.weight_decay = 0.0\n",
    "config.num_workers = 32\n",
    "config.crop_size = 160\n",
    "config.valid_crop_size=288\n",
    "\n",
    "# model config\n",
    "config.classifier_num_classes = 1000\n",
    "config.checkpoint = False"
   ]
  },
  {
   "cell_type": "code",
   "execution_count": 4,
   "id": "3d4b77ec-9ba2-4aff-87ae-f890150ef542",
   "metadata": {},
   "outputs": [],
   "source": [
    "import einops\n",
    "from timm.models.efficientvit_mit import GELUTanh, ResidualBlock, build_local_block, EfficientVitBlock, EfficientVitLarge\n",
    "\n",
    "class GroupNorm8(torch.nn.Module):\n",
    "    def __init__(self, num_features, eps=1e-7, affine=True):\n",
    "        super().__init__()\n",
    "        self.groupnorm = torch.nn.GroupNorm(num_groups=8,\n",
    "                                      num_channels=num_features,\n",
    "                                      eps=eps,\n",
    "                                      affine=affine)\n",
    "    def forward(self, x):\n",
    "        return self.groupnorm(x)\n",
    "\n",
    "class Stage(torch.nn.Module):\n",
    "    def __init__(\n",
    "        self,\n",
    "        in_chs,\n",
    "        out_chs,\n",
    "        depth,\n",
    "        norm_layer,\n",
    "        act_layer,\n",
    "        head_dim,\n",
    "        vit_stage=False,\n",
    "        fewer_norm=False,\n",
    "    ):\n",
    "        super().__init__()\n",
    "        expand_ratio_first = 6 if vit_stage else 4\n",
    "        first_block = ResidualBlock(\n",
    "            build_local_block(\n",
    "                in_channels=in_chs,\n",
    "                out_channels=out_chs,\n",
    "                stride=1,\n",
    "                expand_ratio=expand_ratio_first,\n",
    "                norm_layer=norm_layer,\n",
    "                act_layer=act_layer,\n",
    "                fewer_norm=vit_stage or fewer_norm,\n",
    "                block_type='default' if (vit_stage or fewer_norm) else 'fused',\n",
    "            ),\n",
    "            None,\n",
    "        )\n",
    "        blocks = [first_block]\n",
    "        in_chs = out_chs\n",
    "        if vit_stage:\n",
    "            for _ in range(depth):\n",
    "                blocks.append(\n",
    "                    EfficientVitBlock(\n",
    "                        in_channels=in_chs,\n",
    "                        head_dim=head_dim,\n",
    "                        expand_ratio=6,\n",
    "                        norm_layer=norm_layer,\n",
    "                        act_layer=act_layer,\n",
    "                    )\n",
    "                )\n",
    "        else:\n",
    "            for _ in range(depth):\n",
    "                blocks.append(\n",
    "                    ResidualBlock(\n",
    "                        build_local_block(\n",
    "                            in_channels=in_chs,\n",
    "                            out_channels=out_chs,\n",
    "                            stride=1,\n",
    "                            expand_ratio=4,\n",
    "                            norm_layer=norm_layer,\n",
    "                            act_layer=act_layer,\n",
    "                            fewer_norm=fewer_norm,\n",
    "                            block_type='default' if fewer_norm else 'fused',\n",
    "                        ),\n",
    "                        torch.nn.Identity(),\n",
    "                    )\n",
    "                )\n",
    "        self.blocks = torch.nn.Sequential(*blocks)\n",
    "    def forward(self, x):\n",
    "        return self.blocks(x)"
   ]
  },
  {
   "cell_type": "code",
   "execution_count": 5,
   "id": "61384e99-a5dc-402f-bf89-35deffd5fc04",
   "metadata": {},
   "outputs": [
    {
     "name": "stdout",
     "output_type": "stream",
     "text": [
      "42.203432\n",
      "27.586624 \t 0\n",
      "14.616808 \t 1\n"
     ]
    }
   ],
   "source": [
    "model = Stage(\n",
    "    in_chs=32,\n",
    "    out_chs=512,\n",
    "    depth=6,\n",
    "    norm_layer=GroupNorm8,\n",
    "    act_layer=GELUTanh,\n",
    "    head_dim=32,\n",
    "    vit_stage=True\n",
    ")\n",
    "\n",
    "head = EfficientVitLarge(\n",
    "    in_chans=512,\n",
    "    widths=(512,),\n",
    "    depths=(1,),\n",
    "    head_dim=32,\n",
    "    norm_layer=GroupNorm8,\n",
    "    act_layer=GELUTanh,\n",
    "    global_pool='avg',\n",
    "    head_widths=(3072, 3200),\n",
    "    drop_rate=0.0,\n",
    "    num_classes=config.classifier_num_classes\n",
    ").head\n",
    "\n",
    "head.in_conv.norm = torch.nn.GroupNorm(\n",
    "    num_groups=8,\n",
    "    num_channels=head.in_conv.norm.num_features,\n",
    "    affine=head.in_conv.norm.affine,\n",
    "    eps=head.in_conv.norm.eps\n",
    ")\n",
    "\n",
    "model = torch.nn.Sequential(model,head).to(device)\n",
    "\n",
    "print(sum(p.numel() for p in model.parameters())/1e6)\n",
    "for name, module in model.named_children():\n",
    "    print(f\"{sum(p.numel() for p in module.parameters())/1e6} \\t {name}\")\n",
    "\n",
    "if config.checkpoint:\n",
    "    checkpoint = torch.load(config.checkpoint, map_location=\"cpu\", weights_only=False)\n",
    "    model.load_state_dict(checkpoint['model'])"
   ]
  },
  {
   "cell_type": "code",
   "execution_count": 6,
   "id": "aa00c7de-cae2-44df-8f38-7440104f96de",
   "metadata": {},
   "outputs": [],
   "source": [
    "optimizer = Mars(\n",
    "    params=model.parameters(),\n",
    "    lr=config.min_lr,\n",
    "    weight_decay=config.weight_decay,\n",
    "    caution=True\n",
    ")\n",
    "\n",
    "def EmPL(x, pow1, pow2):\n",
    "    return np.exp(-np.power(np.log(np.power(x, pow2)), pow1))\n",
    "\n",
    "def EmPL_sched(i_step, config):\n",
    "    x = i_step / (config.steps_per_epoch / config.plot_update)\n",
    "    sched = EmPL(\n",
    "        x / (config.lr_scale * config.steps_per_epoch / config.plot_update) + config.lr_offset,\n",
    "        config.lr_pow1,\n",
    "        config.lr_pow2\n",
    "    )\n",
    "    scale = config.max_lr\n",
    "    lr = scale * sched\n",
    "    return lr / config.min_lr\n",
    "\n",
    "    \n",
    "schedule = torch.optim.lr_scheduler.LambdaLR(\n",
    "    optimizer,\n",
    "    lr_lambda = lambda i_step: EmPL_sched(i_step, config),\n",
    ")"
   ]
  },
  {
   "cell_type": "code",
   "execution_count": 7,
   "id": "9373140f-3aa9-4bf8-aee6-e73938f7566b",
   "metadata": {},
   "outputs": [],
   "source": [
    "mix_transforms = [\n",
    "    MixUp(num_classes=config.classifier_num_classes)\n",
    "]\n",
    "\n",
    "rand_crop = RandomCrop((config.crop_size//32,config.crop_size//32))\n",
    "cent_crop = CenterCrop((config.valid_crop_size//32,config.valid_crop_size//32))\n",
    "\n",
    "def train_collate_fn(batch):\n",
    "    x = torch.cat([rand_crop(pil_to_latent([s['latent']], N=36, n_bits=8, C=4)[:,:32].to(torch.int8)) for s in batch]).view(torch.float8_e4m3fn)\n",
    "    y = torch.tensor([s['cls'] for s in batch],dtype=torch.long)\n",
    "    return x,y\n",
    "\n",
    "def valid_collate_fn(batch):\n",
    "    x = torch.cat([cent_crop(pil_to_latent([s['latent']], N=36, n_bits=8, C=4)[:,:32].to(torch.int8)) for s in batch]).view(torch.float8_e4m3fn)\n",
    "    y = torch.tensor([s['cls'] for s in batch],dtype=torch.long)\n",
    "    return x,y"
   ]
  },
  {
   "cell_type": "code",
   "execution_count": 7,
   "id": "c1e952fa-51bd-44f5-9523-66cc84a90142",
   "metadata": {},
   "outputs": [],
   "source": [
    "# learning_rates = [optimizer.param_groups[0]['lr']]\n",
    "# i_step = 0\n",
    "# for i_epoch in range(config.epochs):\n",
    "#     for i_batch in range(config.steps_per_epoch):\n",
    "#         if (i_step+1) % config.plot_update == 0:\n",
    "#             schedule.step()\n",
    "#             learning_rates.append(optimizer.param_groups[0]['lr'])\n",
    "#         i_step+=1\n",
    "# import matplotlib.pyplot as plt\n",
    "# plt.plot(learning_rates)"
   ]
  },
  {
   "cell_type": "code",
   "execution_count": null,
   "id": "52e14104-0ca1-4519-a206-7834ffbf16a0",
   "metadata": {},
   "outputs": [],
   "source": [
    "mb = master_bar(range(config.epochs))\n",
    "mb.names = ['per batch','smoothed']\n",
    "train_loss = []\n",
    "valid_acc = []\n",
    "learning_rates = [optimizer.param_groups[0]['lr']]\n",
    "i_step = 0\n",
    "for i_epoch in mb:\n",
    "    # training\n",
    "    model.train()\n",
    "    dataloader_train = torch.utils.data.DataLoader(\n",
    "        dataset_train,\n",
    "        batch_size=config.batch_size,\n",
    "        shuffle=True,\n",
    "        num_workers=config.num_workers,\n",
    "        drop_last=True,\n",
    "        pin_memory=True,\n",
    "        collate_fn=train_collate_fn\n",
    "    )\n",
    "    pb = progress_bar(dataloader_train, parent=mb)\n",
    "    for i_batch, (x,y) in enumerate(pb):\n",
    "        y = y.to(device)\n",
    "        x = x.to(device).to(torch.float32)\n",
    "        for mix_transform in mix_transforms:\n",
    "            x, y = mix_transform(x, y) \n",
    "\n",
    "        logits = model(x)\n",
    "        loss = torch.nn.CrossEntropyLoss()(input=logits, target=y)\n",
    "\n",
    "        train_loss.append(loss.item())\n",
    "        loss.backward()\n",
    "        if (i_batch + 1) % config.grad_accum_steps == 0:\n",
    "            optimizer.step()\n",
    "            optimizer.zero_grad()\n",
    "\n",
    "        # plotting and learning rate update\n",
    "        if (i_step+1) % config.plot_update == 0:\n",
    "            plot_n = len(train_loss) // config.plot_update\n",
    "            smoothed_x = (0.5+torch.arange(plot_n)) * config.plot_update\n",
    "            smoothed_y = torch.tensor(train_loss).reshape(plot_n, -1).mean(dim=1)\n",
    "            train_x = range(len(train_loss))\n",
    "            train_y = train_loss\n",
    "            mb.update_graph([[train_x, np.log10(train_y)],[smoothed_x, np.log10(smoothed_y)]])\n",
    "\n",
    "            # lr update\n",
    "            schedule.step()\n",
    "            learning_rates.append(optimizer.param_groups[0]['lr'])\n",
    "    \n",
    "        i_step+=1\n",
    "        \n",
    "    # validation\n",
    "    model.eval()\n",
    "    valid_acc.append(0)\n",
    "    data_loader_valid = torch.utils.data.DataLoader(\n",
    "        dataset_valid,\n",
    "        batch_size=config.batch_size,\n",
    "        shuffle=False,\n",
    "        num_workers=config.num_workers,\n",
    "        drop_last=False,\n",
    "        pin_memory=True,\n",
    "        collate_fn=valid_collate_fn\n",
    "    )\n",
    "    pb_valid = progress_bar(data_loader_valid, parent=mb)\n",
    "    for i_batch, (x, y) in enumerate(pb_valid):\n",
    "        y = y.to(device)\n",
    "        x = x.to(device).to(torch.float32)\n",
    "        with torch.no_grad():\n",
    "            logits = model(x)\n",
    "        valid_acc[i_epoch] += torch.sum(logits.argmax(dim=1) == y).item()\n",
    "    valid_acc[i_epoch] /= len(dataset_valid)\n",
    "    \n",
    "    mb.main_bar.comment = f'valid_acc {valid_acc[i_epoch]:.4g}'\n",
    "    \n",
    "    torch.save({\n",
    "        'i_epoch': i_epoch,\n",
    "        'learning_rates': learning_rates,\n",
    "        'smoothed_y': smoothed_y,\n",
    "        'valid_acc': valid_acc,\n",
    "        'config': config,\n",
    "        'model_state_dict': model.state_dict(),\n",
    "    }, f\"log_{device}.pth\")\n",
    "\n",
    "    if i_epoch == 100:\n",
    "        torch.save({\n",
    "            'i_epoch': i_epoch,\n",
    "            'learning_rates': learning_rates,\n",
    "            'smoothed_y': smoothed_y,\n",
    "            'valid_acc': valid_acc,\n",
    "            'config': config,\n",
    "            'model_state_dict': model.state_dict(),\n",
    "            'optimizer_state_dict': optimizer.state_dict()\n",
    "        }, f\"log_{device}_preanneal.pth\")"
   ]
  },
  {
   "cell_type": "code",
   "execution_count": 9,
   "id": "fbb020a6-a19e-4296-87bd-475fafd28cc4",
   "metadata": {
    "scrolled": true
   },
   "outputs": [
    {
     "data": {
      "text/html": [
       "\n",
       "    <div>\n",
       "      <progress value='11' class='' max='400' style='width:300px; height:20px; vertical-align: middle;'></progress>\n",
       "      2.75% [11/400 2:18:46&lt;81:47:18 valid_acc 0.3535]\n",
       "    </div>\n",
       "    "
      ],
      "text/plain": [
       "<IPython.core.display.HTML object>"
      ]
     },
     "metadata": {},
     "output_type": "display_data"
    },
    {
     "data": {
      "text/html": [
       "\n",
       "    <div>\n",
       "      <progress value='7677' class='' max='10009' style='width:300px; height:20px; vertical-align: middle;'></progress>\n",
       "      76.70% [7677/10009 09:32&lt;02:54]\n",
       "    </div>\n",
       "    "
      ],
      "text/plain": [
       "<IPython.core.display.HTML object>"
      ]
     },
     "metadata": {},
     "output_type": "display_data"
    }
   ],
   "source": [
    "from IPython.display import display, HTML\n",
    "import matplotlib.pyplot as plt\n",
    "display(HTML(mb.main_bar.progress))\n",
    "display(HTML(mb.child.progress))"
   ]
  },
  {
   "cell_type": "code",
   "execution_count": 13,
   "id": "6a6ca452-bd75-4fff-ba10-aa86b93ca0d5",
   "metadata": {},
   "outputs": [
    {
     "data": {
      "text/plain": [
       "[<matplotlib.lines.Line2D at 0x7f8f20501990>]"
      ]
     },
     "execution_count": 13,
     "metadata": {},
     "output_type": "execute_result"
    },
    {
     "data": {
      "image/png": "[encoded data removed]",
      "text/plain": [
       "<Figure size 640x480 with 1 Axes>"
      ]
     },
     "metadata": {},
     "output_type": "display_data"
    }
   ],
   "source": [
    "plt.plot(learning_rates)"
   ]
  },
  {
   "cell_type": "code",
   "execution_count": 14,
   "id": "7684eca0-0d2d-467c-b4a8-6ca7eab74b37",
   "metadata": {},
   "outputs": [
    {
     "name": "stderr",
     "output_type": "stream",
     "text": [
      "/tmp/ipykernel_273491/2432266517.py:2: UserWarning: Attempt to set non-positive ylim on a log-scaled axis will be ignored.\n",
      "  plt.ylim([0,7])\n"
     ]
    },
    {
     "data": {
      "text/plain": [
       "(1.8210969840319686, 7)"
      ]
     },
     "execution_count": 14,
     "metadata": {},
     "output_type": "execute_result"
    },
    {
     "data": {
      "image/png": "[encoded data removed]",
      "text/plain": [
       "<Figure size 640x480 with 1 Axes>"
      ]
     },
     "metadata": {},
     "output_type": "display_data"
    }
   ],
   "source": [
    "plt.semilogy(smoothed_y)\n",
    "plt.ylim([0,7])"
   ]
  },
  {
   "cell_type": "code",
   "execution_count": 14,
   "id": "be35c60d-29c0-4011-8ed7-5ca5636bf36a",
   "metadata": {},
   "outputs": [],
   "source": [
    "torch.save({\n",
    "    'i_epoch': i_epoch,\n",
    "    'learning_rates': learning_rates,\n",
    "    'smoothed_y': smoothed_y,\n",
    "    'valid_acc': valid_acc,\n",
    "    'config': config,\n",
    "    'model': model.state_dict(),\n",
    "    'optimizer': optimizer.state_dict(),\n",
    "}, f\"../../hf/tft/efficientvit_l1_gn8.pth\")"
   ]
  }
 ],
 "metadata": {
  "kernelspec": {
   "display_name": "Python 3 (ipykernel)",
   "language": "python",
   "name": "python3"
  },
  "language_info": {
   "codemirror_mode": {
    "name": "ipython",
    "version": 3
   },
   "file_extension": ".py",
   "mimetype": "text/x-python",
   "name": "python",
   "nbconvert_exporter": "python",
   "pygments_lexer": "ipython3",
   "version": "3.10.12"
  }
 },
 "nbformat": 4,
 "nbformat_minor": 5
}
