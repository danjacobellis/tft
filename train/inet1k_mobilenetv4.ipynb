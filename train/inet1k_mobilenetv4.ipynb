{
 "cells": [
  {
   "cell_type": "code",
   "execution_count": 1,
   "id": "65434349-eb3f-472f-8eb0-51eb09fd6ba3",
   "metadata": {},
   "outputs": [],
   "source": [
    "import warnings\n",
    "warnings.filterwarnings(\"ignore\", message=\".*`torch.cuda.amp.autocast.*\")\n",
    "import torch\n",
    "import numpy as np\n",
    "import random\n",
    "import PIL.Image\n",
    "import matplotlib.pyplot as plt\n",
    "from types import SimpleNamespace\n",
    "from datasets import load_dataset\n",
    "from timm.optim import Mars\n",
    "from torchvision.transforms.v2 import (\n",
    "    Compose, Resize, RandomCrop, CenterCrop,\n",
    "    PILToTensor, ToPILImage, CutMix, MixUp )\n",
    "from fastprogress.fastprogress import master_bar, progress_bar\n",
    "from IPython.display import display, HTML"
   ]
  },
  {
   "cell_type": "code",
   "execution_count": 2,
   "id": "ea6f63e8-9953-4513-9768-bce9e6ac989d",
   "metadata": {},
   "outputs": [
    {
     "data": {
      "application/vnd.jupyter.widget-view+json": {
       "model_id": "24f1f06cc684421a879791507e6e9c70",
       "version_major": 2,
       "version_minor": 0
      },
      "text/plain": [
       "Resolving data files:   0%|          | 0/66 [00:00<?, ?it/s]"
      ]
     },
     "metadata": {},
     "output_type": "display_data"
    },
    {
     "data": {
      "application/vnd.jupyter.widget-view+json": {
       "model_id": "36b8f772fbc64d8badffd99cbe4b7cd3",
       "version_major": 2,
       "version_minor": 0
      },
      "text/plain": [
       "Resolving data files:   0%|          | 0/66 [00:00<?, ?it/s]"
      ]
     },
     "metadata": {},
     "output_type": "display_data"
    },
    {
     "data": {
      "application/vnd.jupyter.widget-view+json": {
       "model_id": "7c2ed0b8b0b248f9b9f8699dc64e2f13",
       "version_major": 2,
       "version_minor": 0
      },
      "text/plain": [
       "Loading dataset shards:   0%|          | 0/66 [00:00<?, ?it/s]"
      ]
     },
     "metadata": {},
     "output_type": "display_data"
    },
    {
     "data": {
      "application/vnd.jupyter.widget-view+json": {
       "model_id": "b5d60e0ec2094e7cae44eeff1d449d1c",
       "version_major": 2,
       "version_minor": 0
      },
      "text/plain": [
       "Resolving data files:   0%|          | 0/66 [00:00<?, ?it/s]"
      ]
     },
     "metadata": {},
     "output_type": "display_data"
    },
    {
     "data": {
      "application/vnd.jupyter.widget-view+json": {
       "model_id": "c563a60e033549c5aed6ef968b0037bb",
       "version_major": 2,
       "version_minor": 0
      },
      "text/plain": [
       "Resolving data files:   0%|          | 0/66 [00:00<?, ?it/s]"
      ]
     },
     "metadata": {},
     "output_type": "display_data"
    }
   ],
   "source": [
    "torch.set_float32_matmul_precision('high')\n",
    "device = \"cuda:2\"\n",
    "dataset_train = load_dataset('danjacobellis/imagenet_288_webp',split='train')\n",
    "dataset_valid = load_dataset('danjacobellis/imagenet_288_webp',split='validation')"
   ]
  },
  {
   "cell_type": "code",
   "execution_count": 3,
   "id": "a13d07b4-216e-4aeb-a71c-267a306dd8a7",
   "metadata": {},
   "outputs": [],
   "source": [
    "config = SimpleNamespace()\n",
    "# Training and optimizer config\n",
    "config.batch_size = 128\n",
    "config.steps_per_epoch = dataset_train.num_rows//config.batch_size\n",
    "config.grad_accum_steps = 1\n",
    "config.max_lr = (config.batch_size/128)*6e-4\n",
    "config.min_lr = config.max_lr/100\n",
    "config.plot_update = 128\n",
    "config.epochs = 400\n",
    "config.lr_scale = 1.6\n",
    "config.lr_offset = 0.25\n",
    "config.lr_pow = 6\n",
    "config.weight_decay = 0.0\n",
    "config.num_workers = 16\n",
    "config.crop_size = 160\n",
    "config.valid_crop_size=288\n",
    "\n",
    "# model config\n",
    "config.channels = 3\n",
    "config.classifier_num_classes = 1000\n",
    "config.checkpoint = False"
   ]
  },
  {
   "cell_type": "code",
   "execution_count": 4,
   "id": "3d4b77ec-9ba2-4aff-87ae-f890150ef542",
   "metadata": {},
   "outputs": [
    {
     "name": "stdout",
     "output_type": "stream",
     "text": [
      "11.074648\n",
      "0.000864 \t conv_stem\n",
      "6.4e-05 \t bn1\n",
      "8.56136 \t blocks\n",
      "0.0 \t global_pool\n",
      "1.2288 \t conv_head\n",
      "0.00256 \t norm_head\n",
      "0.0 \t act2\n",
      "0.0 \t flatten\n",
      "1.281 \t classifier\n"
     ]
    }
   ],
   "source": [
    "import timm\n",
    "model = timm.create_model(\n",
    "    'mobilenetv4_hybrid_medium.e500_r224_in1k',\n",
    "    in_chans = config.channels,\n",
    "    num_classes=config.classifier_num_classes,\n",
    "    pretrained=False,\n",
    ").to(device)\n",
    "model = model.eval()\n",
    "\n",
    "print(sum(p.numel() for p in model.parameters())/1e6)\n",
    "for name, module in model.named_children():\n",
    "    print(f\"{sum(p.numel() for p in module.parameters())/1e6} \\t {name}\")\n",
    "\n",
    "if config.checkpoint:\n",
    "    checkpoint = torch.load(config.checkpoint, map_location=\"cpu\", weights_only=False)\n",
    "    model.load_state_dict(checkpoint['model'])"
   ]
  },
  {
   "cell_type": "code",
   "execution_count": 5,
   "id": "5fdc4b98-a6b6-40e6-9d4b-b12914d24cc3",
   "metadata": {},
   "outputs": [],
   "source": [
    "mix_transforms = [\n",
    "    CutMix(num_classes=config.classifier_num_classes, alpha=1.),\n",
    "    MixUp(num_classes=config.classifier_num_classes, alpha=1.)\n",
    "]\n",
    "\n",
    "def get_size(h=288,w=384,scale=(0.05, 1.95),ratio=(0.75, 1.25)):\n",
    "    orig_area = w * h\n",
    "    scale = (scale[1]-scale[0])*torch.rand(1).item()+scale[0]\n",
    "    ratio = (ratio[1]-ratio[0])*torch.rand(1).item()+ratio[0]\n",
    "    target_area = scale * orig_area\n",
    "    w = int(round((target_area / ratio)**0.5))\n",
    "    h = int(round(ratio * w))\n",
    "    return (h,w)\n",
    "    \n",
    "rand_crop = lambda h,w : Compose([\n",
    "    RandomCrop(\n",
    "        get_size(h,w),\n",
    "        pad_if_needed=True,\n",
    "        padding_mode='reflect'\n",
    "    ),\n",
    "    Resize(\n",
    "        (config.crop_size,config.crop_size),\n",
    "        interpolation=PIL.Image.Resampling.LANCZOS\n",
    "    ),\n",
    "    PILToTensor()\n",
    "])\n",
    "\n",
    "cent_crop = Compose([\n",
    "    CenterCrop(\n",
    "        size=config.valid_crop_size,\n",
    "    ),\n",
    "    PILToTensor()\n",
    "])\n",
    "\n",
    "\n",
    "def train_collate_fn(batch):\n",
    "    B = len(batch)\n",
    "    x = torch.zeros((B, config.channels, config.crop_size, config.crop_size), dtype=torch.uint8)\n",
    "    y = torch.zeros(B, dtype=torch.int)\n",
    "    for i_sample, sample in enumerate(batch):\n",
    "        y[i_sample] = sample['cls']\n",
    "        rc = rand_crop(\n",
    "            h = sample['webp'].height,\n",
    "            w = sample['webp'].width\n",
    "        )\n",
    "        x[i_sample,:,:,:] = rc(sample['webp'])\n",
    "    x = x.to(torch.float)/255\n",
    "    x = x - 0.5\n",
    "    x = 2*x\n",
    "    y = y.to(torch.long)\n",
    "    return x, y\n",
    "\n",
    "def valid_collate_fn(batch):\n",
    "    B = len(batch)\n",
    "    x = torch.zeros((B, config.channels, config.valid_crop_size, config.valid_crop_size), dtype=torch.uint8)\n",
    "    y = torch.zeros(B, dtype=torch.int)\n",
    "    for i_sample, sample in enumerate(batch):\n",
    "        y[i_sample] = sample['cls']\n",
    "        x[i_sample,:,:,:] = cent_crop(sample['webp'])\n",
    "    x = x.to(torch.float)/255\n",
    "    x = x - 0.5\n",
    "    x = 2*x\n",
    "    y = y.to(torch.long)\n",
    "    return (x,y)"
   ]
  },
  {
   "cell_type": "code",
   "execution_count": 6,
   "id": "aa00c7de-cae2-44df-8f38-7440104f96de",
   "metadata": {},
   "outputs": [],
   "source": [
    "optimizer = Mars(\n",
    "    params=model.parameters(),\n",
    "    lr=config.min_lr,\n",
    "    weight_decay=config.weight_decay,\n",
    "    caution=True\n",
    ")\n",
    "\n",
    "def EmPL(x):\n",
    "    return np.exp(-np.power(np.log(x), config.lr_pow))\n",
    "        \n",
    "def EmPL_sched(i_step, config):\n",
    "    x = i_step / (config.steps_per_epoch/config.plot_update)\n",
    "    sched = EmPL(x/(config.lr_scale*config.steps_per_epoch/config.plot_update)+config.lr_offset)\n",
    "    scale = config.max_lr\n",
    "    lr = scale * sched\n",
    "    return lr / config.min_lr\n",
    "    \n",
    "schedule = torch.optim.lr_scheduler.LambdaLR(\n",
    "    optimizer,\n",
    "    lr_lambda = lambda i_step: EmPL_sched(i_step, config),\n",
    ")"
   ]
  },
  {
   "cell_type": "code",
   "execution_count": 7,
   "id": "c1e952fa-51bd-44f5-9523-66cc84a90142",
   "metadata": {},
   "outputs": [
    {
     "name": "stderr",
     "output_type": "stream",
     "text": [
      "/home/dgj335/.local/lib/python3.10/site-packages/torch/optim/lr_scheduler.py:224: UserWarning: Detected call of `lr_scheduler.step()` before `optimizer.step()`. In PyTorch 1.1.0 and later, you should call them in the opposite order: `optimizer.step()` before `lr_scheduler.step()`.  Failure to do this will result in PyTorch skipping the first value of the learning rate schedule. See more details at https://pytorch.org/docs/stable/optim.html#how-to-adjust-learning-rate\n",
      "  warnings.warn(\n"
     ]
    },
    {
     "data": {
      "text/plain": [
       "[<matplotlib.lines.Line2D at 0x7fb7200c0a90>]"
      ]
     },
     "execution_count": 7,
     "metadata": {},
     "output_type": "execute_result"
    },
    {
     "data": {
      "image/png": "[encoded data removed]",
      "text/plain": [
       "<Figure size 640x480 with 1 Axes>"
      ]
     },
     "metadata": {},
     "output_type": "display_data"
    }
   ],
   "source": [
    "# learning_rates = [optimizer.param_groups[0]['lr']]\n",
    "# i_step = 0\n",
    "# for i_epoch in range(config.epochs):\n",
    "#     for i_batch in range(config.steps_per_epoch):\n",
    "#         if (i_step+1) % config.plot_update == 0:\n",
    "#             schedule.step()\n",
    "#             learning_rates.append(optimizer.param_groups[0]['lr'])\n",
    "#         i_step+=1\n",
    "# import matplotlib.pyplot as plt\n",
    "# plt.plot(learning_rates)"
   ]
  },
  {
   "cell_type": "code",
   "execution_count": null,
   "id": "52e14104-0ca1-4519-a206-7834ffbf16a0",
   "metadata": {},
   "outputs": [
    {
     "data": {
      "text/html": [
       "\n",
       "<style>\n",
       "    /* Turns off some styling */\n",
       "    progress {\n",
       "        /* gets rid of default border in Firefox and Opera. */\n",
       "        border: none;\n",
       "        /* Needs to be in here for Safari polyfill so background images work as expected. */\n",
       "        background-size: auto;\n",
       "    }\n",
       "    progress:not([value]), progress:not([value])::-webkit-progress-bar {\n",
       "        background: repeating-linear-gradient(45deg, #7e7e7e, #7e7e7e 10px, #5c5c5c 10px, #5c5c5c 20px);\n",
       "    }\n",
       "    .progress-bar-interrupted, .progress-bar-interrupted::-webkit-progress-bar {\n",
       "        background: #F44336;\n",
       "    }\n",
       "</style>\n"
      ],
      "text/plain": [
       "<IPython.core.display.HTML object>"
      ]
     },
     "metadata": {},
     "output_type": "display_data"
    },
    {
     "data": {
      "text/html": [
       "\n",
       "    <div>\n",
       "      <progress value='0' class='' max='400' style='width:300px; height:20px; vertical-align: middle;'></progress>\n",
       "      0.00% [0/400 00:00&lt;?]\n",
       "    </div>\n",
       "    \n",
       "\n",
       "\n",
       "    <div>\n",
       "      <progress value='0' class='' max='10009' style='width:300px; height:20px; vertical-align: middle;'></progress>\n",
       "      0.00% [0/10009 00:00&lt;?]\n",
       "    </div>\n",
       "    "
      ],
      "text/plain": [
       "<IPython.core.display.HTML object>"
      ]
     },
     "metadata": {},
     "output_type": "display_data"
    }
   ],
   "source": [
    "mb = master_bar(range(config.epochs))\n",
    "mb.names = ['per batch','smoothed']\n",
    "train_loss = []\n",
    "valid_acc = []\n",
    "learning_rates = [optimizer.param_groups[0]['lr']]\n",
    "i_step = 0\n",
    "for i_epoch in mb:\n",
    "    # training\n",
    "    model.train()\n",
    "    dataloader_train = torch.utils.data.DataLoader(\n",
    "        dataset_train,\n",
    "        batch_size=config.batch_size,\n",
    "        shuffle=True,\n",
    "        num_workers=config.num_workers,\n",
    "        drop_last=True,\n",
    "        pin_memory=True,\n",
    "        collate_fn=train_collate_fn\n",
    "    )\n",
    "    pb = progress_bar(dataloader_train, parent=mb)\n",
    "    for i_batch, (x,y) in enumerate(pb):\n",
    "        y = y.to(torch.long).to(device)\n",
    "        x = x.to(device)\n",
    "        for mix_transform in mix_transforms:\n",
    "            x, y = mix_transform(x, y) \n",
    "\n",
    "        logits = model(x)\n",
    "        loss = torch.nn.CrossEntropyLoss()(input=logits, target=y)\n",
    "\n",
    "        train_loss.append(loss.item())\n",
    "        loss.backward()\n",
    "        if (i_batch + 1) % config.grad_accum_steps == 0:\n",
    "            optimizer.step()\n",
    "            optimizer.zero_grad()\n",
    "\n",
    "        # plotting and learning rate update\n",
    "        if (i_step+1) % config.plot_update == 0:\n",
    "            plot_n = len(train_loss) // config.plot_update\n",
    "            smoothed_x = (0.5+torch.arange(plot_n)) * config.plot_update\n",
    "            smoothed_y = torch.tensor(train_loss).reshape(plot_n, -1).mean(dim=1)\n",
    "            train_x = range(len(train_loss))\n",
    "            train_y = train_loss\n",
    "            mb.update_graph([[train_x, np.log10(train_y)],[smoothed_x, np.log10(smoothed_y)]])\n",
    "\n",
    "            # lr update\n",
    "            schedule.step()\n",
    "            learning_rates.append(optimizer.param_groups[0]['lr'])\n",
    "    \n",
    "        i_step+=1\n",
    "        \n",
    "    # validation\n",
    "    model.eval()\n",
    "    valid_acc.append(0)\n",
    "    data_loader_valid = torch.utils.data.DataLoader(\n",
    "        dataset_valid,\n",
    "        batch_size=config.batch_size,\n",
    "        shuffle=False,\n",
    "        num_workers=config.num_workers,\n",
    "        drop_last=False,\n",
    "        pin_memory=True,\n",
    "        collate_fn=valid_collate_fn\n",
    "    )\n",
    "    pb_valid = progress_bar(data_loader_valid, parent=mb)\n",
    "    for i_batch, (x, y) in enumerate(pb_valid):\n",
    "        y = y.to(device)\n",
    "        x = x.to(device)\n",
    "        with torch.no_grad():\n",
    "            logits = model(x)\n",
    "        valid_acc[i_epoch] += torch.sum(logits.argmax(dim=1) == y).item()\n",
    "    valid_acc[i_epoch] /= len(dataset_valid)\n",
    "    \n",
    "    mb.main_bar.comment = f'valid_acc {valid_acc[i_epoch]:.4g}'\n",
    "    \n",
    "    torch.save({\n",
    "        'i_epoch': i_epoch,\n",
    "        'learning_rates': learning_rates,\n",
    "        'smoothed_y': smoothed_y,\n",
    "        'valid_acc': valid_acc,\n",
    "        'config': config,\n",
    "        'model_state_dict': model.state_dict(),\n",
    "    }, f\"log_g_{device}.pth\")"
   ]
  },
  {
   "cell_type": "code",
   "execution_count": null,
   "id": "fbb020a6-a19e-4296-87bd-475fafd28cc4",
   "metadata": {},
   "outputs": [],
   "source": [
    "from IPython.display import display, HTML\n",
    "import matplotlib.pyplot as plt\n",
    "display(HTML(mb.main_bar.progress))\n",
    "display(HTML(mb.child.progress))"
   ]
  },
  {
   "cell_type": "code",
   "execution_count": null,
   "id": "fd2eb389-2f28-44ee-bcdb-a70d495d21e6",
   "metadata": {},
   "outputs": [],
   "source": [
    "plt.plot(valid_acc)"
   ]
  },
  {
   "cell_type": "code",
   "execution_count": null,
   "id": "6a6ca452-bd75-4fff-ba10-aa86b93ca0d5",
   "metadata": {},
   "outputs": [],
   "source": [
    "plt.semilogy(learning_rates)"
   ]
  },
  {
   "cell_type": "code",
   "execution_count": null,
   "id": "7684eca0-0d2d-467c-b4a8-6ca7eab74b37",
   "metadata": {},
   "outputs": [],
   "source": [
    "plt.semilogy(smoothed_y)\n",
    "plt.ylim([0,7])"
   ]
  },
  {
   "cell_type": "code",
   "execution_count": null,
   "id": "be35c60d-29c0-4011-8ed7-5ca5636bf36a",
   "metadata": {},
   "outputs": [],
   "source": [
    "# torch.save({\n",
    "#     'i_epoch': i_epoch,\n",
    "#     'learning_rates': learning_rates,\n",
    "#     'smoothed_y': smoothed_y,\n",
    "#     'valid_acc': valid_acc,\n",
    "#     'config': config,\n",
    "#     'model': model.state_dict(),\n",
    "# }, f\"../../hf/tft/tft_wptdrop_v0.1.pth\")"
   ]
  }
 ],
 "metadata": {
  "kernelspec": {
   "display_name": "Python 3 (ipykernel)",
   "language": "python",
   "name": "python3"
  },
  "language_info": {
   "codemirror_mode": {
    "name": "ipython",
    "version": 3
   },
   "file_extension": ".py",
   "mimetype": "text/x-python",
   "name": "python",
   "nbconvert_exporter": "python",
   "pygments_lexer": "ipython3",
   "version": "3.10.12"
  }
 },
 "nbformat": 4,
 "nbformat_minor": 5
}
