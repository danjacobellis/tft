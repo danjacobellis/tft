{
 "cells": [
  {
   "cell_type": "code",
   "execution_count": 1,
   "id": "19b2b033-820b-4fdb-a1be-ae9313491b7d",
   "metadata": {},
   "outputs": [],
   "source": [
    "import warnings\n",
    "warnings.filterwarnings(\"ignore\", message=\".*`torch.cuda.amp.autocast.*\")\n",
    "import torch\n",
    "import numpy as np\n",
    "import random\n",
    "import PIL.Image\n",
    "import matplotlib.pyplot as plt\n",
    "from types import SimpleNamespace\n",
    "from collections import Counter\n",
    "from glob import glob\n",
    "from torch.utils.data import WeightedRandomSampler\n",
    "from datasets import load_dataset\n",
    "from timm.optim import Mars\n",
    "from torchvision.transforms.v2 import (\n",
    "    Compose, Resize, RandomCrop, CenterCrop,\n",
    "    PILToTensor, ToPILImage, MixUp, CutMix )\n",
    "from fastprogress.fastprogress import master_bar, progress_bar\n",
    "from IPython.display import display, HTML"
   ]
  },
  {
   "cell_type": "code",
   "execution_count": 2,
   "id": "67e3025d-60d7-4696-b1a3-c80315449fd1",
   "metadata": {},
   "outputs": [],
   "source": [
    "torch.set_float32_matmul_precision('high')\n",
    "device = \"cuda:3\"\n",
    "dataset = load_dataset('danjacobellis/dermamnist_224')"
   ]
  },
  {
   "cell_type": "code",
   "execution_count": 3,
   "id": "3383a443-d5f7-4701-a061-134f22cc4086",
   "metadata": {},
   "outputs": [],
   "source": [
    "instance_id = [i for i in range(dataset['train'].num_rows)]\n",
    "dataset['train'] = dataset['train'].add_column('iid', instance_id)"
   ]
  },
  {
   "cell_type": "code",
   "execution_count": 4,
   "id": "2eeb6b99-e957-4ab8-9076-d0e795f4266e",
   "metadata": {},
   "outputs": [],
   "source": [
    "config = SimpleNamespace()\n",
    "# Training and optimizer config\n",
    "config.batch_size = 128\n",
    "config.steps_per_epoch = dataset['train'].num_rows//config.batch_size\n",
    "config.grad_accum_steps = 1\n",
    "config.max_lr = (config.batch_size/128)*6e-4\n",
    "config.min_lr = config.max_lr/100\n",
    "config.plot_update = 8\n",
    "config.epochs = 1000\n",
    "config.lr_scale = 150\n",
    "config.lr_offset = 0.3\n",
    "config.lr_pow = 6\n",
    "config.weight_decay = 0.\n",
    "config.num_workers = 12\n",
    "config.image_size = 272\n",
    "config.crop_size = 256\n",
    "config.target_acc = 0.85\n",
    "config.N_median = 15\n",
    "\n",
    "# model config\n",
    "config.channels = 3\n",
    "config.J = 4\n",
    "config.embed_dim = 256\n",
    "config.dim_head = 32\n",
    "config.classifier_num_classes = dataset['train'].num_rows\n",
    "config.checkpoint = False"
   ]
  },
  {
   "cell_type": "code",
   "execution_count": 5,
   "id": "2512de33-a6c1-4534-8269-8babae08102c",
   "metadata": {},
   "outputs": [
    {
     "name": "stdout",
     "output_type": "stream",
     "text": [
      "0.0 \t wpt\n",
      "6.9824 \t ascan\n",
      "0.087552 \t pool\n",
      "1.800799 \t classifier\n"
     ]
    }
   ],
   "source": [
    "from pytorch_wavelets import DWTForward\n",
    "from tft.transforms import WPT2D\n",
    "from tft.models import TFTClassifier\n",
    "\n",
    "wt = DWTForward(J=1, mode='periodization', wave='bior4.4')\n",
    "wpt = WPT2D(wt).to(device)\n",
    "model = TFTClassifier(config,wpt).to(device)\n",
    "\n",
    "for name, module in model.named_children():\n",
    "    print(f\"{sum(p.numel() for p in module.parameters())/1e6} \\t {name}\")\n",
    "\n",
    "if config.checkpoint:\n",
    "    checkpoint = torch.load(config.checkpoint, map_location=\"cpu\", weights_only=False)\n",
    "    model.load_state_dict(checkpoint['model'])"
   ]
  },
  {
   "cell_type": "code",
   "execution_count": 6,
   "id": "3f6f407f-cc54-4435-a601-6afc6f459a14",
   "metadata": {},
   "outputs": [],
   "source": [
    "mix_transforms = [\n",
    "    CutMix(num_classes=config.classifier_num_classes, alpha=1.),\n",
    "    MixUp(num_classes=config.classifier_num_classes, alpha=1.)\n",
    "]\n",
    "rand_crop = Compose([\n",
    "    Resize(size=config.image_size,interpolation=PIL.Image.Resampling.LANCZOS),\n",
    "    RandomCrop(size=config.crop_size),\n",
    "    PILToTensor()\n",
    "])\n",
    "cent_crop = Compose([\n",
    "    Resize(size=config.image_size,interpolation=PIL.Image.Resampling.LANCZOS),\n",
    "    CenterCrop(size=config.crop_size),\n",
    "    PILToTensor()\n",
    "])\n",
    "def train_collate_fn(batch):\n",
    "    B = len(batch)\n",
    "    x = torch.zeros((B, config.channels, config.crop_size, config.crop_size), dtype=torch.uint8)\n",
    "    y = torch.zeros(B, dtype=torch.int)\n",
    "    iid = torch.zeros(B, dtype=torch.int)\n",
    "    for i_sample, sample in enumerate(batch):\n",
    "        y[i_sample] = sample['label'][0]\n",
    "        iid[i_sample] = sample['iid']\n",
    "        x[i_sample,:,:,:] = rand_crop(sample['image'])\n",
    "    return x, y, iid\n",
    "\n",
    "def valid_collate_fn(batch):\n",
    "    B = len(batch)\n",
    "    x = torch.zeros((B, config.channels, config.crop_size, config.crop_size), dtype=torch.uint8)\n",
    "    y = torch.zeros(B, dtype=torch.int)\n",
    "    iid = torch.zeros(B, dtype=torch.int)\n",
    "    for i_sample, sample in enumerate(batch):\n",
    "        y[i_sample] = sample['label'][0]\n",
    "        iid[i_sample] = sample['iid']\n",
    "        x[i_sample,:,:,:] = cent_crop(sample['image'])\n",
    "    return x, y, iid"
   ]
  },
  {
   "cell_type": "code",
   "execution_count": 7,
   "id": "ea74f7b7-1ba2-4bb0-b3ff-6e78c52614cb",
   "metadata": {},
   "outputs": [],
   "source": [
    "optimizer = Mars(\n",
    "    params=model.parameters(),\n",
    "    lr=config.min_lr,\n",
    "    weight_decay=config.weight_decay,\n",
    "    caution=True\n",
    ")\n",
    "\n",
    "def EmPL(x):\n",
    "    return np.exp(-np.power(np.log(x), config.lr_pow))\n",
    "        \n",
    "def EmPL_sched(i_step, config):\n",
    "    x = i_step / (config.steps_per_epoch/config.plot_update)\n",
    "    sched = EmPL(x/(config.lr_scale*config.steps_per_epoch/config.plot_update)+config.lr_offset)\n",
    "    scale = config.max_lr\n",
    "    lr = scale * sched\n",
    "    return lr / config.min_lr\n",
    "    \n",
    "schedule = torch.optim.lr_scheduler.LambdaLR(\n",
    "    optimizer,\n",
    "    lr_lambda = lambda i_step: EmPL_sched(i_step, config),\n",
    ")"
   ]
  },
  {
   "cell_type": "code",
   "execution_count": 8,
   "id": "bb790c3f-fa67-4dbc-aa8c-5fe8ff6ed4a5",
   "metadata": {},
   "outputs": [],
   "source": [
    "# learning_rates = [optimizer.param_groups[0]['lr']]\n",
    "# i_step = 0\n",
    "# for i_epoch in range(config.epochs):\n",
    "#     for i_batch in range(config.steps_per_epoch):\n",
    "#         if (i_step+1) % config.plot_update == 0:\n",
    "#             schedule.step()\n",
    "#             learning_rates.append(optimizer.param_groups[0]['lr'])\n",
    "#         i_step+=1\n",
    "# import matplotlib.pyplot as plt\n",
    "# plt.plot(learning_rates)"
   ]
  },
  {
   "cell_type": "code",
   "execution_count": 9,
   "id": "4d577d6f-bccd-47ad-8743-1413aa268887",
   "metadata": {},
   "outputs": [
    {
     "data": {
      "text/html": [
       "\n",
       "<style>\n",
       "    /* Turns off some styling */\n",
       "    progress {\n",
       "        /* gets rid of default border in Firefox and Opera. */\n",
       "        border: none;\n",
       "        /* Needs to be in here for Safari polyfill so background images work as expected. */\n",
       "        background-size: auto;\n",
       "    }\n",
       "    progress:not([value]), progress:not([value])::-webkit-progress-bar {\n",
       "        background: repeating-linear-gradient(45deg, #7e7e7e, #7e7e7e 10px, #5c5c5c 10px, #5c5c5c 20px);\n",
       "    }\n",
       "    .progress-bar-interrupted, .progress-bar-interrupted::-webkit-progress-bar {\n",
       "        background: #F44336;\n",
       "    }\n",
       "</style>\n"
      ],
      "text/plain": [
       "<IPython.core.display.HTML object>"
      ]
     },
     "metadata": {},
     "output_type": "display_data"
    },
    {
     "data": {
      "text/html": [
       "\n",
       "    <div>\n",
       "      <progress value='374' class='' max='1000' style='width:300px; height:20px; vertical-align: middle;'></progress>\n",
       "      37.40% [374/1000 1:07:39&lt;1:53:15 validation accuracy 0.8853]\n",
       "    </div>\n",
       "    \n",
       "\n",
       "\n",
       "    <div>\n",
       "      <progress value='55' class='' max='55' style='width:300px; height:20px; vertical-align: middle;'></progress>\n",
       "      100.00% [55/55 00:02&lt;00:00]\n",
       "    </div>\n",
       "    "
      ],
      "text/plain": [
       "<IPython.core.display.HTML object>"
      ]
     },
     "metadata": {},
     "output_type": "display_data"
    },
    {
     "data": {
      "image/png": "[encoded data removed]",
      "text/plain": [
       "<Figure size 600x400 with 1 Axes>"
      ]
     },
     "metadata": {},
     "output_type": "display_data"
    },
    {
     "data": {
      "image/png": "[encoded data removed]",
      "text/plain": [
       "<Figure size 600x400 with 1 Axes>"
      ]
     },
     "metadata": {},
     "output_type": "display_data"
    }
   ],
   "source": [
    "mb = master_bar(range(config.epochs))\n",
    "mb.names = ['per batch','smoothed']\n",
    "train_loss = []\n",
    "valid_acc = []\n",
    "test_acc = []\n",
    "learning_rates = [optimizer.param_groups[0]['lr']]\n",
    "i_step = 0\n",
    "i_ckpt = 0\n",
    "for i_epoch in mb:\n",
    "    # training\n",
    "    model.train()\n",
    "    dataloader_train = torch.utils.data.DataLoader(\n",
    "        dataset['train'],\n",
    "        batch_size=config.batch_size,\n",
    "        shuffle=True,\n",
    "        num_workers=config.num_workers,\n",
    "        drop_last=True,\n",
    "        pin_memory=True,\n",
    "        collate_fn=train_collate_fn\n",
    "    )\n",
    "    pb = progress_bar(dataloader_train, parent=mb)\n",
    "    for i_batch, (x,_,iid) in enumerate(pb):\n",
    "        iid = iid.to(torch.long).to(device)\n",
    "        x = x.to(device).to(torch.float)/255\n",
    "        for mix_transform in mix_transforms:\n",
    "            x, iid = mix_transform(x, iid)\n",
    "\n",
    "        logits = model(x-0.5)\n",
    "        loss = torch.nn.CrossEntropyLoss()(input=logits, target=iid)\n",
    "\n",
    "        train_loss.append(loss.item())\n",
    "        loss.backward()\n",
    "        if (i_batch + 1) % config.grad_accum_steps == 0:\n",
    "            optimizer.step()\n",
    "            optimizer.zero_grad()\n",
    "\n",
    "        # plotting and learning rate update\n",
    "        if (i_step+1) % config.plot_update == 0:\n",
    "            plot_n = len(train_loss) // config.plot_update\n",
    "            smoothed_x = (0.5+torch.arange(plot_n)) * config.plot_update\n",
    "            smoothed_y = torch.tensor(train_loss).reshape(plot_n, -1).mean(dim=1)\n",
    "            train_x = range(len(train_loss))\n",
    "            train_y = train_loss\n",
    "            mb.update_graph([[train_x, np.log10(train_y)],[smoothed_x, np.log10(smoothed_y)]])\n",
    "\n",
    "            # lr update\n",
    "            schedule.step()\n",
    "            learning_rates.append(optimizer.param_groups[0]['lr'])\n",
    "    \n",
    "        i_step+=1\n",
    "        \n",
    "    # validation\n",
    "    model.eval()\n",
    "    valid_acc.append(0)\n",
    "    data_loader_valid = torch.utils.data.DataLoader(\n",
    "        dataset['train'],\n",
    "        batch_size=config.batch_size,\n",
    "        shuffle=False,\n",
    "        num_workers=config.num_workers,\n",
    "        drop_last=False,\n",
    "        pin_memory=True,\n",
    "        collate_fn=valid_collate_fn\n",
    "    )\n",
    "    pb_valid = progress_bar(data_loader_valid, parent=mb)\n",
    "    for i_batch, (x, _, iid) in enumerate(pb_valid):\n",
    "        iid = iid.to(torch.long).to(device)\n",
    "        x = x.to(device).to(torch.float)/255\n",
    "        with torch.no_grad():\n",
    "            logits = model(x-0.5)\n",
    "        valid_acc[i_epoch] += torch.sum(logits.argmax(dim=1) == iid).item()\n",
    "    valid_acc[i_epoch] /= dataset['train'].num_rows\n",
    "    mb.main_bar.comment = f'validation accuracy {valid_acc[i_epoch]:.4g}'\n",
    "\n",
    "    # # test \n",
    "    # test_acc.append(0)\n",
    "    # data_loader_test = torch.utils.data.DataLoader(\n",
    "    #     dataset['test'],\n",
    "    #     batch_size=config.batch_size,\n",
    "    #     shuffle=False,\n",
    "    #     num_workers=config.num_workers,\n",
    "    #     drop_last=False,\n",
    "    #     pin_memory=True,\n",
    "    #     collate_fn=valid_collate_fn\n",
    "    # )\n",
    "    # pb_test = progress_bar(data_loader_test, parent=mb)\n",
    "    # for i_batch, (x, y) in enumerate(pb_test):\n",
    "    #     y = y.to(torch.long).to(device)\n",
    "    #     x = x.to(device).to(torch.float)/255\n",
    "    #     with torch.no_grad():\n",
    "    #         logits = model(x-0.5)\n",
    "    #     test_acc[i_epoch] += torch.sum(logits.argmax(dim=1) == y).item()\n",
    "    # test_acc[i_epoch] /= dataset['test'].num_rows\n",
    "    # mb.main_bar.comment = f'test accuracy {test_acc[i_epoch]:.4g}'\n",
    "    \n",
    "    torch.save({\n",
    "        'i_epoch': i_epoch,\n",
    "        'learning_rates': learning_rates,\n",
    "        'smoothed_y': smoothed_y,\n",
    "        'valid_acc': valid_acc,\n",
    "        # 'test_acc': test_acc,\n",
    "        'config': config,\n",
    "        'model_state_dict': model.state_dict(),\n",
    "    }, f\"log_{device}.pth\")\n",
    "\n",
    "    if valid_acc[-1]>config.target_acc:\n",
    "        torch.save({\n",
    "            'model_state_dict': model.state_dict(),\n",
    "        }, f\"w{i_epoch}_{device}.pth\")\n",
    "        i_ckpt += 1\n",
    "        if i_ckpt>=config.N_median:\n",
    "            break"
   ]
  },
  {
   "cell_type": "code",
   "execution_count": null,
   "id": "b0e2e752-c98d-49a7-89a1-29628c272287",
   "metadata": {},
   "outputs": [],
   "source": [
    "display(HTML(mb.main_bar.progress))\n",
    "display(HTML(mb.child.progress))"
   ]
  },
  {
   "cell_type": "code",
   "execution_count": null,
   "id": "fe249362-aafd-4655-8667-753dab5473db",
   "metadata": {},
   "outputs": [],
   "source": [
    "plt.plot(valid_acc)\n",
    "plt.plot(test_acc)"
   ]
  },
  {
   "cell_type": "code",
   "execution_count": null,
   "id": "709c1bf1-60f2-407c-99b2-3eb9bb55a97b",
   "metadata": {},
   "outputs": [],
   "source": [
    "plt.semilogy(learning_rates)"
   ]
  },
  {
   "cell_type": "code",
   "execution_count": null,
   "id": "6095648b-a79e-494b-86f2-09085d1ec2c1",
   "metadata": {},
   "outputs": [],
   "source": [
    "plt.semilogy(smoothed_y)\n",
    "plt.ylim([0,2])"
   ]
  },
  {
   "cell_type": "code",
   "execution_count": null,
   "id": "ad166e4f-8887-404c-9da6-d1848f28a1c5",
   "metadata": {},
   "outputs": [],
   "source": [
    "from glob import glob\n",
    "file_list=sorted(glob('w*%s.pth'%device),key=lambda x:int(x.split('_')[0][1:]))[:15]"
   ]
  },
  {
   "cell_type": "code",
   "execution_count": null,
   "id": "b01b7073-0573-429a-bd11-3faef94d3c5c",
   "metadata": {},
   "outputs": [],
   "source": [
    "state_dicts = [torch.load(f, map_location='cpu', weights_only=True)['model_state_dict'] for f in file_list]\n",
    "keys = state_dicts[0].keys()\n",
    "median_state_dict = {}\n",
    "for key in keys:\n",
    "    param_values = torch.stack([state_dict[key] for state_dict in state_dicts])\n",
    "    median_value = torch.median(param_values, dim=0).values\n",
    "    median_state_dict[key] = median_value\n",
    "model.load_state_dict(median_state_dict)"
   ]
  },
  {
   "cell_type": "code",
   "execution_count": null,
   "id": "0c17466c-bc07-4079-9127-15aacd0ab712",
   "metadata": {},
   "outputs": [],
   "source": [
    "model.eval()\n",
    "test_acc.append(0)\n",
    "data_loader_test = torch.utils.data.DataLoader(\n",
    "    dataset['test'],\n",
    "    batch_size=config.batch_size,\n",
    "    shuffle=False,\n",
    "    num_workers=config.num_workers,\n",
    "    drop_last=False,\n",
    "    pin_memory=True,\n",
    "    collate_fn=valid_collate_fn\n",
    ")\n",
    "pb_test = progress_bar(data_loader_test)\n",
    "for i_batch, (x, y) in enumerate(pb_test):\n",
    "    y = y.to(torch.long).to(device)\n",
    "    x = x.to(device).to(torch.float)/255\n",
    "    with torch.no_grad():\n",
    "        logits = model(x-0.5)\n",
    "    test_acc[-1] += torch.sum(logits.argmax(dim=1) == y).item()\n",
    "test_acc[-1] /= dataset['test'].num_rows"
   ]
  },
  {
   "cell_type": "code",
   "execution_count": null,
   "id": "8fd4f26e-86e1-4173-9644-97a63270f4af",
   "metadata": {},
   "outputs": [],
   "source": [
    "test_acc[-1]"
   ]
  },
  {
   "cell_type": "code",
   "execution_count": null,
   "id": "5f27d415-a670-4fea-832d-dd54cae6e5aa",
   "metadata": {},
   "outputs": [],
   "source": [
    "dataset['test'].num_rows/(pb_test.last_t/1e9)"
   ]
  }
 ],
 "metadata": {
  "kernelspec": {
   "display_name": "Python 3 (ipykernel)",
   "language": "python",
   "name": "python3"
  },
  "language_info": {
   "codemirror_mode": {
    "name": "ipython",
    "version": 3
   },
   "file_extension": ".py",
   "mimetype": "text/x-python",
   "name": "python",
   "nbconvert_exporter": "python",
   "pygments_lexer": "ipython3",
   "version": "3.10.12"
  }
 },
 "nbformat": 4,
 "nbformat_minor": 5
}
