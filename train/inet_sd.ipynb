{
 "cells": [
  {
   "cell_type": "code",
   "execution_count": 1,
   "id": "65434349-eb3f-472f-8eb0-51eb09fd6ba3",
   "metadata": {},
   "outputs": [
    {
     "name": "stderr",
     "output_type": "stream",
     "text": [
      "/home/dgj335/.local/lib/python3.10/site-packages/timm/models/layers/__init__.py:48: FutureWarning: Importing from timm.models.layers is deprecated, please import via timm.layers\n",
      "  warnings.warn(f\"Importing from {__name__} is deprecated, please import via timm.layers\", FutureWarning)\n"
     ]
    }
   ],
   "source": [
    "import warnings\n",
    "import torch\n",
    "import numpy as np\n",
    "import random\n",
    "import math\n",
    "import matplotlib.pyplot as plt\n",
    "from IPython.display import display, HTML\n",
    "from types import SimpleNamespace\n",
    "from datasets import load_dataset\n",
    "from timm.optim import Mars\n",
    "from timm.models.layers import drop_path\n",
    "from torchvision.transforms.v2 import (\n",
    "    Compose, RandAugment, RandomErasing, Resize, RandomCrop, CenterCrop, \n",
    "    PILToTensor, ToDtype, MixUp, CutMix, ToPILImage, InterpolationMode\n",
    ")\n",
    "from fastprogress.fastprogress import master_bar, progress_bar\n",
    "import copy\n",
    "import PIL.Image"
   ]
  },
  {
   "cell_type": "code",
   "execution_count": 2,
   "id": "a13d07b4-216e-4aeb-a71c-267a306dd8a7",
   "metadata": {},
   "outputs": [
    {
     "data": {
      "application/vnd.jupyter.widget-view+json": {
       "model_id": "10a18fc9837a4d6b9a647b42df78d7d5",
       "version_major": 2,
       "version_minor": 0
      },
      "text/plain": [
       "Resolving data files:   0%|          | 0/1024 [00:00<?, ?it/s]"
      ]
     },
     "metadata": {},
     "output_type": "display_data"
    },
    {
     "data": {
      "application/vnd.jupyter.widget-view+json": {
       "model_id": "728c179c8ea843bd8a4ec75c99fa21d3",
       "version_major": 2,
       "version_minor": 0
      },
      "text/plain": [
       "Resolving data files:   0%|          | 0/64 [00:00<?, ?it/s]"
      ]
     },
     "metadata": {},
     "output_type": "display_data"
    },
    {
     "data": {
      "application/vnd.jupyter.widget-view+json": {
       "model_id": "6f94ad501abc47548b4138f4356b349b",
       "version_major": 2,
       "version_minor": 0
      },
      "text/plain": [
       "Loading dataset shards:   0%|          | 0/292 [00:00<?, ?it/s]"
      ]
     },
     "metadata": {},
     "output_type": "display_data"
    },
    {
     "data": {
      "application/vnd.jupyter.widget-view+json": {
       "model_id": "1c3ce204f7b540a287dd7a3ed1e76715",
       "version_major": 2,
       "version_minor": 0
      },
      "text/plain": [
       "Resolving data files:   0%|          | 0/1024 [00:00<?, ?it/s]"
      ]
     },
     "metadata": {},
     "output_type": "display_data"
    },
    {
     "data": {
      "application/vnd.jupyter.widget-view+json": {
       "model_id": "03728601ef904038ae81706da0afd20e",
       "version_major": 2,
       "version_minor": 0
      },
      "text/plain": [
       "Resolving data files:   0%|          | 0/64 [00:00<?, ?it/s]"
      ]
     },
     "metadata": {},
     "output_type": "display_data"
    }
   ],
   "source": [
    "torch.set_float32_matmul_precision('highest')\n",
    "device = \"cuda:0\"\n",
    "dataset_train = load_dataset('timm/imagenet-1k-wds', split='train')\n",
    "dataset_valid = load_dataset('timm/imagenet-1k-wds', split='validation')"
   ]
  },
  {
   "cell_type": "code",
   "execution_count": 3,
   "id": "1d780ec5-f8dd-4444-98a3-6a123e10828b",
   "metadata": {},
   "outputs": [],
   "source": [
    "config = SimpleNamespace()\n",
    "config.epochs = 48\n",
    "config.batch_size = 128\n",
    "config.steps_per_epoch = dataset_train.num_rows // config.batch_size\n",
    "config.total_steps = config.epochs * config.steps_per_epoch\n",
    "\n",
    "config.num_workers = 32\n",
    "config.grad_accum_steps = 1\n",
    "config.max_lr = 5e-4 * (config.batch_size/128)\n",
    "config.min_lr = config.max_lr/1e6;\n",
    "config.lr_pow = 6; assert (config.lr_pow/2)%1 == 0\n",
    "\n",
    "config.weight_decay = 0.1\n",
    "config.no_wd_keys = ['norm', 'bias']\n",
    "\n",
    "config.randaug_n = 2\n",
    "config.randaug_m = 5\n",
    "config.randerase = 0.2\n",
    "\n",
    "config.progressive_sizes = 6*[96] + [128,160,192] + 3*[224]\n",
    "\n",
    "config.mixup_alpha = 1.0\n",
    "\n",
    "config.label_smoothing = 0.1\n",
    "\n",
    "config.mesa = True\n",
    "config.ema_decay = 0.9999\n",
    "config.mesa_ratio = 2.0\n",
    "config.mesa_start = 0.25\n",
    "\n",
    "config.drop_path = 0.1\n",
    "\n",
    "config.channels=3\n",
    "config.classifier_num_classes=1000\n",
    "\n",
    "config.log_filename = 'log_cuda_1'"
   ]
  },
  {
   "cell_type": "code",
   "execution_count": 4,
   "id": "591c7811-9141-4597-99eb-c40b59eb66e6",
   "metadata": {},
   "outputs": [
    {
     "name": "stdout",
     "output_type": "stream",
     "text": [
      "52.654088\n",
      "0.019488 \t stem\n",
      "38.017792 \t stages\n",
      "14.616808 \t head\n"
     ]
    }
   ],
   "source": [
    "from timm.models.efficientvit_mit import EfficientVitLarge, GELUTanh\n",
    "\n",
    "class GroupNorm8(torch.nn.Module):\n",
    "    def __init__(self, num_features, eps=1e-7, affine=True):\n",
    "        super().__init__()\n",
    "        self.groupnorm = torch.nn.GroupNorm(num_groups=8,\n",
    "                                      num_channels=num_features,\n",
    "                                      eps=eps,\n",
    "                                      affine=affine)\n",
    "    def forward(self, x):\n",
    "        return self.groupnorm(x)\n",
    "\n",
    "model = EfficientVitLarge(\n",
    "    in_chans=config.channels,\n",
    "    widths=(32, 64, 128, 256, 512),\n",
    "    depths=(1, 1, 1, 6, 6),\n",
    "    head_dim=32,\n",
    "    norm_layer=GroupNorm8,\n",
    "    act_layer=GELUTanh,\n",
    "    global_pool='avg',\n",
    "    head_widths=(3072, 3200),\n",
    "    drop_rate=0.0,\n",
    "    num_classes=config.classifier_num_classes\n",
    ")\n",
    "model.head.in_conv.norm = torch.nn.GroupNorm(\n",
    "    num_groups=8,\n",
    "    num_channels=model.head.in_conv.norm.num_features,\n",
    "    affine=model.head.in_conv.norm.affine,\n",
    "    eps=model.head.in_conv.norm.eps\n",
    ")\n",
    "\n",
    "model.to(device)\n",
    "\n",
    "print(sum(p.numel() for p in model.parameters())/1e6)\n",
    "for name, module in model.named_children():\n",
    "    print(f\"{sum(p.numel() for p in module.parameters())/1e6} \\t {name}\")"
   ]
  },
  {
   "cell_type": "code",
   "execution_count": 5,
   "id": "112fecc0-2678-4a92-9ee7-6c340600fb8a",
   "metadata": {},
   "outputs": [],
   "source": [
    "def count_sub_blocks(model):\n",
    "    \"\"\"\n",
    "    Count the total # of sub-blocks across all stages:\n",
    "      - Each normal `ResidualBlock` counts as 1\n",
    "      - Each `EfficientVitBlock` has two sub-blocks (`context_module`, `local_module`).\n",
    "    \"\"\"\n",
    "    n_sub = 0\n",
    "    for stage in model.stages:               # model.stages is e.g. [stage0, stage1, ...]\n",
    "        for block in stage.blocks:           # each stage.blocks is a list/Sequential\n",
    "            # If it's a vanilla residual block\n",
    "            if hasattr(block, 'main') and hasattr(block, 'shortcut'):\n",
    "                n_sub += 1\n",
    "            # If it's the bigger \"ViT block\"\n",
    "            elif hasattr(block, 'context_module') and hasattr(block, 'local_module'):\n",
    "                # each has a `main` and `shortcut` as well\n",
    "                n_sub += 2\n",
    "            else:\n",
    "                # fallback or unknown block type\n",
    "                n_sub += 1\n",
    "    return n_sub\n",
    "    \n",
    "def get_drop_prob(i, skip, n_sub_blocks, base_drop):\n",
    "    \"\"\"\n",
    "    Linearly increase drop probability from 0 to `base_drop`\n",
    "    after skipping the first `skip` sub-blocks.\n",
    "    \n",
    "    i is 1-based index into the sub-blocks.\n",
    "    \"\"\"\n",
    "    if i <= skip:\n",
    "        return 0.0\n",
    "    # fraction of how \"deep\" we are, ignoring skip\n",
    "    ratio = (i - skip) / max(1, (n_sub_blocks - skip))\n",
    "    return base_drop * ratio\n",
    "    \n",
    "def forward_resblock_sd(x, block, drop_prob, training=True):\n",
    "    \"\"\"\n",
    "    Forward pass for a single residual block with drop-path on the 'main' branch.\n",
    "    \n",
    "    block is something like:\n",
    "        block.pre_norm, block.main, block.shortcut\n",
    "    \"\"\"\n",
    "    # get the main branch output\n",
    "    out = block.pre_norm(x)\n",
    "    out = block.main(out)\n",
    "    \n",
    "    # apply drop path if training and drop_prob > 0\n",
    "    if training and drop_prob > 0:\n",
    "        out = drop_path(out, drop_prob, training=training)\n",
    "\n",
    "    # add shortcut if present\n",
    "    if block.shortcut is not None:\n",
    "        out = out + block.shortcut(x)\n",
    "    return out\n",
    "def forward_sd(x, model, base_drop=0.1, skip=2, training=True):\n",
    "    \"\"\"\n",
    "    Custom forward pass that applies linearly decayed DropPath\n",
    "    on each residual-like sub-block. \n",
    "    We skip the first 'skip' sub-blocks from any drop, \n",
    "    then ramp from 0..base_drop up to the final sub-block.\n",
    "\n",
    "    Use this function only in training. At inference, just do model(x).\n",
    "    \"\"\"\n",
    "    n_sub_blocks = count_sub_blocks(model)  # total sub-blocks\n",
    "    sub_block_idx = 1                       # 1-based index\n",
    "\n",
    "    # --- stem ---\n",
    "    x = model.stem(x)\n",
    "\n",
    "    # --- each stage ---\n",
    "    for stage in model.stages:\n",
    "        # stage.blocks is a list/Sequential\n",
    "        for block in stage.blocks:\n",
    "\n",
    "            # 1) If it's a standard ResidualBlock or FusedMBConv...\n",
    "            if hasattr(block, 'main') and hasattr(block, 'shortcut') and not hasattr(block, 'context_module'):\n",
    "                # compute drop prob for sub_block_idx\n",
    "                dp = get_drop_prob(sub_block_idx, skip, n_sub_blocks, base_drop)\n",
    "                x = forward_resblock_sd(x, block, dp, training=training)\n",
    "                sub_block_idx += 1\n",
    "\n",
    "            # 2) If it's an EfficientVitBlock (which has 2 sub-blocks)\n",
    "            elif hasattr(block, 'context_module') and hasattr(block, 'local_module'):\n",
    "                # (a) context_module\n",
    "                dp_ctx = get_drop_prob(sub_block_idx, skip, n_sub_blocks, base_drop)\n",
    "                x = forward_resblock_sd(x, block.context_module, dp_ctx, training=training)\n",
    "                sub_block_idx += 1\n",
    "                \n",
    "                # (b) local_module\n",
    "                dp_loc = get_drop_prob(sub_block_idx, skip, n_sub_blocks, base_drop)\n",
    "                x = forward_resblock_sd(x, block.local_module, dp_loc, training=training)\n",
    "                sub_block_idx += 1\n",
    "\n",
    "            # 3) Fallback for anything else not matching the above\n",
    "            else:\n",
    "                x = block(x)\n",
    "                # optionally sub_block_idx += 1 if you want to count it\n",
    "\n",
    "    # --- head ---\n",
    "    x = model.forward_head(x)\n",
    "    return x\n"
   ]
  },
  {
   "cell_type": "code",
   "execution_count": 6,
   "id": "6022268e-4f38-4f3f-95bc-6cf9008a7ac1",
   "metadata": {},
   "outputs": [],
   "source": [
    "param_groups = []\n",
    "for name, p in model.named_parameters():\n",
    "    if p.requires_grad:\n",
    "        use_wd = True\n",
    "        for kw in config.no_wd_keys:\n",
    "            if kw in name.lower():\n",
    "                use_wd = False\n",
    "                break\n",
    "        wd_val = config.weight_decay if use_wd else 0.0\n",
    "        param_groups.append({'params': [p], 'weight_decay': wd_val})\n",
    "\n",
    "optimizer = Mars(param_groups, lr=1.0, weight_decay=0.0, caution=True)\n",
    "\n",
    "def rc_sched(i_step, config):\n",
    "    t = i_step / config.total_steps\n",
    "    return (config.max_lr - config.min_lr) * (1 - ((np.cos(np.pi*t))**(2*config.lr_pow))) + config.min_lr\n",
    "\n",
    "schedule = torch.optim.lr_scheduler.LambdaLR(\n",
    "    optimizer,\n",
    "    lr_lambda=lambda i_step: rc_sched(i_step, config)\n",
    ")"
   ]
  },
  {
   "cell_type": "code",
   "execution_count": 10,
   "id": "1f610425-e727-40e5-b735-a0c304b80777",
   "metadata": {},
   "outputs": [
    {
     "name": "stderr",
     "output_type": "stream",
     "text": [
      "/home/dgj335/.local/lib/python3.10/site-packages/torch/optim/lr_scheduler.py:224: UserWarning: Detected call of `lr_scheduler.step()` before `optimizer.step()`. In PyTorch 1.1.0 and later, you should call them in the opposite order: `optimizer.step()` before `lr_scheduler.step()`.  Failure to do this will result in PyTorch skipping the first value of the learning rate schedule. See more details at https://pytorch.org/docs/stable/optim.html#how-to-adjust-learning-rate\n",
      "  warnings.warn(\n"
     ]
    },
    {
     "data": {
      "text/plain": [
       "[<matplotlib.lines.Line2D at 0x7f31c0d7b3a0>]"
      ]
     },
     "execution_count": 10,
     "metadata": {},
     "output_type": "execute_result"
    },
    {
     "data": {
      "image/png": "[encoded data removed]",
      "text/plain": [
       "<Figure size 640x480 with 1 Axes>"
      ]
     },
     "metadata": {},
     "output_type": "display_data"
    }
   ],
   "source": [
    "# learning_rates = [optimizer.param_groups[0]['lr']]\n",
    "# for i_step in range(config.total_steps):\n",
    "#     schedule.step()\n",
    "#     learning_rates.append(optimizer.param_groups[0]['lr'])\n",
    "# plt.plot(learning_rates)"
   ]
  },
  {
   "cell_type": "code",
   "execution_count": 7,
   "id": "3342b886-54da-455b-ba10-6a5c0cfede5e",
   "metadata": {},
   "outputs": [],
   "source": [
    "class EMAHelper:\n",
    "    def __init__(self, model, decay=0.9999):\n",
    "        self.decay = decay\n",
    "        self.teacher = copy.deepcopy(model)\n",
    "        for p in self.teacher.parameters():\n",
    "            p.requires_grad_(False)\n",
    "\n",
    "    def update(self, student):\n",
    "        with torch.no_grad():\n",
    "            d = self.decay\n",
    "            for tparam, sparam in zip(self.teacher.parameters(), student.parameters()):\n",
    "                tparam.copy_(tparam * d + sparam * (1 - d))\n",
    "    \n",
    "    def forward(self, x):\n",
    "        return self.teacher(x)"
   ]
  },
  {
   "cell_type": "code",
   "execution_count": 8,
   "id": "935afcfd-41b7-4462-a1a3-1a504c16ded8",
   "metadata": {},
   "outputs": [],
   "source": [
    "mixup_tfm = MixUp(alpha=config.mixup_alpha, num_classes=config.classifier_num_classes)\n",
    "\n",
    "def get_epoch_size(epoch):\n",
    "    stage_len = config.epochs // len(config.progressive_sizes)\n",
    "    idx = min(epoch // stage_len, len(config.progressive_sizes)-1)\n",
    "    return config.progressive_sizes[idx]\n",
    "\n",
    "def build_train_prebatch_transform(epoch):\n",
    "    interp = InterpolationMode.LANCZOS\n",
    "    return Compose([\n",
    "        Resize(get_epoch_size(epoch), interpolation=interp),\n",
    "        RandomCrop(get_epoch_size(epoch), padding=get_epoch_size(epoch)//8, padding_mode='reflect'),\n",
    "        PILToTensor(),\n",
    "        ToDtype(torch.float32,scale=False),\n",
    "        lambda x: x/127.5 - 1.0,\n",
    "    ])\n",
    "\n",
    "def build_valid_transform():\n",
    "    return Compose([\n",
    "        Resize(config.progressive_sizes[-1], interpolation=InterpolationMode.LANCZOS),\n",
    "        CenterCrop(config.progressive_sizes[-1]),\n",
    "        PILToTensor(),\n",
    "        ToDtype(torch.float32,scale=False),\n",
    "        lambda x: x/127.5 - 1.0,\n",
    "    ])\n",
    "    \n",
    "def train_collate_fn(batch, epoch):\n",
    "    transform = build_train_prebatch_transform(epoch)\n",
    "    x_list, y_list = [], []\n",
    "    for sample in batch:\n",
    "        img = sample['jpg'].convert(\"RGB\")\n",
    "        cls_ = sample['cls']\n",
    "        x_ = transform(img)\n",
    "        x_list.append(x_)\n",
    "        y_list.append(cls_)\n",
    "    x = torch.stack(x_list, dim=0)\n",
    "    y = torch.tensor(y_list, dtype=torch.long)\n",
    "    return x, torch.nn.functional.one_hot(y, num_classes=config.classifier_num_classes)\n",
    "\n",
    "def valid_collate_fn(batch):\n",
    "    transform = build_valid_transform()\n",
    "    x_list, y_list = [], []\n",
    "    for sample in batch:\n",
    "        img = sample['jpg'].convert(\"RGB\")\n",
    "        x_ = transform(img)\n",
    "        y_ = sample['cls']\n",
    "        x_list.append(x_)\n",
    "        y_list.append(y_)\n",
    "    x = torch.stack(x_list, dim=0)\n",
    "    y = torch.tensor(y_list, dtype=torch.long)\n",
    "    return x, y"
   ]
  },
  {
   "cell_type": "code",
   "execution_count": null,
   "id": "0f1c6ecb-4940-4b19-9ee5-a116eb1d9fb9",
   "metadata": {},
   "outputs": [],
   "source": [
    "learning_rates = [optimizer.param_groups[0]['lr']]\n",
    "\n",
    "ema_helper = EMAHelper(model, decay=config.ema_decay) if config.mesa else None\n",
    "\n",
    "mb = master_bar(range(config.epochs))\n",
    "global_step = 0\n",
    "\n",
    "train_losses = []\n",
    "valid_accs = []\n",
    "\n",
    "for i_epoch in mb:\n",
    "    model.train()\n",
    "    if ema_helper:\n",
    "        ema_helper.teacher.eval()\n",
    "\n",
    "    train_loader = torch.utils.data.DataLoader(\n",
    "        dataset_train,\n",
    "        batch_size=config.batch_size,\n",
    "        shuffle=True,\n",
    "        num_workers=config.num_workers,\n",
    "        drop_last=True,\n",
    "        pin_memory=True,\n",
    "        collate_fn=lambda batch: train_collate_fn(batch,i_epoch)\n",
    "    )\n",
    "\n",
    "    # Training\n",
    "    pb = progress_bar(train_loader, parent=mb)\n",
    "    for (x, y) in pb:\n",
    "        x, y = x.to(device), y.to(device)\n",
    "        \n",
    "        (x, y) = mixup_tfm((x, y))\n",
    "        \n",
    "        if config.label_smoothing>0:\n",
    "            y = (1 - config.label_smoothing) * y + config.label_smoothing / config.classifier_num_classes\n",
    "\n",
    "        logits = forward_sd(x, model, base_drop=config.drop_path, skip=2, training=True)\n",
    "        \n",
    "        loss = torch.nn.BCEWithLogitsLoss()(logits, y)\n",
    "        if global_step % 128 == 0:\n",
    "            train_losses.append(loss.item())\n",
    "\n",
    "        if ema_helper:\n",
    "            frac = i_epoch / config.epochs\n",
    "            if frac >= config.mesa_start:\n",
    "                with torch.no_grad():\n",
    "                    teacher_out = ema_helper.teacher(x)\n",
    "                teacher_prob = torch.sigmoid(teacher_out)\n",
    "                student_prob = torch.sigmoid(logits)\n",
    "                mesa_loss = torch.nn.functional.binary_cross_entropy(student_prob, teacher_prob)\n",
    "                loss = loss + config.mesa_ratio * mesa_loss\n",
    "\n",
    "        optimizer.zero_grad()\n",
    "        loss.backward()\n",
    "        torch.nn.utils.clip_grad_norm_(model.parameters(), 5.0, norm_type=2.0)\n",
    "        optimizer.step()\n",
    "\n",
    "        if ema_helper:\n",
    "            ema_helper.update(model)\n",
    "\n",
    "        schedule.step()\n",
    "        learning_rates.append(optimizer.param_groups[0]['lr'])\n",
    "        global_step += 1\n",
    "\n",
    "    model.eval()\n",
    "    correct = 0\n",
    "\n",
    "    val_loader = torch.utils.data.DataLoader(\n",
    "        dataset_valid,\n",
    "        batch_size=config.batch_size,\n",
    "        shuffle=False,\n",
    "        num_workers=config.num_workers,\n",
    "        drop_last=False,\n",
    "        pin_memory=True,\n",
    "        collate_fn=valid_collate_fn\n",
    "    )\n",
    "    for (xv, yv) in progress_bar(val_loader, parent=mb):\n",
    "        xv, yv = xv.to(device), yv.to(device)\n",
    "        with torch.no_grad():\n",
    "            logits_val = model(xv)\n",
    "        preds = logits_val.argmax(dim=1)\n",
    "        correct += (preds == yv).sum().item()\n",
    "\n",
    "    val_acc = correct / dataset_valid.num_rows\n",
    "    valid_accs.append(val_acc)\n",
    "\n",
    "    mb.main_bar.comment = f\"Epoch={i_epoch} | Train Loss={train_losses[-1]:.4f} | Val Acc={val_acc:.4f}\"\n",
    "    torch.save({\n",
    "        'i_epoch': i_epoch,\n",
    "        'model_state_dict': model.state_dict(),\n",
    "        'ema_state_dict': ema_helper.teacher.state_dict() if ema_helper else None,\n",
    "        'optimizer_state_dict': optimizer.state_dict(),\n",
    "        'train_loss': train_losses,\n",
    "        'valid_acc': valid_accs,\n",
    "        'config': vars(config),\n",
    "    }, f'{config.log_filename}.pth')"
   ]
  },
  {
   "cell_type": "code",
   "execution_count": 14,
   "id": "5ca7925e-d032-4832-b2b6-7395cc9c4f6a",
   "metadata": {},
   "outputs": [
    {
     "data": {
      "text/html": [
       "\n",
       "    <div>\n",
       "      <progress value='36' class='' max='48' style='width:300px; height:20px; vertical-align: middle;'></progress>\n",
       "      75.00% [36/48 11:42:07&lt;3:54:02 Epoch=35 | Train Loss=0.0050 | Val Acc=0.6646]\n",
       "    </div>\n",
       "    "
      ],
      "text/plain": [
       "<IPython.core.display.HTML object>"
      ]
     },
     "metadata": {},
     "output_type": "display_data"
    },
    {
     "data": {
      "text/html": [
       "\n",
       "    <div>\n",
       "      <progress value='0' class='' max='10009' style='width:300px; height:20px; vertical-align: middle;'></progress>\n",
       "      0.00% [0/10009 00:00&lt;?]\n",
       "    </div>\n",
       "    "
      ],
      "text/plain": [
       "<IPython.core.display.HTML object>"
      ]
     },
     "metadata": {},
     "output_type": "display_data"
    }
   ],
   "source": [
    "display(HTML(mb.main_bar.progress))\n",
    "display(HTML(mb.child.progress))"
   ]
  },
  {
   "cell_type": "code",
   "execution_count": 11,
   "id": "12c0fcd6-35d5-441a-806a-d3cc64e52c5e",
   "metadata": {},
   "outputs": [
    {
     "data": {
      "text/plain": [
       "[<matplotlib.lines.Line2D at 0x78fd17779a50>]"
      ]
     },
     "execution_count": 11,
     "metadata": {},
     "output_type": "execute_result"
    },
    {
     "data": {
      "image/png": "[encoded data removed]",
      "text/plain": [
       "<Figure size 640x480 with 1 Axes>"
      ]
     },
     "metadata": {},
     "output_type": "display_data"
    }
   ],
   "source": [
    "plt.plot(learning_rates)"
   ]
  },
  {
   "cell_type": "code",
   "execution_count": 12,
   "id": "fca0168f-b012-4232-bd06-16324e1ec560",
   "metadata": {},
   "outputs": [
    {
     "data": {
      "text/plain": [
       "[<matplotlib.lines.Line2D at 0x78fde1166da0>]"
      ]
     },
     "execution_count": 12,
     "metadata": {},
     "output_type": "execute_result"
    },
    {
     "data": {
      "image/png": "[encoded data removed]",
      "text/plain": [
       "<Figure size 640x480 with 1 Axes>"
      ]
     },
     "metadata": {},
     "output_type": "display_data"
    }
   ],
   "source": [
    "plt.plot(train_losses[50:])"
   ]
  },
  {
   "cell_type": "code",
   "execution_count": 13,
   "id": "2d3a2c8e-808f-48ac-a744-79a13c9d7c7d",
   "metadata": {},
   "outputs": [
    {
     "data": {
      "text/plain": [
       "[<matplotlib.lines.Line2D at 0x78fde1507dc0>]"
      ]
     },
     "execution_count": 13,
     "metadata": {},
     "output_type": "execute_result"
    },
    {
     "data": {
      "image/png": "[encoded data removed]",
      "text/plain": [
       "<Figure size 640x480 with 1 Axes>"
      ]
     },
     "metadata": {},
     "output_type": "display_data"
    }
   ],
   "source": [
    "plt.plot(valid_accs)"
   ]
  }
 ],
 "metadata": {
  "kernelspec": {
   "display_name": "Python 3 (ipykernel)",
   "language": "python",
   "name": "python3"
  },
  "language_info": {
   "codemirror_mode": {
    "name": "ipython",
    "version": 3
   },
   "file_extension": ".py",
   "mimetype": "text/x-python",
   "name": "python",
   "nbconvert_exporter": "python",
   "pygments_lexer": "ipython3",
   "version": "3.10.12"
  }
 },
 "nbformat": 4,
 "nbformat_minor": 5
}
