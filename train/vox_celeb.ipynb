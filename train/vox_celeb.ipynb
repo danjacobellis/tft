{
 "cells": [
  {
   "cell_type": "code",
   "execution_count": 1,
   "id": "12f030f8-c93a-496b-a75c-eb00395923cb",
   "metadata": {},
   "outputs": [],
   "source": [
    "import torch\n",
    "import torchaudio\n",
    "import numpy as np\n",
    "import matplotlib.pyplot as plt\n",
    "from types import SimpleNamespace\n",
    "from sklearn.metrics import average_precision_score\n",
    "from datasets import load_dataset, Audio\n",
    "from timm.optim import Mars\n",
    "from fastprogress import master_bar, progress_bar\n",
    "from torchvision.transforms.v2 import RandomCrop, CenterCrop, CutMix, MixUp\n",
    "from IPython.display import display, HTML\n",
    "from torch_audiomentations import Gain"
   ]
  },
  {
   "cell_type": "code",
   "execution_count": 2,
   "id": "bf7eed2f-5070-4b87-beda-ed01bb82d0c8",
   "metadata": {},
   "outputs": [],
   "source": [
    "torch.set_float32_matmul_precision('high')\n",
    "device=\"cuda:0\"\n",
    "dataset = load_dataset(\"danjacobellis/vox_celeb_v1\").cast_column('opus', Audio(decode=False))"
   ]
  },
  {
   "cell_type": "code",
   "execution_count": 3,
   "id": "b696feaf-01ff-4d76-b562-9d8d9b905fb1",
   "metadata": {},
   "outputs": [],
   "source": [
    "config = SimpleNamespace()\n",
    "# Training and optimizer config\n",
    "config.batch_size = 128\n",
    "config.steps_per_epoch = dataset['train'].num_rows//config.batch_size\n",
    "config.grad_accum_steps = 1\n",
    "config.max_lr = (config.batch_size/128)*6e-4\n",
    "config.min_lr = config.max_lr/100\n",
    "config.plot_update = 128\n",
    "config.epochs = 200\n",
    "config.lr_scale = 6\n",
    "config.lr_offset = 0.25\n",
    "config.lr_pow = 2\n",
    "config.weight_decay = 0.\n",
    "config.num_workers = 24\n",
    "config.crop_size = 2048*256\n",
    "\n",
    "# model config\n",
    "config.channels = 1\n",
    "config.J = 11\n",
    "config.embed_dim = 256\n",
    "config.dim_head = 32\n",
    "config.exp_ratio = 4.0\n",
    "config.classifier_num_classes = 1251"
   ]
  },
  {
   "cell_type": "code",
   "execution_count": 4,
   "id": "32328b3e-b482-4bb6-98d2-714f12cc24e5",
   "metadata": {},
   "outputs": [
    {
     "name": "stdout",
     "output_type": "stream",
     "text": [
      "0.0 \t wpt\n",
      "12.03328 \t ascan\n",
      "0.328448 \t pool\n",
      "0.321507 \t classifier\n"
     ]
    }
   ],
   "source": [
    "from pytorch_wavelets import DWT1DForward\n",
    "from tft.transforms import WPT1D\n",
    "from tft.models import TFTClassifier1D\n",
    "\n",
    "wt = DWT1DForward(J=1, mode='periodization', wave='bior4.4')\n",
    "wpt = WPT1D(wt,J=config.J).to(device)\n",
    "\n",
    "model = TFTClassifier1D(config,wpt).to(device)\n",
    "\n",
    "for name, module in model.named_children():\n",
    "    print(f\"{sum(p.numel() for p in module.parameters())/1e6} \\t {name}\")"
   ]
  },
  {
   "cell_type": "code",
   "execution_count": 5,
   "id": "24fc70cd-7595-4c92-b48b-19de388ec6e0",
   "metadata": {},
   "outputs": [],
   "source": [
    "mix_transforms = [\n",
    "    CutMix(num_classes=config.classifier_num_classes, alpha=1.),\n",
    "    MixUp(num_classes=config.classifier_num_classes, alpha=1.)\n",
    "]\n",
    "gain = Gain(\n",
    "    min_gain_in_db=-6.0,\n",
    "    max_gain_in_db=6.0,\n",
    "    p=1.0,\n",
    "    output_type='tensor'\n",
    ")\n",
    "rand_crop = RandomCrop(\n",
    "    size=(1,config.crop_size),\n",
    "    pad_if_needed=True,\n",
    ")\n",
    "cent_crop = CenterCrop(\n",
    "    size=(1,config.crop_size),\n",
    ")\n",
    "def train_collate_fn(batch):\n",
    "    B = len(batch)\n",
    "    x = torch.zeros((B, config.channels, 1, config.crop_size), dtype=torch.float)\n",
    "    y = []\n",
    "    for i_sample, sample in enumerate(batch):\n",
    "        y.append(sample['label']-1)\n",
    "        x_raw, fs = torchaudio.load(uri = sample['opus']['bytes'],normalize=False)\n",
    "        x[i_sample,:,:,:] = rand_crop(gain(x_raw.unsqueeze(0)).unsqueeze(0))\n",
    "    return x[:,:,0,:], y\n",
    "\n",
    "def valid_collate_fn(batch):\n",
    "    B = len(batch)\n",
    "    x = torch.zeros((B, config.channels, 1, config.crop_size), dtype=torch.float)\n",
    "    y = []\n",
    "    for i_sample, sample in enumerate(batch):\n",
    "        y.append(sample['label']-1)\n",
    "        x_raw, fs = torchaudio.load(uri = sample['opus']['bytes'],normalize=False)\n",
    "        x[i_sample,:,:,:] = cent_crop(x_raw.unsqueeze(0).unsqueeze(0))\n",
    "    return x[:,:,0,:], y"
   ]
  },
  {
   "cell_type": "code",
   "execution_count": 6,
   "id": "c4261d29-041a-4fb8-a151-ed36a1b2f28a",
   "metadata": {},
   "outputs": [],
   "source": [
    "optimizer = Mars(\n",
    "    params=model.parameters(),\n",
    "    lr=config.min_lr,\n",
    "    weight_decay=config.weight_decay,\n",
    "    caution=True\n",
    ")\n",
    "\n",
    "def EmPL(x):\n",
    "    return np.exp(-np.power(np.log(x), config.lr_pow))\n",
    "        \n",
    "def EmPL_sched(i_step, config):\n",
    "    x = i_step / (config.steps_per_epoch/config.plot_update)\n",
    "    sched = EmPL(x/(config.lr_scale*config.steps_per_epoch/config.plot_update)+config.lr_offset)\n",
    "    scale = config.max_lr\n",
    "    lr = scale * sched\n",
    "    return lr / config.min_lr\n",
    "    \n",
    "schedule = torch.optim.lr_scheduler.LambdaLR(\n",
    "    optimizer,\n",
    "    lr_lambda = lambda i_step: EmPL_sched(i_step, config),\n",
    ")"
   ]
  },
  {
   "cell_type": "code",
   "execution_count": 7,
   "id": "289e4961-56c8-4d4a-a718-627122ee2993",
   "metadata": {},
   "outputs": [],
   "source": [
    "# learning_rates = [optimizer.param_groups[0]['lr']]\n",
    "# i_step = 0\n",
    "# for i_epoch in range(config.epochs):\n",
    "#     for i_batch in range(config.steps_per_epoch):\n",
    "#         if (i_step+1) % config.plot_update == 0:\n",
    "#             schedule.step()\n",
    "#             learning_rates.append(optimizer.param_groups[0]['lr'])\n",
    "#         i_step+=1\n",
    "# import matplotlib.pyplot as plt\n",
    "# plt.plot(learning_rates)"
   ]
  },
  {
   "cell_type": "code",
   "execution_count": 8,
   "id": "c4610696-9552-4cde-9110-778c47116645",
   "metadata": {},
   "outputs": [
    {
     "data": {
      "text/html": [
       "\n",
       "<style>\n",
       "    /* Turns off some styling */\n",
       "    progress {\n",
       "        /* gets rid of default border in Firefox and Opera. */\n",
       "        border: none;\n",
       "        /* Needs to be in here for Safari polyfill so background images work as expected. */\n",
       "        background-size: auto;\n",
       "    }\n",
       "    progress:not([value]), progress:not([value])::-webkit-progress-bar {\n",
       "        background: repeating-linear-gradient(45deg, #7e7e7e, #7e7e7e 10px, #5c5c5c 10px, #5c5c5c 20px);\n",
       "    }\n",
       "    .progress-bar-interrupted, .progress-bar-interrupted::-webkit-progress-bar {\n",
       "        background: #F44336;\n",
       "    }\n",
       "</style>\n"
      ],
      "text/plain": [
       "<IPython.core.display.HTML object>"
      ]
     },
     "metadata": {},
     "output_type": "display_data"
    },
    {
     "data": {
      "text/html": [],
      "text/plain": [
       "<IPython.core.display.HTML object>"
      ]
     },
     "metadata": {},
     "output_type": "display_data"
    },
    {
     "data": {
      "image/png": "[encoded data removed]",
      "text/plain": [
       "<Figure size 600x400 with 1 Axes>"
      ]
     },
     "metadata": {},
     "output_type": "display_data"
    }
   ],
   "source": [
    "mb = master_bar(range(config.epochs))\n",
    "mb.names = ['per batch','smoothed']\n",
    "train_loss = []\n",
    "valid_acc = []\n",
    "learning_rates = [optimizer.param_groups[0]['lr']]\n",
    "i_step = 0\n",
    "for i_epoch in mb:\n",
    "    # training\n",
    "    model.train()\n",
    "    dataloader_train = torch.utils.data.DataLoader(\n",
    "        dataset['train'],\n",
    "        batch_size=config.batch_size,\n",
    "        shuffle=True,\n",
    "        num_workers=config.num_workers,\n",
    "        drop_last=True,\n",
    "        pin_memory=True,\n",
    "        collate_fn=train_collate_fn\n",
    "    )\n",
    "    pb = progress_bar(dataloader_train, parent=mb)\n",
    "    for i_batch, (x,y) in enumerate(pb):\n",
    "        x = x.unsqueeze(1).to(device)\n",
    "        y = torch.tensor(y).to(torch.long).to(device)\n",
    "        for mix_transform in mix_transforms:\n",
    "            x, y = mix_transform(x, y)\n",
    "        x = x[:,0]\n",
    "\n",
    "        logits = model(x)\n",
    "        loss = torch.nn.CrossEntropyLoss()(logits, y)\n",
    "\n",
    "        train_loss.append(loss.item())\n",
    "        loss.backward()\n",
    "        if (i_batch + 1) % config.grad_accum_steps == 0:\n",
    "            optimizer.step()\n",
    "            optimizer.zero_grad()\n",
    "\n",
    "        # plotting and learning rate update\n",
    "        if (i_step+1) % config.plot_update == 0:\n",
    "            plot_n = len(train_loss) // config.plot_update\n",
    "            smoothed_x = (0.5+torch.arange(plot_n)) * config.plot_update\n",
    "            smoothed_y = torch.tensor(train_loss).reshape(plot_n, -1).mean(dim=1)\n",
    "            train_x = range(len(train_loss))\n",
    "            train_y = train_loss\n",
    "            mb.update_graph([[train_x, np.log10(train_y)],[smoothed_x, np.log10(smoothed_y)]])\n",
    "\n",
    "            # lr update\n",
    "            schedule.step()\n",
    "            learning_rates.append(optimizer.param_groups[0]['lr'])\n",
    "    \n",
    "        i_step+=1\n",
    "        \n",
    "    # validation\n",
    "    model.eval()\n",
    "    valid_acc.append(0)\n",
    "    data_loader_valid = torch.utils.data.DataLoader(\n",
    "        dataset['validation'],\n",
    "        batch_size=config.batch_size,\n",
    "        shuffle=False,\n",
    "        num_workers=config.num_workers,\n",
    "        drop_last=False,\n",
    "        pin_memory=True,\n",
    "        collate_fn=valid_collate_fn\n",
    "    )\n",
    "    pb_valid = progress_bar(data_loader_valid, parent=mb)\n",
    "    for i_batch, (x, y) in enumerate(pb_valid):\n",
    "        x = x.to(device)\n",
    "        y = torch.tensor(y).to(torch.long).to(device)\n",
    "        with torch.no_grad():\n",
    "            logits = model(x)\n",
    "        valid_acc[i_epoch] += torch.sum(logits.argmax(dim=1) == y).item()\n",
    "    valid_acc[i_epoch] /= dataset['validation'].num_rows\n",
    "    mb.main_bar.comment = f'validation accuracy {valid_acc[i_epoch]:.4g}'\n",
    "\n",
    "    torch.save({\n",
    "        'i_epoch': i_epoch,\n",
    "        'learning_rates': learning_rates,\n",
    "        'smoothed_y': smoothed_y,\n",
    "        'valid_acc': valid_acc,\n",
    "        'config': config,\n",
    "        'model_state_dict': model.state_dict(),\n",
    "    }, f\"log_{device}.pth\")"
   ]
  },
  {
   "cell_type": "code",
   "execution_count": 9,
   "id": "58a38039-4188-4d56-a39f-38d7fbc9b2a4",
   "metadata": {},
   "outputs": [
    {
     "data": {
      "text/html": [
       "\n",
       "    <div>\n",
       "      <progress value='200' class='' max='200' style='width:300px; height:20px; vertical-align: middle;'></progress>\n",
       "      100.00% [200/200 12:36:17&lt;00:00 validation accuracy 0.1582]\n",
       "    </div>\n",
       "    "
      ],
      "text/plain": [
       "<IPython.core.display.HTML object>"
      ]
     },
     "metadata": {},
     "output_type": "display_data"
    },
    {
     "data": {
      "text/html": [
       "\n",
       "    <div>\n",
       "      <progress value='54' class='' max='54' style='width:300px; height:20px; vertical-align: middle;'></progress>\n",
       "      100.00% [54/54 00:09&lt;00:00]\n",
       "    </div>\n",
       "    "
      ],
      "text/plain": [
       "<IPython.core.display.HTML object>"
      ]
     },
     "metadata": {},
     "output_type": "display_data"
    }
   ],
   "source": [
    "display(HTML(mb.main_bar.progress))\n",
    "display(HTML(mb.child.progress))"
   ]
  },
  {
   "cell_type": "code",
   "execution_count": 10,
   "id": "dcf6d838-1c50-4998-917a-7c5e88858332",
   "metadata": {},
   "outputs": [
    {
     "data": {
      "text/plain": [
       "[<matplotlib.lines.Line2D at 0x7fd0b022add0>]"
      ]
     },
     "execution_count": 10,
     "metadata": {},
     "output_type": "execute_result"
    },
    {
     "data": {
      "image/png": "[encoded data removed]",
      "text/plain": [
       "<Figure size 640x480 with 1 Axes>"
      ]
     },
     "metadata": {},
     "output_type": "display_data"
    }
   ],
   "source": [
    "plt.plot(valid_acc)\n",
    "# plt.ylim([0.9,1.0])"
   ]
  },
  {
   "cell_type": "code",
   "execution_count": null,
   "id": "1f791be2-d611-49ed-905d-ac4ce4826999",
   "metadata": {},
   "outputs": [],
   "source": [
    "plt.semilogy(learning_rates)"
   ]
  }
 ],
 "metadata": {
  "kernelspec": {
   "display_name": "Python 3 (ipykernel)",
   "language": "python",
   "name": "python3"
  },
  "language_info": {
   "codemirror_mode": {
    "name": "ipython",
    "version": 3
   },
   "file_extension": ".py",
   "mimetype": "text/x-python",
   "name": "python",
   "nbconvert_exporter": "python",
   "pygments_lexer": "ipython3",
   "version": "3.10.12"
  }
 },
 "nbformat": 4,
 "nbformat_minor": 5
}
