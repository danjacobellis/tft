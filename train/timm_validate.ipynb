{
 "cells": [
  {
   "cell_type": "code",
   "execution_count": 1,
   "id": "8dcd046d-6188-4975-b631-8181c4315f5c",
   "metadata": {},
   "outputs": [
    {
     "name": "stderr",
     "output_type": "stream",
     "text": [
      "/home/dgj335/.local/lib/python3.10/site-packages/timm/models/registry.py:4: FutureWarning: Importing from timm.models.registry is deprecated, please import via timm.models\n",
      "  warnings.warn(f\"Importing from {__name__} is deprecated, please import via timm.models\", FutureWarning)\n"
     ]
    }
   ],
   "source": [
    "import pandas as pd\n",
    "import matplotlib.pyplot as plt\n",
    "import torch\n",
    "import tft2d\n",
    "import timm\n",
    "import PIL.Image\n",
    "from types import SimpleNamespace\n",
    "from torchvision.transforms.v2 import (\n",
    "    Compose, Resize, CenterCrop, Normalize, \n",
    "    PILToTensor, ToPILImage)\n",
    "from datasets import load_dataset\n",
    "from fastprogress.fastprogress import progress_bar"
   ]
  },
  {
   "cell_type": "code",
   "execution_count": 2,
   "id": "4744e793-dacc-4ec1-8d46-27539d6e4949",
   "metadata": {},
   "outputs": [],
   "source": [
    "device = 'cuda'\n",
    "config = SimpleNamespace()\n",
    "config.batch_size = 512\n",
    "config.num_workers = 12\n",
    "config.image_size = 288\n",
    "config.crop_size = 256\n",
    "config.channels = 3"
   ]
  },
  {
   "cell_type": "code",
   "execution_count": 3,
   "id": "b5408a23-ec28-401d-b506-3091f1c8bca0",
   "metadata": {},
   "outputs": [
    {
     "data": {
      "image/png": "[encoded data removed]",
      "text/plain": [
       "<Figure size 640x480 with 1 Axes>"
      ]
     },
     "metadata": {},
     "output_type": "display_data"
    }
   ],
   "source": [
    "checkpoint = torch.load(\"output/train/20241220-120937-tft2d-256/checkpoint-586.pth.tar\",map_location='cpu',weights_only=False)\n",
    "data = pd.read_csv('output/train/20241220-120937-tft2d-256/summary.csv')\n",
    "data.plot(x='epoch', y='eval_top1', legend=False, title='Validation Accuracy')\n",
    "plt.ylabel('Accuracy (%)')\n",
    "\n",
    "model = timm.create_model(\n",
    "    'tft2d',\n",
    "    pretrained=False,   \n",
    "    num_classes=1000,   # or the correct number from training\n",
    "    in_chans=3\n",
    ")\n",
    "missing, unexpected = model.load_state_dict(checkpoint['state_dict'], strict=True)\n",
    "model.to(device)\n",
    "model.eval();"
   ]
  },
  {
   "cell_type": "code",
   "execution_count": 4,
   "id": "739c6580-6622-4dfe-b4d1-5eafbf8fe30f",
   "metadata": {
    "scrolled": true
   },
   "outputs": [
    {
     "data": {
      "application/vnd.jupyter.widget-view+json": {
       "model_id": "992843e006ad401c86574fd842a721b9",
       "version_major": 2,
       "version_minor": 0
      },
      "text/plain": [
       "Resolving data files:   0%|          | 0/1024 [00:00<?, ?it/s]"
      ]
     },
     "metadata": {},
     "output_type": "display_data"
    },
    {
     "data": {
      "application/vnd.jupyter.widget-view+json": {
       "model_id": "ec18c290768343cd948a265ead0f0f6f",
       "version_major": 2,
       "version_minor": 0
      },
      "text/plain": [
       "Resolving data files:   0%|          | 0/64 [00:00<?, ?it/s]"
      ]
     },
     "metadata": {},
     "output_type": "display_data"
    }
   ],
   "source": [
    "dataset_valid = load_dataset('timm/imagenet-1k-wds',split='validation')"
   ]
  },
  {
   "cell_type": "code",
   "execution_count": 5,
   "id": "e90654af-39ac-4437-9ca2-5d1ed911eb7f",
   "metadata": {},
   "outputs": [],
   "source": [
    "cent_crop = Compose([\n",
    "    Resize(config.image_size,interpolation=PIL.Image.Resampling.LANCZOS),\n",
    "    CenterCrop(size=config.crop_size),\n",
    "    PILToTensor()\n",
    "])\n",
    "\n",
    "def valid_collate_fn(batch):\n",
    "    B = len(batch)\n",
    "    x = torch.zeros((B, config.channels, config.crop_size, config.crop_size), dtype=torch.uint8)\n",
    "    y = torch.zeros(B, dtype=torch.int)\n",
    "    for i_sample, sample in enumerate(batch):\n",
    "        y[i_sample] = sample['cls']\n",
    "        x[i_sample,:,:,:] = cent_crop(sample['jpg'].convert(\"RGB\"))\n",
    "    return (x,y)"
   ]
  },
  {
   "cell_type": "code",
   "execution_count": 6,
   "id": "e2d75fc3-7d36-4faa-9802-e9a36f29f2f1",
   "metadata": {},
   "outputs": [],
   "source": [
    "inet_normalize = Normalize(\n",
    "    mean=[0.485, 0.456, 0.406],\n",
    "    std=[0.229, 0.224, 0.225]\n",
    ")"
   ]
  },
  {
   "cell_type": "code",
   "execution_count": 7,
   "id": "03d50af7-cbb3-4d86-995d-31d994a4fed8",
   "metadata": {},
   "outputs": [
    {
     "data": {
      "text/html": [
       "\n",
       "<style>\n",
       "    /* Turns off some styling */\n",
       "    progress {\n",
       "        /* gets rid of default border in Firefox and Opera. */\n",
       "        border: none;\n",
       "        /* Needs to be in here for Safari polyfill so background images work as expected. */\n",
       "        background-size: auto;\n",
       "    }\n",
       "    progress:not([value]), progress:not([value])::-webkit-progress-bar {\n",
       "        background: repeating-linear-gradient(45deg, #7e7e7e, #7e7e7e 10px, #5c5c5c 10px, #5c5c5c 20px);\n",
       "    }\n",
       "    .progress-bar-interrupted, .progress-bar-interrupted::-webkit-progress-bar {\n",
       "        background: #F44336;\n",
       "    }\n",
       "</style>\n"
      ],
      "text/plain": [
       "<IPython.core.display.HTML object>"
      ]
     },
     "metadata": {},
     "output_type": "display_data"
    },
    {
     "data": {
      "text/html": [
       "\n",
       "    <div>\n",
       "      <progress value='98' class='' max='98' style='width:300px; height:20px; vertical-align: middle;'></progress>\n",
       "      100.00% [98/98 00:23&lt;00:00]\n",
       "    </div>\n",
       "    "
      ],
      "text/plain": [
       "<IPython.core.display.HTML object>"
      ]
     },
     "metadata": {},
     "output_type": "display_data"
    },
    {
     "data": {
      "text/plain": [
       "0.79412"
      ]
     },
     "execution_count": 7,
     "metadata": {},
     "output_type": "execute_result"
    }
   ],
   "source": [
    "n_correct = 0 \n",
    "data_loader_valid = torch.utils.data.DataLoader(\n",
    "    dataset_valid,\n",
    "    batch_size=config.batch_size,\n",
    "    shuffle=False,\n",
    "    num_workers=config.num_workers,\n",
    "    drop_last=False,\n",
    "    pin_memory=True,\n",
    "    collate_fn=valid_collate_fn\n",
    ")\n",
    "pb_valid = progress_bar(data_loader_valid)\n",
    "for i_batch, (x, y) in enumerate(pb_valid):\n",
    "    y = y.to(torch.long).to(device)\n",
    "    x = x.to(device).to(torch.float)/255\n",
    "    x = inet_normalize(x)\n",
    "    with torch.no_grad(), torch.amp.autocast(device_type=device):\n",
    "        logits = model(x)\n",
    "    n_correct += torch.sum(logits.argmax(dim=1) == y).item()\n",
    "\n",
    "n_correct/dataset_valid.num_rows"
   ]
  }
 ],
 "metadata": {
  "kernelspec": {
   "display_name": "Python 3 (ipykernel)",
   "language": "python",
   "name": "python3"
  },
  "language_info": {
   "codemirror_mode": {
    "name": "ipython",
    "version": 3
   },
   "file_extension": ".py",
   "mimetype": "text/x-python",
   "name": "python",
   "nbconvert_exporter": "python",
   "pygments_lexer": "ipython3",
   "version": "3.10.12"
  }
 },
 "nbformat": 4,
 "nbformat_minor": 5
}
