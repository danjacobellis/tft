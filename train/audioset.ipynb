{
 "cells": [
  {
   "cell_type": "code",
   "execution_count": 1,
   "id": "12f030f8-c93a-496b-a75c-eb00395923cb",
   "metadata": {},
   "outputs": [],
   "source": [
    "import torch\n",
    "import torchaudio\n",
    "import numpy as np\n",
    "from types import SimpleNamespace\n",
    "from collections import Counter\n",
    "from sklearn.metrics import average_precision_score\n",
    "from torch.utils.data import Sampler\n",
    "from datasets import load_dataset, Audio\n",
    "from timm.optim import Mars\n",
    "from fastprogress import master_bar, progress_bar\n",
    "from torchvision.transforms.v2 import RandomCrop, CenterCrop, CutMix, MixUp\n",
    "from torch_audiomentations import Gain"
   ]
  },
  {
   "cell_type": "code",
   "execution_count": 2,
   "id": "bf7eed2f-5070-4b87-beda-ed01bb82d0c8",
   "metadata": {},
   "outputs": [
    {
     "data": {
      "application/vnd.jupyter.widget-view+json": {
       "model_id": "d9fcf3520892411e9d8bf2c899acd3d4",
       "version_major": 2,
       "version_minor": 0
      },
      "text/plain": [
       "Resolving data files:   0%|          | 0/96 [00:00<?, ?it/s]"
      ]
     },
     "metadata": {},
     "output_type": "display_data"
    },
    {
     "data": {
      "application/vnd.jupyter.widget-view+json": {
       "model_id": "8fcac77222254cd7825fdc9823609b4e",
       "version_major": 2,
       "version_minor": 0
      },
      "text/plain": [
       "Resolving data files:   0%|          | 0/96 [00:00<?, ?it/s]"
      ]
     },
     "metadata": {},
     "output_type": "display_data"
    },
    {
     "data": {
      "application/vnd.jupyter.widget-view+json": {
       "model_id": "9efa3b59be3c462cbebe471e1ff93f5b",
       "version_major": 2,
       "version_minor": 0
      },
      "text/plain": [
       "Loading dataset shards:   0%|          | 0/117 [00:00<?, ?it/s]"
      ]
     },
     "metadata": {},
     "output_type": "display_data"
    }
   ],
   "source": [
    "torch.set_float32_matmul_precision('high')\n",
    "device=\"cuda:1\"\n",
    "\n",
    "audioset2M = load_dataset(\"danjacobellis/audioset_opus_24kbps\", split='train').cast_column('opus', Audio(decode=False))\n",
    "audioset20k = load_dataset(\"danjacobellis/audioset_opus_24kbps_balanced\").cast_column('opus', Audio(decode=False))\n",
    "\n",
    "labels_527 = list(set(sum([s['label'] for s in audioset20k['validation']], [])))\n",
    "def audioset_labels_632_to_527(sample):\n",
    "    label = sample['label']\n",
    "    label = [labels_527.index(l) for l in label if l in labels_527]\n",
    "    return {'label' : label}\n",
    "\n",
    "dataset_train = audioset2M.map(audioset_labels_632_to_527)\n",
    "dataset_valid = audioset20k['validation'].map(audioset_labels_632_to_527)\n",
    "\n",
    "counts = Counter(value for sublist in dataset_train['label'] for value in sublist)"
   ]
  },
  {
   "cell_type": "code",
   "execution_count": 3,
   "id": "b696feaf-01ff-4d76-b562-9d8d9b905fb1",
   "metadata": {},
   "outputs": [],
   "source": [
    "config = SimpleNamespace()\n",
    "# Training and optimizer config\n",
    "config.batch_size = 128\n",
    "config.steps_per_epoch = 1_000_000//config.batch_size\n",
    "config.grad_accum_steps = 1\n",
    "config.max_lr = (config.batch_size/128)*1e-4\n",
    "config.min_lr = config.max_lr/100\n",
    "config.plot_update = 128\n",
    "config.epochs = 200\n",
    "config.lr_scale = 1\n",
    "config.lr_offset = 0.3\n",
    "config.lr_pow = 4\n",
    "config.weight_decay = 0.\n",
    "config.num_workers = 24\n",
    "config.audio_len = 483840\n",
    "config.crop_size = 1024*256\n",
    "\n",
    "# model config\n",
    "config.channels = 1\n",
    "config.J = 10\n",
    "config.embed_dim = 256\n",
    "config.dim_head = 32\n",
    "config.exp_ratio = 4.0\n",
    "config.classifier_num_classes = 527"
   ]
  },
  {
   "cell_type": "code",
   "execution_count": 4,
   "id": "32328b3e-b482-4bb6-98d2-714f12cc24e5",
   "metadata": {},
   "outputs": [
    {
     "name": "stdout",
     "output_type": "stream",
     "text": [
      "0.0 \t wpt\n",
      "11.771136 \t ascan\n",
      "0.328448 \t pool\n",
      "0.135439 \t classifier\n"
     ]
    }
   ],
   "source": [
    "from pytorch_wavelets import DWT1DForward\n",
    "from tft.transforms import WPT1D\n",
    "from tft.models import TFTClassifier1D\n",
    "\n",
    "wt = DWT1DForward(J=1, mode='periodization', wave='bior4.4')\n",
    "wpt = WPT1D(wt,J=config.J).to(device)\n",
    "\n",
    "model = TFTClassifier1D(config,wpt).to(device)\n",
    "\n",
    "for name, module in model.named_children():\n",
    "    print(f\"{sum(p.numel() for p in module.parameters())/1e6} \\t {name}\")"
   ]
  },
  {
   "cell_type": "code",
   "execution_count": 5,
   "id": "24fc70cd-7595-4c92-b48b-19de388ec6e0",
   "metadata": {},
   "outputs": [],
   "source": [
    "mix_transforms = [\n",
    "    CutMix(num_classes=config.classifier_num_classes, alpha=1.),\n",
    "    MixUp(num_classes=config.classifier_num_classes, alpha=1.)\n",
    "]\n",
    "gain = Gain(\n",
    "    min_gain_in_db=-6.0,\n",
    "    max_gain_in_db=6.0,\n",
    "    p=1.0,\n",
    "    output_type='tensor'\n",
    ")\n",
    "rand_crop = RandomCrop(\n",
    "    size=(1,config.crop_size),\n",
    "    pad_if_needed=True,\n",
    ")\n",
    "cent_crop = CenterCrop(\n",
    "    size=(1,config.crop_size),\n",
    ")\n",
    "\n",
    "def train_collate_fn(batch):\n",
    "    B = len(batch)\n",
    "    x = torch.zeros((B, config.channels, 1, config.crop_size), dtype=torch.float)\n",
    "    y = []\n",
    "    for i_sample, sample in enumerate(batch):\n",
    "        y.append(sample['label'])\n",
    "        x_raw, fs = torchaudio.load(uri = sample['opus']['bytes'],normalize=False)\n",
    "        x[i_sample,:,:,:] = rand_crop(gain(x_raw.unsqueeze(0)).unsqueeze(0))\n",
    "    return x[:,:,0,:], y\n",
    "\n",
    "def valid_collate_fn(batch):\n",
    "    B = len(batch)\n",
    "    x = torch.zeros((B, config.channels, 1, config.crop_size), dtype=torch.float)\n",
    "    y = []\n",
    "    for i_sample, sample in enumerate(batch):\n",
    "        y.append(sample['label'])\n",
    "        x_raw, fs = torchaudio.load(uri = sample['opus']['bytes'],normalize=False)\n",
    "        x[i_sample,:,:,:] = cent_crop(x_raw.unsqueeze(0).unsqueeze(0))\n",
    "    return x[:,:,0,:], y\n",
    "\n",
    "def create_multi_hot_labels(batch_of_label_indices, num_classes):\n",
    "    batch_size = len(batch_of_label_indices)\n",
    "    labels = torch.zeros(batch_size, num_classes, dtype=torch.float32)\n",
    "    for i, sample_labels in enumerate(batch_of_label_indices):\n",
    "        indices = torch.tensor(sample_labels, dtype=torch.long)\n",
    "        labels[i].scatter_(0, indices, 1.0)\n",
    "    return labels\n",
    "\n",
    "class AudioSetSampler(Sampler):\n",
    "    def __init__(self, dataset, counts, labels, samples_per_epoch=1_000_000):\n",
    "        self.dataset = dataset\n",
    "        self.counts = counts\n",
    "        self.labels = labels\n",
    "        self.samples_per_epoch = samples_per_epoch\n",
    "        self.weights = self._calculate_weights()\n",
    "    def _calculate_weights(self):\n",
    "        weights = [0] * len(self.dataset)\n",
    "        for i, sample in enumerate(self.dataset):\n",
    "            sample_labels = sample['label']\n",
    "            if len(sample_labels) == 0:\n",
    "                weights[i] = 0  # Avoid division by zero for samples with no labels\n",
    "            else:\n",
    "                weight_sum = sum(1.0 / self.counts[label] for label in sample_labels)\n",
    "                weights[i] = 1.0 / weight_sum if weight_sum > 0 else 0\n",
    "        return weights\n",
    "    def __iter__(self):\n",
    "        sampled_indices = torch.multinomial(\n",
    "            torch.tensor(self.weights), \n",
    "            num_samples=self.samples_per_epoch, \n",
    "            replacement=False\n",
    "        )\n",
    "        return iter(sampled_indices.tolist())\n",
    "    def __len__(self):\n",
    "        return self.samples_per_epoch"
   ]
  },
  {
   "cell_type": "code",
   "execution_count": 6,
   "id": "c4261d29-041a-4fb8-a151-ed36a1b2f28a",
   "metadata": {},
   "outputs": [],
   "source": [
    "optimizer = Mars(\n",
    "    params=model.parameters(),\n",
    "    lr=config.min_lr,\n",
    "    weight_decay=config.weight_decay,\n",
    "    caution=True\n",
    ")\n",
    "\n",
    "def EmPL(x):\n",
    "    return np.exp(-np.power(np.log(x), config.lr_pow))\n",
    "        \n",
    "def EmPL_sched(i_step, config):\n",
    "    x = i_step / (config.steps_per_epoch/config.plot_update)\n",
    "    sched = EmPL(x/(config.lr_scale*config.steps_per_epoch/config.plot_update)+config.lr_offset)\n",
    "    scale = config.max_lr\n",
    "    lr = scale * sched\n",
    "    return lr / config.min_lr\n",
    "    \n",
    "schedule = torch.optim.lr_scheduler.LambdaLR(\n",
    "    optimizer,\n",
    "    lr_lambda = lambda i_step: EmPL_sched(i_step, config),\n",
    ")"
   ]
  },
  {
   "cell_type": "code",
   "execution_count": null,
   "id": "289e4961-56c8-4d4a-a718-627122ee2993",
   "metadata": {},
   "outputs": [],
   "source": [
    "# learning_rates = [optimizer.param_groups[0]['lr']]\n",
    "# i_step = 0\n",
    "# for i_epoch in range(config.epochs):\n",
    "#     for i_batch in range(config.steps_per_epoch):\n",
    "#         if (i_step+1) % config.plot_update == 0:\n",
    "#             schedule.step()\n",
    "#             learning_rates.append(optimizer.param_groups[0]['lr'])\n",
    "#         i_step+=1\n",
    "# import matplotlib.pyplot as plt\n",
    "# plt.plot(learning_rates)"
   ]
  },
  {
   "cell_type": "code",
   "execution_count": null,
   "id": "c4610696-9552-4cde-9110-778c47116645",
   "metadata": {},
   "outputs": [
    {
     "data": {
      "text/html": [
       "\n",
       "<style>\n",
       "    /* Turns off some styling */\n",
       "    progress {\n",
       "        /* gets rid of default border in Firefox and Opera. */\n",
       "        border: none;\n",
       "        /* Needs to be in here for Safari polyfill so background images work as expected. */\n",
       "        background-size: auto;\n",
       "    }\n",
       "    progress:not([value]), progress:not([value])::-webkit-progress-bar {\n",
       "        background: repeating-linear-gradient(45deg, #7e7e7e, #7e7e7e 10px, #5c5c5c 10px, #5c5c5c 20px);\n",
       "    }\n",
       "    .progress-bar-interrupted, .progress-bar-interrupted::-webkit-progress-bar {\n",
       "        background: #F44336;\n",
       "    }\n",
       "</style>\n"
      ],
      "text/plain": [
       "<IPython.core.display.HTML object>"
      ]
     },
     "metadata": {},
     "output_type": "display_data"
    },
    {
     "data": {
      "text/html": [
       "\n",
       "    <div>\n",
       "      <progress value='0' class='' max='200' style='width:300px; height:20px; vertical-align: middle;'></progress>\n",
       "      0.00% [0/200 00:00&lt;?]\n",
       "    </div>\n",
       "    \n",
       "\n",
       "\n",
       "    <div>\n",
       "      <progress value='139' class='' max='7812' style='width:300px; height:20px; vertical-align: middle;'></progress>\n",
       "      1.78% [139/7812 00:28&lt;26:26]\n",
       "    </div>\n",
       "    "
      ],
      "text/plain": [
       "<IPython.core.display.HTML object>"
      ]
     },
     "metadata": {},
     "output_type": "display_data"
    },
    {
     "data": {
      "image/png": "[encoded data removed]",
      "text/plain": [
       "<Figure size 600x400 with 1 Axes>"
      ]
     },
     "metadata": {},
     "output_type": "display_data"
    }
   ],
   "source": [
    "mb = master_bar(range(config.epochs))\n",
    "mb.names = ['per batch','smoothed']\n",
    "train_loss = []\n",
    "mAP = []\n",
    "learning_rates = [optimizer.param_groups[0]['lr']]\n",
    "i_step = 0\n",
    "for i_epoch in mb:\n",
    "    # training\n",
    "    model.train()\n",
    "    sampler = AudioSetSampler(dataset_train, counts, labels_527)\n",
    "    dataloader_train = torch.utils.data.DataLoader(\n",
    "        dataset_train,\n",
    "        batch_size=config.batch_size,\n",
    "        # shuffle=True,\n",
    "        sampler=sampler,\n",
    "        num_workers=config.num_workers,\n",
    "        drop_last=True,\n",
    "        pin_memory=True,\n",
    "        collate_fn=train_collate_fn\n",
    "    )\n",
    "    pb = progress_bar(dataloader_train, parent=mb)\n",
    "    for i_batch, (x,y) in enumerate(pb):\n",
    "        x = x.unsqueeze(1).to(device)\n",
    "        y = create_multi_hot_labels(y, config.classifier_num_classes).to(device)\n",
    "        for mix_transform in mix_transforms:\n",
    "            x, y = mix_transform(x, y)\n",
    "        x = x[:,0]\n",
    "        logits = model(x)\n",
    "        loss = torch.nn.BCEWithLogitsLoss()(logits, y)\n",
    "\n",
    "        train_loss.append(loss.item())\n",
    "        loss.backward()\n",
    "        if (i_batch + 1) % config.grad_accum_steps == 0:\n",
    "            optimizer.step()\n",
    "            optimizer.zero_grad()\n",
    "\n",
    "        # plotting and learning rate update\n",
    "        if (i_step+1) % config.plot_update == 0:\n",
    "            plot_n = len(train_loss) // config.plot_update\n",
    "            smoothed_x = (0.5+torch.arange(plot_n)) * config.plot_update\n",
    "            smoothed_y = torch.tensor(train_loss).reshape(plot_n, -1).mean(dim=1)\n",
    "            train_x = range(len(train_loss))\n",
    "            train_y = train_loss\n",
    "            mb.update_graph([[train_x, np.log10(train_y)],[smoothed_x, np.log10(smoothed_y)]])\n",
    "\n",
    "            # lr update\n",
    "            schedule.step()\n",
    "            learning_rates.append(optimizer.param_groups[0]['lr'])\n",
    "    \n",
    "        i_step+=1\n",
    "        \n",
    "    model.eval()\n",
    "    all_logits = []\n",
    "    all_labels = []\n",
    "    data_loader_valid = torch.utils.data.DataLoader(\n",
    "        dataset_valid,\n",
    "        batch_size=config.batch_size,\n",
    "        shuffle=False,\n",
    "        num_workers=config.num_workers,\n",
    "        drop_last=False,\n",
    "        pin_memory=True,\n",
    "        collate_fn=valid_collate_fn\n",
    "    )\n",
    "    pb_valid = progress_bar(data_loader_valid, parent=mb)\n",
    "    for i_batch, (x, y) in enumerate(pb_valid):\n",
    "        x = x.to(device)\n",
    "        y = create_multi_hot_labels(y, config.classifier_num_classes).to(device)\n",
    "        with torch.no_grad():\n",
    "            logits = model(x)\n",
    "        all_logits.append(logits.cpu())\n",
    "        all_labels.append(y.cpu())\n",
    "    all_logits = torch.cat(all_logits, dim=0)\n",
    "    all_labels = torch.cat(all_labels, dim=0)\n",
    "    all_probs = all_logits.sigmoid().numpy()\n",
    "    all_labels_np = all_labels.numpy()    \n",
    "    ap_per_class = []\n",
    "    num_classes = all_probs.shape[1]\n",
    "    labels_per_class = np.sum(all_labels_np, axis=0)\n",
    "    for class_idx in range(num_classes):\n",
    "        if labels_per_class[class_idx] == 0:\n",
    "            ap = 0.0\n",
    "        else:\n",
    "            ap = average_precision_score(all_labels_np[:, class_idx],\n",
    "                                         all_probs[:, class_idx])\n",
    "        ap_per_class.append(ap)\n",
    "    mAP_value = np.mean(ap_per_class)\n",
    "    mAP.append(mAP_value)\n",
    "    mb.main_bar.comment = f'mAP {mAP_value:.4g}'\n",
    "\n",
    "    torch.save({\n",
    "        'i_epoch': i_epoch,\n",
    "        'learning_rates': learning_rates,\n",
    "        'smoothed_y': smoothed_y,\n",
    "        'mAP': mAP,\n",
    "        'config': config,\n",
    "        'model_state_dict': model.state_dict(),\n",
    "    }, f\"log_{device}.pth\")"
   ]
  },
  {
   "cell_type": "code",
   "execution_count": null,
   "id": "a8f2ec16-9547-4717-8178-57fe57647293",
   "metadata": {},
   "outputs": [],
   "source": [
    "from IPython.display import display, HTML\n",
    "import matplotlib.pyplot as plt\n",
    "display(HTML(mb.main_bar.progress))\n",
    "display(HTML(mb.child.progress))"
   ]
  },
  {
   "cell_type": "code",
   "execution_count": null,
   "id": "488fabc0-5c8b-413c-ae9d-810c5ae03d45",
   "metadata": {},
   "outputs": [],
   "source": [
    "plt.plot(mAP)"
   ]
  },
  {
   "cell_type": "code",
   "execution_count": null,
   "id": "a7ae3e3a-6204-4a05-82b1-64eb7e04a319",
   "metadata": {},
   "outputs": [],
   "source": [
    "plt.semilogy(learning_rates)"
   ]
  },
  {
   "cell_type": "code",
   "execution_count": null,
   "id": "1e20bc3f-a45a-42ce-bef3-fc86abc58fe6",
   "metadata": {},
   "outputs": [],
   "source": [
    "plt.semilogy(smoothed_y)\n",
    "plt.ylim([0,0.01])"
   ]
  },
  {
   "cell_type": "code",
   "execution_count": null,
   "id": "93a92dbe-3bdb-419c-adba-927fa9c7f1ba",
   "metadata": {},
   "outputs": [],
   "source": [
    "dataset_valid = load_dataset(\"danjacobellis/audioset_opus_24kbps_balanced\",split='validation')"
   ]
  }
 ],
 "metadata": {
  "kernelspec": {
   "display_name": "Python 3 (ipykernel)",
   "language": "python",
   "name": "python3"
  },
  "language_info": {
   "codemirror_mode": {
    "name": "ipython",
    "version": 3
   },
   "file_extension": ".py",
   "mimetype": "text/x-python",
   "name": "python",
   "nbconvert_exporter": "python",
   "pygments_lexer": "ipython3",
   "version": "3.10.12"
  }
 },
 "nbformat": 4,
 "nbformat_minor": 5
}
