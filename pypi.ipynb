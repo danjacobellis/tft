{
 "cells": [
  {
   "cell_type": "code",
   "execution_count": 17,
   "id": "fb65f1f8-a553-4eff-9d12-0dea29163ed4",
   "metadata": {},
   "outputs": [],
   "source": [
    "!rm -rf dist/"
   ]
  },
  {
   "cell_type": "code",
   "execution_count": 18,
   "id": "02267cda-db9e-4461-878e-17e419348107",
   "metadata": {},
   "outputs": [
    {
     "name": "stdout",
     "output_type": "stream",
     "text": [
      "\u001b[1m* Creating virtualenv isolated environment...\u001b[0m\n",
      "\u001b[1m* Installing packages in isolated environment... (setuptools>=42, wheel)\u001b[0m\n",
      "\u001b[1m* Getting build dependencies for sdist...\u001b[0m\n",
      "/tmp/build-env-_1zyv2qn/lib/python3.10/site-packages/setuptools/config/expand.py:125: SetuptoolsWarning: File '/home/dgj335/danjacobellis/tft/LICENSE' cannot be found\n",
      "  return '\\n'.join(\n",
      "running egg_info\n",
      "writing src/tft.egg-info/PKG-INFO\n",
      "writing dependency_links to src/tft.egg-info/dependency_links.txt\n",
      "writing requirements to src/tft.egg-info/requires.txt\n",
      "writing top-level names to src/tft.egg-info/top_level.txt\n",
      "reading manifest file 'src/tft.egg-info/SOURCES.txt'\n",
      "writing manifest file 'src/tft.egg-info/SOURCES.txt'\n",
      "\u001b[1m* Building sdist...\u001b[0m\n",
      "/tmp/build-env-_1zyv2qn/lib/python3.10/site-packages/setuptools/config/expand.py:125: SetuptoolsWarning: File '/home/dgj335/danjacobellis/tft/LICENSE' cannot be found\n",
      "  return '\\n'.join(\n",
      "running sdist\n",
      "running egg_info\n",
      "writing src/tft.egg-info/PKG-INFO\n",
      "writing dependency_links to src/tft.egg-info/dependency_links.txt\n",
      "writing requirements to src/tft.egg-info/requires.txt\n",
      "writing top-level names to src/tft.egg-info/top_level.txt\n",
      "reading manifest file 'src/tft.egg-info/SOURCES.txt'\n",
      "writing manifest file 'src/tft.egg-info/SOURCES.txt'\n",
      "running check\n",
      "creating tft-0.0.4\n",
      "creating tft-0.0.4/src/tft\n",
      "creating tft-0.0.4/src/tft.egg-info\n",
      "copying files to tft-0.0.4...\n",
      "copying README.md -> tft-0.0.4\n",
      "copying pyproject.toml -> tft-0.0.4\n",
      "copying src/tft/__init__.py -> tft-0.0.4/src/tft\n",
      "copying src/tft/models.py -> tft-0.0.4/src/tft\n",
      "copying src/tft/transforms.py -> tft-0.0.4/src/tft\n",
      "copying src/tft/utils.py -> tft-0.0.4/src/tft\n",
      "copying src/tft.egg-info/PKG-INFO -> tft-0.0.4/src/tft.egg-info\n",
      "copying src/tft.egg-info/SOURCES.txt -> tft-0.0.4/src/tft.egg-info\n",
      "copying src/tft.egg-info/dependency_links.txt -> tft-0.0.4/src/tft.egg-info\n",
      "copying src/tft.egg-info/requires.txt -> tft-0.0.4/src/tft.egg-info\n",
      "copying src/tft.egg-info/top_level.txt -> tft-0.0.4/src/tft.egg-info\n",
      "copying src/tft.egg-info/SOURCES.txt -> tft-0.0.4/src/tft.egg-info\n",
      "Writing tft-0.0.4/setup.cfg\n",
      "Creating tar archive\n",
      "removing 'tft-0.0.4' (and everything under it)\n",
      "\u001b[1m* Building wheel from sdist\u001b[0m\n",
      "\u001b[1m* Creating virtualenv isolated environment...\u001b[0m\n",
      "\u001b[1m* Installing packages in isolated environment... (setuptools>=42, wheel)\u001b[0m\n",
      "\u001b[1m* Getting build dependencies for wheel...\u001b[0m\n",
      "/tmp/build-env-ci50ccxh/lib/python3.10/site-packages/setuptools/config/expand.py:125: SetuptoolsWarning: File '/tmp/build-via-sdist-m9hj_q_6/tft-0.0.4/LICENSE' cannot be found\n",
      "  return '\\n'.join(\n",
      "running egg_info\n",
      "writing src/tft.egg-info/PKG-INFO\n",
      "writing dependency_links to src/tft.egg-info/dependency_links.txt\n",
      "writing requirements to src/tft.egg-info/requires.txt\n",
      "writing top-level names to src/tft.egg-info/top_level.txt\n",
      "reading manifest file 'src/tft.egg-info/SOURCES.txt'\n",
      "writing manifest file 'src/tft.egg-info/SOURCES.txt'\n",
      "\u001b[1m* Building wheel...\u001b[0m\n",
      "/tmp/build-env-ci50ccxh/lib/python3.10/site-packages/setuptools/config/expand.py:125: SetuptoolsWarning: File '/tmp/build-via-sdist-m9hj_q_6/tft-0.0.4/LICENSE' cannot be found\n",
      "  return '\\n'.join(\n",
      "running bdist_wheel\n",
      "running build\n",
      "running build_py\n",
      "creating build/lib/tft\n",
      "copying src/tft/models.py -> build/lib/tft\n",
      "copying src/tft/__init__.py -> build/lib/tft\n",
      "copying src/tft/utils.py -> build/lib/tft\n",
      "copying src/tft/transforms.py -> build/lib/tft\n",
      "running egg_info\n",
      "writing src/tft.egg-info/PKG-INFO\n",
      "writing dependency_links to src/tft.egg-info/dependency_links.txt\n",
      "writing requirements to src/tft.egg-info/requires.txt\n",
      "writing top-level names to src/tft.egg-info/top_level.txt\n",
      "reading manifest file 'src/tft.egg-info/SOURCES.txt'\n",
      "writing manifest file 'src/tft.egg-info/SOURCES.txt'\n",
      "installing to build/bdist.linux-x86_64/wheel\n",
      "running install\n",
      "running install_lib\n",
      "creating build/bdist.linux-x86_64/wheel\n",
      "creating build/bdist.linux-x86_64/wheel/tft\n",
      "copying build/lib/tft/models.py -> build/bdist.linux-x86_64/wheel/./tft\n",
      "copying build/lib/tft/__init__.py -> build/bdist.linux-x86_64/wheel/./tft\n",
      "copying build/lib/tft/utils.py -> build/bdist.linux-x86_64/wheel/./tft\n",
      "copying build/lib/tft/transforms.py -> build/bdist.linux-x86_64/wheel/./tft\n",
      "running install_egg_info\n",
      "Copying src/tft.egg-info to build/bdist.linux-x86_64/wheel/./tft-0.0.4-py3.10.egg-info\n",
      "running install_scripts\n",
      "creating build/bdist.linux-x86_64/wheel/tft-0.0.4.dist-info/WHEEL\n",
      "creating '/home/dgj335/danjacobellis/tft/dist/.tmp-est6m61v/tft-0.0.4-py3-none-any.whl' and adding 'build/bdist.linux-x86_64/wheel' to it\n",
      "adding 'tft/__init__.py'\n",
      "adding 'tft/models.py'\n",
      "adding 'tft/transforms.py'\n",
      "adding 'tft/utils.py'\n",
      "adding 'tft-0.0.4.dist-info/METADATA'\n",
      "adding 'tft-0.0.4.dist-info/WHEEL'\n",
      "adding 'tft-0.0.4.dist-info/top_level.txt'\n",
      "adding 'tft-0.0.4.dist-info/RECORD'\n",
      "removing build/bdist.linux-x86_64/wheel\n",
      "\u001b[1m\u001b[92mSuccessfully built \u001b[4mtft-0.0.4.tar.gz\u001b[0m\u001b[1m\u001b[92m and \u001b[4mtft-0.0.4-py3-none-any.whl\u001b[0m\u001b[1m\u001b[92m\u001b[0m\n"
     ]
    }
   ],
   "source": [
    "!python3 -m build"
   ]
  },
  {
   "cell_type": "code",
   "execution_count": 19,
   "id": "939498da-b450-4287-8ae0-4f77f6749de6",
   "metadata": {},
   "outputs": [
    {
     "name": "stdout",
     "output_type": "stream",
     "text": [
      "Uploading distributions to https://upload.pypi.org/legacy/\n",
      "Uploading tft-0.0.4-py3-none-any.whl\n",
      "\u001b[2K\u001b[35m100%\u001b[0m \u001b[90m━━━━━━━━━━━━━━━━━━━━━━━━━━━━━━━━━━━━━━━━\u001b[0m \u001b[32m5.8/5.8 kB\u001b[0m • \u001b[33m00:00\u001b[0m • \u001b[31m?\u001b[0m\n",
      "\u001b[?25hUploading tft-0.0.4.tar.gz\n",
      "\u001b[2K\u001b[35m100%\u001b[0m \u001b[90m━━━━━━━━━━━━━━━━━━━━━━━━━━━━━━━━━━━━━━━━\u001b[0m \u001b[32m5.4/5.4 kB\u001b[0m • \u001b[33m00:00\u001b[0m • \u001b[31m?\u001b[0m\n",
      "\u001b[?25h\n",
      "\u001b[32mView at:\u001b[0m\n",
      "https://pypi.org/project/tft/0.0.4/\n"
     ]
    }
   ],
   "source": [
    "!twine upload dist/*"
   ]
  },
  {
   "cell_type": "code",
   "execution_count": 20,
   "id": "c826f15c-6598-4d65-a7c5-a8d03f71e8d1",
   "metadata": {},
   "outputs": [
    {
     "name": "stdout",
     "output_type": "stream",
     "text": [
      "Defaulting to user installation because normal site-packages is not writeable\n",
      "Requirement already satisfied: tft in /home/dgj335/.local/lib/python3.10/site-packages (0.0.3)\n",
      "Requirement already satisfied: torch in /home/dgj335/.local/lib/python3.10/site-packages (from tft) (2.5.1)\n",
      "Requirement already satisfied: einops in /home/dgj335/.local/lib/python3.10/site-packages (from tft) (0.8.0)\n",
      "Requirement already satisfied: PyWavelets in /home/dgj335/.local/lib/python3.10/site-packages (from tft) (1.6.0)\n",
      "Requirement already satisfied: pytorch-wavelets in /home/dgj335/.local/lib/python3.10/site-packages (from tft) (1.3.0)\n",
      "Requirement already satisfied: numpy in /usr/local/lib/python3.10/dist-packages (from pytorch-wavelets->tft) (1.26.4)\n",
      "Requirement already satisfied: six in /usr/lib/python3/dist-packages (from pytorch-wavelets->tft) (1.16.0)\n",
      "Requirement already satisfied: filelock in /usr/local/lib/python3.10/dist-packages/filelock-3.13.1-py3.10.egg (from torch->tft) (3.13.1)\n",
      "Requirement already satisfied: typing-extensions>=4.8.0 in /usr/local/lib/python3.10/dist-packages/typing_extensions-4.10.0rc1-py3.10.egg (from torch->tft) (4.10.0rc1)\n",
      "Requirement already satisfied: networkx in /usr/local/lib/python3.10/dist-packages/networkx-3.2.1-py3.10.egg (from torch->tft) (3.2.1)\n",
      "Requirement already satisfied: jinja2 in /home/dgj335/.local/lib/python3.10/site-packages (from torch->tft) (3.1.4)\n",
      "Requirement already satisfied: fsspec in /usr/local/lib/python3.10/dist-packages (from torch->tft) (2023.10.0)\n",
      "Requirement already satisfied: nvidia-cuda-nvrtc-cu12==12.4.127 in /home/dgj335/.local/lib/python3.10/site-packages (from torch->tft) (12.4.127)\n",
      "Requirement already satisfied: nvidia-cuda-runtime-cu12==12.4.127 in /home/dgj335/.local/lib/python3.10/site-packages (from torch->tft) (12.4.127)\n",
      "Requirement already satisfied: nvidia-cuda-cupti-cu12==12.4.127 in /home/dgj335/.local/lib/python3.10/site-packages (from torch->tft) (12.4.127)\n",
      "Requirement already satisfied: nvidia-cudnn-cu12==9.1.0.70 in /home/dgj335/.local/lib/python3.10/site-packages (from torch->tft) (9.1.0.70)\n",
      "Requirement already satisfied: nvidia-cublas-cu12==12.4.5.8 in /home/dgj335/.local/lib/python3.10/site-packages (from torch->tft) (12.4.5.8)\n",
      "Requirement already satisfied: nvidia-cufft-cu12==11.2.1.3 in /home/dgj335/.local/lib/python3.10/site-packages (from torch->tft) (11.2.1.3)\n",
      "Requirement already satisfied: nvidia-curand-cu12==10.3.5.147 in /home/dgj335/.local/lib/python3.10/site-packages (from torch->tft) (10.3.5.147)\n",
      "Requirement already satisfied: nvidia-cusolver-cu12==11.6.1.9 in /home/dgj335/.local/lib/python3.10/site-packages (from torch->tft) (11.6.1.9)\n",
      "Requirement already satisfied: nvidia-cusparse-cu12==12.3.1.170 in /home/dgj335/.local/lib/python3.10/site-packages (from torch->tft) (12.3.1.170)\n",
      "Requirement already satisfied: nvidia-nccl-cu12==2.21.5 in /home/dgj335/.local/lib/python3.10/site-packages (from torch->tft) (2.21.5)\n",
      "Requirement already satisfied: nvidia-nvtx-cu12==12.4.127 in /home/dgj335/.local/lib/python3.10/site-packages (from torch->tft) (12.4.127)\n",
      "Requirement already satisfied: nvidia-nvjitlink-cu12==12.4.127 in /home/dgj335/.local/lib/python3.10/site-packages (from torch->tft) (12.4.127)\n",
      "Requirement already satisfied: triton==3.1.0 in /home/dgj335/.local/lib/python3.10/site-packages (from torch->tft) (3.1.0)\n",
      "Requirement already satisfied: sympy==1.13.1 in /home/dgj335/.local/lib/python3.10/site-packages (from torch->tft) (1.13.1)\n",
      "Requirement already satisfied: mpmath<1.4,>=1.1.0 in /usr/local/lib/python3.10/dist-packages/mpmath-1.3.0-py3.10.egg (from sympy==1.13.1->torch->tft) (1.3.0)\n",
      "Requirement already satisfied: MarkupSafe>=2.0 in /usr/lib/python3/dist-packages (from jinja2->torch->tft) (2.0.1)\n"
     ]
    }
   ],
   "source": [
    "!pip install --upgrade tft"
   ]
  },
  {
   "cell_type": "code",
   "execution_count": null,
   "id": "c0e1c7e1-800f-4884-9d8b-8051616817d5",
   "metadata": {},
   "outputs": [],
   "source": []
  }
 ],
 "metadata": {
  "kernelspec": {
   "display_name": "Python 3 (ipykernel)",
   "language": "python",
   "name": "python3"
  },
  "language_info": {
   "codemirror_mode": {
    "name": "ipython",
    "version": 3
   },
   "file_extension": ".py",
   "mimetype": "text/x-python",
   "name": "python",
   "nbconvert_exporter": "python",
   "pygments_lexer": "ipython3",
   "version": "3.10.12"
  }
 },
 "nbformat": 4,
 "nbformat_minor": 5
}
