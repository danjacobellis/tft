{
 "cells": [
  {
   "cell_type": "code",
   "execution_count": 23,
   "id": "12f030f8-c93a-496b-a75c-eb00395923cb",
   "metadata": {},
   "outputs": [],
   "source": [
    "import torch\n",
    "import torchaudio\n",
    "import numpy as np\n",
    "import matplotlib.pyplot as plt\n",
    "import einops\n",
    "from types import SimpleNamespace\n",
    "from sklearn.metrics import average_precision_score\n",
    "from datasets import load_dataset, Audio\n",
    "from timm.optim import Adan\n",
    "from fastprogress import master_bar, progress_bar\n",
    "from torchvision.transforms.v2 import RandomCrop, CenterCrop, CutMix, MixUp\n",
    "from IPython.display import display, HTML\n",
    "from tft.aug import crop_1d\n",
    "from tft.transforms import strfft"
   ]
  },
  {
   "cell_type": "code",
   "execution_count": 2,
   "id": "bf7eed2f-5070-4b87-beda-ed01bb82d0c8",
   "metadata": {},
   "outputs": [
    {
     "data": {
      "application/vnd.jupyter.widget-view+json": {
       "model_id": "31984e8b900546358509a9eb6b996963",
       "version_major": 2,
       "version_minor": 0
      },
      "text/plain": [
       "README.md:   0%|          | 0.00/524 [00:00<?, ?B/s]"
      ]
     },
     "metadata": {},
     "output_type": "display_data"
    },
    {
     "data": {
      "application/vnd.jupyter.widget-view+json": {
       "model_id": "76891db5467343ecb6723ec2bf3e1cc0",
       "version_major": 2,
       "version_minor": 0
      },
      "text/plain": [
       "train-00000-of-00001.parquet:   0%|          | 0.00/20.8M [00:00<?, ?B/s]"
      ]
     },
     "metadata": {},
     "output_type": "display_data"
    },
    {
     "data": {
      "application/vnd.jupyter.widget-view+json": {
       "model_id": "f577bd30a7234ace84f0062f78c97efa",
       "version_major": 2,
       "version_minor": 0
      },
      "text/plain": [
       "validation-00000-of-00001.parquet:   0%|          | 0.00/5.28M [00:00<?, ?B/s]"
      ]
     },
     "metadata": {},
     "output_type": "display_data"
    },
    {
     "data": {
      "application/vnd.jupyter.widget-view+json": {
       "model_id": "fef8964a316f4f328725923bf5ae6a70",
       "version_major": 2,
       "version_minor": 0
      },
      "text/plain": [
       "Generating train split:   0%|          | 0/1600 [00:00<?, ? examples/s]"
      ]
     },
     "metadata": {},
     "output_type": "display_data"
    },
    {
     "data": {
      "application/vnd.jupyter.widget-view+json": {
       "model_id": "c1bbc271828e4f4db59e0b86588a347e",
       "version_major": 2,
       "version_minor": 0
      },
      "text/plain": [
       "Generating validation split:   0%|          | 0/400 [00:00<?, ? examples/s]"
      ]
     },
     "metadata": {},
     "output_type": "display_data"
    }
   ],
   "source": [
    "torch.set_float32_matmul_precision('high')\n",
    "device=\"cuda:3\"\n",
    "dataset = load_dataset(\"danjacobellis/esc_50\").cast_column('opus', Audio(decode=False))"
   ]
  },
  {
   "cell_type": "code",
   "execution_count": 33,
   "id": "b696feaf-01ff-4d76-b562-9d8d9b905fb1",
   "metadata": {},
   "outputs": [],
   "source": [
    "config = SimpleNamespace()\n",
    "# Training and optimizer config\n",
    "config.batch_size = 128\n",
    "config.steps_per_epoch = dataset['train'].num_rows//config.batch_size\n",
    "config.grad_accum_steps = 1\n",
    "config.max_lr = (config.batch_size/256)*2e-2\n",
    "config.lr_pow = 1.0\n",
    "config.plot_update = 8\n",
    "config.epochs = 10000\n",
    "config.steps = config.epochs*config.steps_per_epoch\n",
    "\n",
    "config.weight_decay = 0.\n",
    "config.num_workers = 24\n",
    "config.crop_size = 1024*256\n",
    "\n",
    "# model config\n",
    "config.channels = 1\n",
    "config.classifier_num_classes = 50\n",
    "config.checkpoint=False"
   ]
  },
  {
   "cell_type": "code",
   "execution_count": 34,
   "id": "32328b3e-b482-4bb6-98d2-714f12cc24e5",
   "metadata": {},
   "outputs": [
    {
     "name": "stdout",
     "output_type": "stream",
     "text": [
      "49.613138\n",
      "0.019488 \t stem\n",
      "38.017792 \t stages\n",
      "11.575858 \t head\n"
     ]
    }
   ],
   "source": [
    "from timm.models.efficientvit_mit import EfficientVitLarge, GELUTanh\n",
    "\n",
    "class GroupNorm8(torch.nn.Module):\n",
    "    def __init__(self, num_features, eps=1e-7, affine=True):\n",
    "        super().__init__()\n",
    "        self.groupnorm = torch.nn.GroupNorm(num_groups=8,\n",
    "                                      num_channels=num_features,\n",
    "                                      eps=eps,\n",
    "                                      affine=affine)\n",
    "    def forward(self, x):\n",
    "        return self.groupnorm(x)\n",
    "\n",
    "model = EfficientVitLarge(\n",
    "    in_chans=3*config.channels,\n",
    "    widths=(32, 64, 128, 256, 512),\n",
    "    depths=(1, 1, 1, 6, 6),\n",
    "    head_dim=32,\n",
    "    norm_layer=GroupNorm8,\n",
    "    act_layer=GELUTanh,\n",
    "    global_pool='avg',\n",
    "    head_widths=(3072, 3200),\n",
    "    drop_rate=0.0,\n",
    "    num_classes=config.classifier_num_classes\n",
    ")\n",
    "\n",
    "model.head.in_conv.norm = torch.nn.GroupNorm(\n",
    "    num_groups=8,\n",
    "    num_channels=model.head.in_conv.norm.num_features,\n",
    "    affine=model.head.in_conv.norm.affine,\n",
    "    eps=model.head.in_conv.norm.eps\n",
    ")\n",
    "\n",
    "model.to(device)\n",
    "\n",
    "print(sum(p.numel() for p in model.parameters())/1e6)\n",
    "for name, module in model.named_children():\n",
    "    print(f\"{sum(p.numel() for p in module.parameters())/1e6} \\t {name}\")\n",
    "\n",
    "if config.checkpoint:\n",
    "    checkpoint = torch.load(config.checkpoint, map_location=\"cpu\", weights_only=False)\n",
    "    model.load_state_dict(checkpoint['model'])"
   ]
  },
  {
   "cell_type": "code",
   "execution_count": 221,
   "id": "24fc70cd-7595-4c92-b48b-19de388ec6e0",
   "metadata": {},
   "outputs": [],
   "source": [
    "mix_transforms = [\n",
    "    CutMix(num_classes=config.classifier_num_classes, alpha=1.),\n",
    "    MixUp(num_classes=config.classifier_num_classes, alpha=1.)\n",
    "]\n",
    "cent_crop = CenterCrop(\n",
    "    size=(1,config.crop_size),\n",
    ")\n",
    "def compand(x, eps=0.1):\n",
    "    return x.sign() * ((x.abs()+eps)**0.4 - eps**0.4)\n",
    "def decompand(y, eps=0.1):\n",
    "    return y.sign() * ((y.abs()+eps**0.4)**2.5 - eps)\n",
    "def train_collate_fn(batch):\n",
    "    B = len(batch)\n",
    "    x = torch.zeros((B, config.channels, 1, config.crop_size), dtype=torch.float)\n",
    "    y = []\n",
    "    for i_sample, sample in enumerate(batch):\n",
    "        y.append(sample['label'])\n",
    "        xi, fs = torchaudio.load(uri = sample['opus']['bytes'],normalize=False)\n",
    "        xi = crop_1d(xi,config.crop_size,batch=False).unsqueeze(0)\n",
    "        x[i_sample,:,:,:] = xi\n",
    "    return x[:,:,0,:], torch.tensor(y).to(torch.long)\n",
    "\n",
    "def valid_collate_fn(batch):\n",
    "    B = len(batch)\n",
    "    x = torch.zeros((B, config.channels, 1, config.crop_size), dtype=torch.float)\n",
    "    y = []\n",
    "    for i_sample, sample in enumerate(batch):\n",
    "        y.append(sample['label'])\n",
    "        xi, fs = torchaudio.load(uri = sample['opus']['bytes'],normalize=False)\n",
    "        xi = cent_crop(xi.unsqueeze(0).unsqueeze(0))\n",
    "        x[i_sample,:,:,:] = xi\n",
    "    return x[:,:,0,:], torch.tensor(y).to(torch.long)"
   ]
  },
  {
   "cell_type": "code",
   "execution_count": 222,
   "id": "c4261d29-041a-4fb8-a151-ed36a1b2f28a",
   "metadata": {},
   "outputs": [],
   "source": [
    "optimizer = Adan(\n",
    "    params=model.parameters(),\n",
    "    lr=1.0,\n",
    "    weight_decay=config.weight_decay,\n",
    "    caution=True\n",
    ")\n",
    "def rc_sched(i_step, config):\n",
    "    t = i_step / (config.steps / config.plot_update)\n",
    "    return config.max_lr*0.5 * (1 - np.cos(2*np.pi*(t**config.lr_pow))) + 1e-15\n",
    "    return lr\n",
    "schedule = torch.optim.lr_scheduler.LambdaLR(\n",
    "    optimizer,\n",
    "    lr_lambda = lambda i_step: rc_sched(i_step, config),\n",
    ")"
   ]
  },
  {
   "cell_type": "code",
   "execution_count": 37,
   "id": "289e4961-56c8-4d4a-a718-627122ee2993",
   "metadata": {},
   "outputs": [
    {
     "data": {
      "image/png": "[encoded data removed]",
      "text/plain": [
       "<Figure size 1000x400 with 2 Axes>"
      ]
     },
     "metadata": {},
     "output_type": "display_data"
    }
   ],
   "source": [
    "# learning_rates = [optimizer.param_groups[0]['lr']]\n",
    "# i_step = 0\n",
    "# for i_epoch in range(config.epochs):\n",
    "#     for i_batch in range(config.steps_per_epoch):\n",
    "#         if (i_step+1) % config.plot_update == 0:\n",
    "#             schedule.step()\n",
    "#             learning_rates.append(optimizer.param_groups[0]['lr'])\n",
    "#         i_step+=1\n",
    "# fig, axes = plt.subplots(ncols=2, figsize=(10, 4))\n",
    "# axes[0].semilogy(learning_rates);axes[0].set_ylim([1e-6, 1.0])\n",
    "# axes[1].plot(learning_rates);"
   ]
  },
  {
   "cell_type": "code",
   "execution_count": 363,
   "id": "cc2e9e29-2438-42b2-8160-72394e35d4f0",
   "metadata": {},
   "outputs": [],
   "source": [
    "i = 17\n",
    "S, size_info = strfft(x); S = S[:,:,:,:-1]\n",
    "S = torch.cat([S.real, S.imag, S.abs()],dim=1)\n",
    "S = compand(S)\n",
    "S[:,:2] = S[:,:2]/20; S[:,2] = S[:,2]/10\n",
    "img0 = ToPILImage()(S[i][0]+0.5)\n",
    "img1 = ToPILImage()(S[i][1]+0.5)\n",
    "\n",
    "img0 = img0.resize((img0.width//2,img0.height//2),resample=PIL.Image.Resampling.LANCZOS).resize((img0.width,img0.height),resample=PIL.Image.Resampling.LANCZOS)\n",
    "img1 = img1.resize((img1.width//2,img0.height//2),resample=PIL.Image.Resampling.LANCZOS).resize((img1.width,img1.height),resample=PIL.Image.Resampling.LANCZOS)\n",
    "t0 = PILToTensor()(img0).to(torch.float)/255 - 0.5\n",
    "t1 = PILToTensor()(img1).to(torch.float)/255 - 0.5\n",
    "p0 = torch.nn.functional.pad(t0, (0, 1))\n",
    "p1 = torch.nn.functional.pad(t1, (0, 1))\n",
    "d0 = decompand(20 * p0)\n",
    "d1 = decompand(20 * p1)\n",
    "y = d0 + 1j * d1\n",
    "y = istrfft(y.unsqueeze(0),size_info)\n",
    "# display(play(x[i].cpu(),rate=48000))\n",
    "# display(play(y[0].cpu(),rate=48000))"
   ]
  },
  {
   "cell_type": "code",
   "execution_count": 219,
   "id": "c4610696-9552-4cde-9110-778c47116645",
   "metadata": {},
   "outputs": [
    {
     "data": {
      "text/html": [
       "\n",
       "<style>\n",
       "    /* Turns off some styling */\n",
       "    progress {\n",
       "        /* gets rid of default border in Firefox and Opera. */\n",
       "        border: none;\n",
       "        /* Needs to be in here for Safari polyfill so background images work as expected. */\n",
       "        background-size: auto;\n",
       "    }\n",
       "    progress:not([value]), progress:not([value])::-webkit-progress-bar {\n",
       "        background: repeating-linear-gradient(45deg, #7e7e7e, #7e7e7e 10px, #5c5c5c 10px, #5c5c5c 20px);\n",
       "    }\n",
       "    .progress-bar-interrupted, .progress-bar-interrupted::-webkit-progress-bar {\n",
       "        background: #F44336;\n",
       "    }\n",
       "</style>\n"
      ],
      "text/plain": [
       "<IPython.core.display.HTML object>"
      ]
     },
     "metadata": {},
     "output_type": "display_data"
    },
    {
     "data": {
      "text/html": [
       "\n",
       "    <div>\n",
       "      <progress value='0' class='' max='10000' style='width:300px; height:20px; vertical-align: middle;'></progress>\n",
       "      0.00% [0/10000 00:00&lt;?]\n",
       "    </div>\n",
       "    \n",
       "\n",
       "\n",
       "    <div>\n",
       "      <progress value='0' class='' max='12' style='width:300px; height:20px; vertical-align: middle;'></progress>\n",
       "      0.00% [0/12 00:00&lt;?]\n",
       "    </div>\n",
       "    "
      ],
      "text/plain": [
       "<IPython.core.display.HTML object>"
      ]
     },
     "metadata": {},
     "output_type": "display_data"
    },
    {
     "ename": "AssertionError",
     "evalue": "",
     "output_type": "error",
     "traceback": [
      "\u001b[0;31m---------------------------------------------------------------------------\u001b[0m",
      "\u001b[0;31mAssertionError\u001b[0m                            Traceback (most recent call last)",
      "Cell \u001b[0;32mIn[219], line 29\u001b[0m\n\u001b[1;32m     22\u001b[0m y \u001b[38;5;241m=\u001b[39m y\u001b[38;5;241m.\u001b[39mto(device)\n\u001b[1;32m     24\u001b[0m \u001b[38;5;66;03m# S, _ = strfft(x)\u001b[39;00m\n\u001b[1;32m     25\u001b[0m \u001b[38;5;66;03m# S = torch.cat([S.real, S.imag, S.abs()],dim=1)\u001b[39;00m\n\u001b[1;32m     26\u001b[0m \u001b[38;5;66;03m# eps = 1e-1; S = S.sign()* ((S+eps).abs().pow(0.4) - eps**2)\u001b[39;00m\n\u001b[1;32m     27\u001b[0m \u001b[38;5;66;03m# S[:,:2] = S[:,:2]/20; S[:,2] = S[:,2]/10\u001b[39;00m\n\u001b[0;32m---> 29\u001b[0m \u001b[38;5;28;01massert\u001b[39;00m \u001b[38;5;241m1\u001b[39m\u001b[38;5;241m==\u001b[39m\u001b[38;5;241m0\u001b[39m\n\u001b[1;32m     30\u001b[0m \u001b[38;5;28;01mfor\u001b[39;00m mix_transform \u001b[38;5;129;01min\u001b[39;00m mix_transforms:\n\u001b[1;32m     31\u001b[0m     x, y \u001b[38;5;241m=\u001b[39m mix_transform(x, y)\n",
      "\u001b[0;31mAssertionError\u001b[0m: "
     ]
    }
   ],
   "source": [
    "mb = master_bar(range(config.epochs))\n",
    "mb.names = ['per batch','smoothed']\n",
    "train_loss = []\n",
    "valid_acc = []\n",
    "learning_rates = [optimizer.param_groups[0]['lr']]\n",
    "i_step = 0\n",
    "for i_epoch in mb:\n",
    "    # training\n",
    "    model.train()\n",
    "    dataloader_train = torch.utils.data.DataLoader(\n",
    "        dataset['train'],\n",
    "        batch_size=config.batch_size,\n",
    "        shuffle=True,\n",
    "        num_workers=config.num_workers,\n",
    "        drop_last=True,\n",
    "        pin_memory=True,\n",
    "        collate_fn=train_collate_fn\n",
    "    )\n",
    "    pb = progress_bar(dataloader_train, parent=mb)\n",
    "    for i_batch, (x,y) in enumerate(pb):\n",
    "        x = x.to(device)\n",
    "        y = y.to(device)\n",
    "\n",
    "        # S, _ = strfft(x)\n",
    "        # S = torch.cat([S.real, S.imag, S.abs()],dim=1)\n",
    "        # eps = 1e-1; S = S.sign()* ((S+eps).abs().pow(0.4) - eps**2)\n",
    "        # S[:,:2] = S[:,:2]/20; S[:,2] = S[:,2]/10\n",
    "\n",
    "        assert 1==0\n",
    "        for mix_transform in mix_transforms:\n",
    "            x, y = mix_transform(x, y)\n",
    "        x = x[:,0]\n",
    "        logits = model(x)\n",
    "        loss = torch.nn.CrossEntropyLoss()(logits, y)\n",
    "\n",
    "        train_loss.append(loss.item())\n",
    "        loss.backward()\n",
    "        if (i_batch + 1) % config.grad_accum_steps == 0:\n",
    "            optimizer.step()\n",
    "            optimizer.zero_grad()\n",
    "\n",
    "        # plotting and learning rate update\n",
    "        if (i_step+1) % config.plot_update == 0:\n",
    "            plot_n = len(train_loss) // config.plot_update\n",
    "            smoothed_x = (0.5+torch.arange(plot_n)) * config.plot_update\n",
    "            smoothed_y = torch.tensor(train_loss).reshape(plot_n, -1).mean(dim=1)\n",
    "            train_x = range(len(train_loss))\n",
    "            train_y = train_loss\n",
    "            mb.update_graph([[train_x, np.log10(train_y)],[smoothed_x, np.log10(smoothed_y)]])\n",
    "\n",
    "            # lr update\n",
    "            schedule.step()\n",
    "            learning_rates.append(optimizer.param_groups[0]['lr'])\n",
    "    \n",
    "        i_step+=1\n",
    "        \n",
    "    # validation\n",
    "    model.eval()\n",
    "    valid_acc.append(0)\n",
    "    data_loader_valid = torch.utils.data.DataLoader(\n",
    "        dataset['validation'],\n",
    "        batch_size=config.batch_size,\n",
    "        shuffle=False,\n",
    "        num_workers=config.num_workers,\n",
    "        drop_last=False,\n",
    "        pin_memory=True,\n",
    "        collate_fn=valid_collate_fn\n",
    "    )\n",
    "    pb_valid = progress_bar(data_loader_valid, parent=mb)\n",
    "    for i_batch, (x, y) in enumerate(pb_valid):\n",
    "        x = x.to(device)\n",
    "        y = torch.tensor(y).to(torch.long).to(device)\n",
    "        with torch.no_grad():\n",
    "            logits = model(x)\n",
    "        valid_acc[i_epoch] += torch.sum(logits.argmax(dim=1) == y).item()\n",
    "    valid_acc[i_epoch] /= dataset['validation'].num_rows\n",
    "    mb.main_bar.comment = f'validation accuracy {valid_acc[i_epoch]:.4g}'\n",
    "\n",
    "    torch.save({\n",
    "        'i_epoch': i_epoch,\n",
    "        'learning_rates': learning_rates,\n",
    "        'smoothed_y': smoothed_y,\n",
    "        'valid_acc': valid_acc,\n",
    "        'config': config,\n",
    "        'model_state_dict': model.state_dict(),\n",
    "    }, f\"log_{device}.pth\")"
   ]
  },
  {
   "cell_type": "code",
   "execution_count": 9,
   "id": "58a38039-4188-4d56-a39f-38d7fbc9b2a4",
   "metadata": {},
   "outputs": [
    {
     "data": {
      "text/html": [
       "\n",
       "    <div>\n",
       "      <progress value='10000' class='' max='10000' style='width:300px; height:20px; vertical-align: middle;'></progress>\n",
       "      100.00% [10000/10000 24:09:11&lt;00:00 validation accuracy 0.7475]\n",
       "    </div>\n",
       "    "
      ],
      "text/plain": [
       "<IPython.core.display.HTML object>"
      ]
     },
     "metadata": {},
     "output_type": "display_data"
    },
    {
     "data": {
      "text/html": [
       "\n",
       "    <div>\n",
       "      <progress value='4' class='' max='4' style='width:300px; height:20px; vertical-align: middle;'></progress>\n",
       "      100.00% [4/4 00:02&lt;00:00]\n",
       "    </div>\n",
       "    "
      ],
      "text/plain": [
       "<IPython.core.display.HTML object>"
      ]
     },
     "metadata": {},
     "output_type": "display_data"
    }
   ],
   "source": [
    "display(HTML(mb.main_bar.progress))\n",
    "display(HTML(mb.child.progress))"
   ]
  },
  {
   "cell_type": "code",
   "execution_count": 10,
   "id": "dcf6d838-1c50-4998-917a-7c5e88858332",
   "metadata": {},
   "outputs": [
    {
     "data": {
      "text/plain": [
       "[<matplotlib.lines.Line2D at 0x7fd1eba58eb0>]"
      ]
     },
     "execution_count": 10,
     "metadata": {},
     "output_type": "execute_result"
    },
    {
     "data": {
      "image/png": "[encoded data removed]",
      "text/plain": [
       "<Figure size 640x480 with 1 Axes>"
      ]
     },
     "metadata": {},
     "output_type": "display_data"
    }
   ],
   "source": [
    "plt.plot(valid_acc)"
   ]
  },
  {
   "cell_type": "code",
   "execution_count": 11,
   "id": "1f791be2-d611-49ed-905d-ac4ce4826999",
   "metadata": {},
   "outputs": [
    {
     "data": {
      "text/plain": [
       "[<matplotlib.lines.Line2D at 0x7fd1eba0c2e0>]"
      ]
     },
     "execution_count": 11,
     "metadata": {},
     "output_type": "execute_result"
    },
    {
     "data": {
      "image/png": "[encoded data removed]",
      "text/plain": [
       "<Figure size 640x480 with 1 Axes>"
      ]
     },
     "metadata": {},
     "output_type": "display_data"
    }
   ],
   "source": [
    "plt.semilogy(learning_rates)"
   ]
  },
  {
   "cell_type": "code",
   "execution_count": null,
   "id": "5c1c7789-f34e-4bb8-8e7e-9294f8476c7b",
   "metadata": {},
   "outputs": [],
   "source": []
  }
 ],
 "metadata": {
  "kernelspec": {
   "display_name": "Python 3 (ipykernel)",
   "language": "python",
   "name": "python3"
  },
  "language_info": {
   "codemirror_mode": {
    "name": "ipython",
    "version": 3
   },
   "file_extension": ".py",
   "mimetype": "text/x-python",
   "name": "python",
   "nbconvert_exporter": "python",
   "pygments_lexer": "ipython3",
   "version": "3.10.12"
  }
 },
 "nbformat": 4,
 "nbformat_minor": 5
}
