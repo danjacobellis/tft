{
 "cells": [
  {
   "cell_type": "code",
   "execution_count": 1,
   "id": "19b2b033-820b-4fdb-a1be-ae9313491b7d",
   "metadata": {},
   "outputs": [],
   "source": [
    "import warnings\n",
    "warnings.filterwarnings(\"ignore\", message=\".*`torch.cuda.amp.autocast.*\")\n",
    "import torch\n",
    "import numpy as np\n",
    "import random\n",
    "import PIL.Image\n",
    "import matplotlib.pyplot as plt\n",
    "from types import SimpleNamespace\n",
    "from collections import Counter\n",
    "from torch.utils.data import WeightedRandomSampler\n",
    "from datasets import load_dataset\n",
    "from timm.optim import Mars\n",
    "from torchvision.transforms.v2 import (\n",
    "    Compose, Resize, RandomCrop, CenterCrop,\n",
    "    PILToTensor, ToPILImage, MixUp, CutMix )\n",
    "from fastprogress.fastprogress import master_bar, progress_bar\n",
    "from IPython.display import display, HTML"
   ]
  },
  {
   "cell_type": "code",
   "execution_count": 2,
   "id": "67e3025d-60d7-4696-b1a3-c80315449fd1",
   "metadata": {},
   "outputs": [],
   "source": [
    "torch.set_float32_matmul_precision('high')\n",
    "device = \"cuda:3\"\n",
    "dataset = load_dataset('danjacobellis/pathmnist_224')"
   ]
  },
  {
   "cell_type": "code",
   "execution_count": 3,
   "id": "4016533e-ca0b-4beb-8215-2066a0330799",
   "metadata": {},
   "outputs": [],
   "source": [
    "labels = [l[0] for l in dataset['train']['label']]\n",
    "class_counts = Counter(labels)\n",
    "class_weights = {cls: 1.0 / count for cls, count in class_counts.items()}\n",
    "sample_weights = [class_weights[label] for label in labels]\n",
    "sampler = WeightedRandomSampler(\n",
    "    weights=sample_weights,\n",
    "    num_samples=len(sample_weights),\n",
    "    replacement=True\n",
    ")"
   ]
  },
  {
   "cell_type": "code",
   "execution_count": 4,
   "id": "2eeb6b99-e957-4ab8-9076-d0e795f4266e",
   "metadata": {},
   "outputs": [],
   "source": [
    "config = SimpleNamespace()\n",
    "# Training and optimizer config\n",
    "config.batch_size = 128\n",
    "config.steps_per_epoch = dataset['train'].num_rows//config.batch_size\n",
    "config.grad_accum_steps = 1\n",
    "config.max_lr = (config.batch_size/128)*6e-4\n",
    "config.min_lr = config.max_lr/100\n",
    "config.plot_update = 128\n",
    "config.epochs = 200\n",
    "config.lr_scale = 12\n",
    "config.lr_offset = 0.25\n",
    "config.lr_pow = 6\n",
    "config.weight_decay = 0.\n",
    "config.num_workers = 12\n",
    "config.image_size = 272\n",
    "config.crop_size = 256\n",
    "\n",
    "# model config\n",
    "config.channels = 3\n",
    "config.J = 4\n",
    "config.embed_dim = 512\n",
    "config.dim_head = 64\n",
    "config.classifier_num_classes = 9\n",
    "config.checkpoint = False"
   ]
  },
  {
   "cell_type": "code",
   "execution_count": 5,
   "id": "2512de33-a6c1-4534-8269-8babae08102c",
   "metadata": {},
   "outputs": [
    {
     "name": "stdout",
     "output_type": "stream",
     "text": [
      "0.0 \t wpt\n",
      "24.974848 \t ascan\n",
      "0.306176 \t pool\n",
      "0.004617 \t classifier\n"
     ]
    }
   ],
   "source": [
    "from pytorch_wavelets import DWTForward\n",
    "from tft.transforms import WPT2D\n",
    "from tft.models import TFTClassifier\n",
    "\n",
    "wt = DWTForward(J=1, mode='periodization', wave='bior4.4')\n",
    "wpt = WPT2D(wt).to(device)\n",
    "model = TFTClassifier(config,wpt).to(device)\n",
    "\n",
    "for name, module in model.named_children():\n",
    "    print(f\"{sum(p.numel() for p in module.parameters())/1e6} \\t {name}\")\n",
    "\n",
    "if config.checkpoint:\n",
    "    checkpoint = torch.load(config.checkpoint, map_location=\"cpu\", weights_only=False)\n",
    "    model.load_state_dict(checkpoint['model'])"
   ]
  },
  {
   "cell_type": "code",
   "execution_count": 6,
   "id": "3f6f407f-cc54-4435-a601-6afc6f459a14",
   "metadata": {},
   "outputs": [],
   "source": [
    "mix_transforms = [\n",
    "    CutMix(num_classes=config.classifier_num_classes, alpha=1.),\n",
    "    MixUp(num_classes=config.classifier_num_classes, alpha=1.)\n",
    "]\n",
    "rand_crop = Compose([\n",
    "    Resize(size=config.image_size,interpolation=PIL.Image.Resampling.LANCZOS),\n",
    "    RandomCrop(size=config.crop_size),\n",
    "    PILToTensor()\n",
    "])\n",
    "cent_crop = Compose([\n",
    "    Resize(size=config.image_size,interpolation=PIL.Image.Resampling.LANCZOS),\n",
    "    CenterCrop(size=config.crop_size),\n",
    "    PILToTensor()\n",
    "])\n",
    "def train_collate_fn(batch):\n",
    "    B = len(batch)\n",
    "    x = torch.zeros((B, config.channels, config.crop_size, config.crop_size), dtype=torch.uint8)\n",
    "    y = torch.zeros(B, dtype=torch.int)\n",
    "    for i_sample, sample in enumerate(batch):\n",
    "        y[i_sample] = sample['label'][0]\n",
    "        x[i_sample,:,:,:] = rand_crop(sample['image'])\n",
    "    return x, y\n",
    "\n",
    "def valid_collate_fn(batch):\n",
    "    B = len(batch)\n",
    "    x = torch.zeros((B, config.channels, config.crop_size, config.crop_size), dtype=torch.uint8)\n",
    "    y = torch.zeros(B, dtype=torch.int)\n",
    "    for i_sample, sample in enumerate(batch):\n",
    "        y[i_sample] = sample['label'][0]\n",
    "        x[i_sample,:,:,:] = cent_crop(sample['image'])\n",
    "    return (x,y)"
   ]
  },
  {
   "cell_type": "code",
   "execution_count": 7,
   "id": "ea74f7b7-1ba2-4bb0-b3ff-6e78c52614cb",
   "metadata": {},
   "outputs": [],
   "source": [
    "optimizer = Mars(\n",
    "    params=model.parameters(),\n",
    "    lr=config.min_lr,\n",
    "    weight_decay=config.weight_decay,\n",
    "    caution=True\n",
    ")\n",
    "\n",
    "def EmPL(x):\n",
    "    return np.exp(-np.power(np.log(x), config.lr_pow))\n",
    "        \n",
    "def EmPL_sched(i_step, config):\n",
    "    x = i_step / (config.steps_per_epoch/config.plot_update)\n",
    "    sched = EmPL(x/(config.lr_scale*config.steps_per_epoch/config.plot_update)+config.lr_offset)\n",
    "    scale = config.max_lr\n",
    "    lr = scale * sched\n",
    "    return lr / config.min_lr\n",
    "    \n",
    "schedule = torch.optim.lr_scheduler.LambdaLR(\n",
    "    optimizer,\n",
    "    lr_lambda = lambda i_step: EmPL_sched(i_step, config),\n",
    ")"
   ]
  },
  {
   "cell_type": "code",
   "execution_count": null,
   "id": "bb790c3f-fa67-4dbc-aa8c-5fe8ff6ed4a5",
   "metadata": {},
   "outputs": [],
   "source": [
    "# learning_rates = [optimizer.param_groups[0]['lr']]\n",
    "# i_step = 0\n",
    "# for i_epoch in range(config.epochs):\n",
    "#     for i_batch in range(config.steps_per_epoch):\n",
    "#         if (i_step+1) % config.plot_update == 0:\n",
    "#             schedule.step()\n",
    "#             learning_rates.append(optimizer.param_groups[0]['lr'])\n",
    "#         i_step+=1\n",
    "# import matplotlib.pyplot as plt\n",
    "# plt.semilogy(learning_rates)"
   ]
  },
  {
   "cell_type": "code",
   "execution_count": null,
   "id": "4d577d6f-bccd-47ad-8743-1413aa268887",
   "metadata": {},
   "outputs": [],
   "source": [
    "mb = master_bar(range(config.epochs))\n",
    "mb.names = ['per batch','smoothed']\n",
    "train_loss = []\n",
    "valid_acc = []\n",
    "test_acc = []\n",
    "learning_rates = [optimizer.param_groups[0]['lr']]\n",
    "i_step = 0\n",
    "for i_epoch in mb:\n",
    "    # training\n",
    "    model.train()\n",
    "    dataloader_train = torch.utils.data.DataLoader(\n",
    "        dataset['train'],\n",
    "        batch_size=config.batch_size,\n",
    "        sampler=sampler,\n",
    "        num_workers=config.num_workers,\n",
    "        drop_last=True,\n",
    "        pin_memory=True,\n",
    "        collate_fn=train_collate_fn\n",
    "    )\n",
    "    pb = progress_bar(dataloader_train, parent=mb)\n",
    "    for i_batch, (x,y) in enumerate(pb):\n",
    "        y = y.to(torch.long).to(device)\n",
    "        x = x.to(device).to(torch.float)/255\n",
    "        for mix_transform in mix_transforms:\n",
    "            x, y = mix_transform(x, y)\n",
    "\n",
    "        logits = model(x-0.5)\n",
    "        loss = torch.nn.CrossEntropyLoss()(input=logits, target=y)\n",
    "\n",
    "        train_loss.append(loss.item())\n",
    "        loss.backward()\n",
    "        if (i_batch + 1) % config.grad_accum_steps == 0:\n",
    "            optimizer.step()\n",
    "            optimizer.zero_grad()\n",
    "\n",
    "        # plotting and learning rate update\n",
    "        if (i_step+1) % config.plot_update == 0:\n",
    "            plot_n = len(train_loss) // config.plot_update\n",
    "            smoothed_x = (0.5+torch.arange(plot_n)) * config.plot_update\n",
    "            smoothed_y = torch.tensor(train_loss).reshape(plot_n, -1).mean(dim=1)\n",
    "            train_x = range(len(train_loss))\n",
    "            train_y = train_loss\n",
    "            mb.update_graph([[train_x, np.log10(train_y)],[smoothed_x, np.log10(smoothed_y)]])\n",
    "\n",
    "            # lr update\n",
    "            schedule.step()\n",
    "            learning_rates.append(optimizer.param_groups[0]['lr'])\n",
    "    \n",
    "        i_step+=1\n",
    "        \n",
    "    # validation\n",
    "    model.eval()\n",
    "    valid_acc.append(0)\n",
    "    data_loader_valid = torch.utils.data.DataLoader(\n",
    "        dataset['validation'],\n",
    "        batch_size=config.batch_size,\n",
    "        shuffle=False,\n",
    "        num_workers=config.num_workers,\n",
    "        drop_last=False,\n",
    "        pin_memory=True,\n",
    "        collate_fn=valid_collate_fn\n",
    "    )\n",
    "    pb_valid = progress_bar(data_loader_valid, parent=mb)\n",
    "    for i_batch, (x, y) in enumerate(pb_valid):\n",
    "        y = y.to(torch.long).to(device)\n",
    "        x = x.to(device).to(torch.float)/255\n",
    "        with torch.no_grad():\n",
    "            logits = model(x-0.5)\n",
    "        valid_acc[i_epoch] += torch.sum(logits.argmax(dim=1) == y).item()\n",
    "    valid_acc[i_epoch] /= dataset['validation'].num_rows\n",
    "    mb.main_bar.comment = f'validation accuracy {valid_acc[i_epoch]:.4g}'\n",
    "\n",
    "    # test \n",
    "    test_acc.append(0)\n",
    "    data_loader_test = torch.utils.data.DataLoader(\n",
    "        dataset['test'],\n",
    "        batch_size=config.batch_size,\n",
    "        shuffle=False,\n",
    "        num_workers=config.num_workers,\n",
    "        drop_last=False,\n",
    "        pin_memory=True,\n",
    "        collate_fn=valid_collate_fn\n",
    "    )\n",
    "    pb_test = progress_bar(data_loader_test, parent=mb)\n",
    "    for i_batch, (x, y) in enumerate(pb_test):\n",
    "        y = y.to(torch.long).to(device)\n",
    "        x = x.to(device).to(torch.float)/255\n",
    "        with torch.no_grad():\n",
    "            logits = model(x-0.5)\n",
    "        test_acc[i_epoch] += torch.sum(logits.argmax(dim=1) == y).item()\n",
    "    test_acc[i_epoch] /= dataset['test'].num_rows\n",
    "    mb.main_bar.comment = f'test accuracy {test_acc[i_epoch]:.4g}'\n",
    "    \n",
    "    torch.save({\n",
    "        'i_epoch': i_epoch,\n",
    "        'learning_rates': learning_rates,\n",
    "        'smoothed_y': smoothed_y,\n",
    "        'valid_acc': valid_acc,\n",
    "        'test_acc': test_acc,\n",
    "        'config': config,\n",
    "        'model_state_dict': model.state_dict(),\n",
    "    }, f\"log_{device}.pth\")"
   ]
  },
  {
   "cell_type": "code",
   "execution_count": 9,
   "id": "b0e2e752-c98d-49a7-89a1-29628c272287",
   "metadata": {},
   "outputs": [
    {
     "data": {
      "text/html": [
       "\n",
       "    <div>\n",
       "      <progress value='69' class='' max='200' style='width:300px; height:20px; vertical-align: middle;'></progress>\n",
       "      34.50% [69/200 3:02:03&lt;5:45:38 test accuracy 0.9227]\n",
       "    </div>\n",
       "    "
      ],
      "text/plain": [
       "<IPython.core.display.HTML object>"
      ]
     },
     "metadata": {},
     "output_type": "display_data"
    },
    {
     "data": {
      "text/html": [
       "\n",
       "    <div>\n",
       "      <progress value='27' class='' max='703' style='width:300px; height:20px; vertical-align: middle;'></progress>\n",
       "      3.84% [27/703 00:06&lt;02:46]\n",
       "    </div>\n",
       "    "
      ],
      "text/plain": [
       "<IPython.core.display.HTML object>"
      ]
     },
     "metadata": {},
     "output_type": "display_data"
    }
   ],
   "source": [
    "display(HTML(mb.main_bar.progress))\n",
    "display(HTML(mb.child.progress))"
   ]
  },
  {
   "cell_type": "code",
   "execution_count": 10,
   "id": "fe249362-aafd-4655-8667-753dab5473db",
   "metadata": {},
   "outputs": [
    {
     "data": {
      "text/plain": [
       "[<matplotlib.lines.Line2D at 0x7f1474186560>]"
      ]
     },
     "execution_count": 10,
     "metadata": {},
     "output_type": "execute_result"
    },
    {
     "data": {
      "image/png": "[encoded data removed]",
      "text/plain": [
       "<Figure size 640x480 with 1 Axes>"
      ]
     },
     "metadata": {},
     "output_type": "display_data"
    }
   ],
   "source": [
    "plt.plot(valid_acc)\n",
    "plt.plot(test_acc)"
   ]
  },
  {
   "cell_type": "code",
   "execution_count": 11,
   "id": "709c1bf1-60f2-407c-99b2-3eb9bb55a97b",
   "metadata": {},
   "outputs": [
    {
     "data": {
      "text/plain": [
       "[<matplotlib.lines.Line2D at 0x7f15486d9300>]"
      ]
     },
     "execution_count": 11,
     "metadata": {},
     "output_type": "execute_result"
    },
    {
     "data": {
      "image/png": "[encoded data removed]",
      "text/plain": [
       "<Figure size 640x480 with 1 Axes>"
      ]
     },
     "metadata": {},
     "output_type": "display_data"
    }
   ],
   "source": [
    "plt.semilogy(learning_rates)"
   ]
  },
  {
   "cell_type": "code",
   "execution_count": 12,
   "id": "6095648b-a79e-494b-86f2-09085d1ec2c1",
   "metadata": {},
   "outputs": [
    {
     "name": "stderr",
     "output_type": "stream",
     "text": [
      "/tmp/ipykernel_3497458/2013070528.py:2: UserWarning: Attempt to set non-positive ylim on a log-scaled axis will be ignored.\n",
      "  plt.ylim([0,2])\n"
     ]
    },
    {
     "data": {
      "text/plain": [
       "(0.7668794503109037, 2)"
      ]
     },
     "execution_count": 12,
     "metadata": {},
     "output_type": "execute_result"
    },
    {
     "data": {
      "image/png": "[encoded data removed]",
      "text/plain": [
       "<Figure size 640x480 with 1 Axes>"
      ]
     },
     "metadata": {},
     "output_type": "display_data"
    }
   ],
   "source": [
    "plt.semilogy(smoothed_y)\n",
    "plt.ylim([0,2])"
   ]
  },
  {
   "cell_type": "code",
   "execution_count": 13,
   "id": "ad166e4f-8887-404c-9da6-d1848f28a1c5",
   "metadata": {},
   "outputs": [],
   "source": [
    "torch.save({\n",
    "    'i_epoch': i_epoch,\n",
    "    'learning_rates': learning_rates,\n",
    "    'smoothed_y': smoothed_y,\n",
    "    'valid_acc': valid_acc,\n",
    "    'config': config,\n",
    "    'model': model.state_dict(),\n",
    "}, f\"../../hf/tft/pathmnist_v0.3b.pth\")"
   ]
  }
 ],
 "metadata": {
  "kernelspec": {
   "display_name": "Python 3 (ipykernel)",
   "language": "python",
   "name": "python3"
  },
  "language_info": {
   "codemirror_mode": {
    "name": "ipython",
    "version": 3
   },
   "file_extension": ".py",
   "mimetype": "text/x-python",
   "name": "python",
   "nbconvert_exporter": "python",
   "pygments_lexer": "ipython3",
   "version": "3.10.12"
  }
 },
 "nbformat": 4,
 "nbformat_minor": 5
}
