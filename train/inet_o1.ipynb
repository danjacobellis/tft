{
 "cells": [
  {
   "cell_type": "code",
   "execution_count": 1,
   "id": "65434349-eb3f-472f-8eb0-51eb09fd6ba3",
   "metadata": {},
   "outputs": [
    {
     "name": "stdout",
     "output_type": "stream",
     "text": [
      "env: CUDA_VISIBLE_DEVICES=MIG-cbafb023-40ef-594e-9092-fb0e3c44baa2\n"
     ]
    }
   ],
   "source": [
    "%env CUDA_VISIBLE_DEVICES=MIG-cbafb023-40ef-594e-9092-fb0e3c44baa2\n",
    "import warnings\n",
    "import torch\n",
    "import numpy as np\n",
    "import random\n",
    "import math\n",
    "from types import SimpleNamespace\n",
    "from datasets import load_dataset\n",
    "from timm.optim import Adan\n",
    "from torchvision.transforms.v2 import (\n",
    "    Compose, RandAugment, RandomErasing, Resize, RandomResizedCrop, CenterCrop, \n",
    "    PILToTensor, ToDtype, MixUp, CutMix, ToPILImage, InterpolationMode\n",
    ")\n",
    "from fastprogress.fastprogress import master_bar, progress_bar\n",
    "import copy\n",
    "import PIL.Image"
   ]
  },
  {
   "cell_type": "code",
   "execution_count": 2,
   "id": "a13d07b4-216e-4aeb-a71c-267a306dd8a7",
   "metadata": {},
   "outputs": [
    {
     "data": {
      "application/vnd.jupyter.widget-view+json": {
       "model_id": "37aa96e729e34efdb87560b2a23bf1c0",
       "version_major": 2,
       "version_minor": 0
      },
      "text/plain": [
       "Resolving data files:   0%|          | 0/1024 [00:00<?, ?it/s]"
      ]
     },
     "metadata": {},
     "output_type": "display_data"
    },
    {
     "data": {
      "application/vnd.jupyter.widget-view+json": {
       "model_id": "77eae990f60246caa25bb9d9f264712a",
       "version_major": 2,
       "version_minor": 0
      },
      "text/plain": [
       "Resolving data files:   0%|          | 0/64 [00:00<?, ?it/s]"
      ]
     },
     "metadata": {},
     "output_type": "display_data"
    },
    {
     "data": {
      "application/vnd.jupyter.widget-view+json": {
       "model_id": "4d5cb1adf68a4c1cacb7c4366d20d282",
       "version_major": 2,
       "version_minor": 0
      },
      "text/plain": [
       "Loading dataset shards:   0%|          | 0/292 [00:00<?, ?it/s]"
      ]
     },
     "metadata": {},
     "output_type": "display_data"
    },
    {
     "data": {
      "application/vnd.jupyter.widget-view+json": {
       "model_id": "1c23da0c7bd04c7d85afbe769a87ca49",
       "version_major": 2,
       "version_minor": 0
      },
      "text/plain": [
       "Resolving data files:   0%|          | 0/1024 [00:00<?, ?it/s]"
      ]
     },
     "metadata": {},
     "output_type": "display_data"
    },
    {
     "data": {
      "application/vnd.jupyter.widget-view+json": {
       "model_id": "ca83ac1696f64465bfb188c8e6e33e0c",
       "version_major": 2,
       "version_minor": 0
      },
      "text/plain": [
       "Resolving data files:   0%|          | 0/64 [00:00<?, ?it/s]"
      ]
     },
     "metadata": {},
     "output_type": "display_data"
    }
   ],
   "source": [
    "torch.set_float32_matmul_precision('highest')\n",
    "device = \"cuda:0\"\n",
    "dataset_train = load_dataset('timm/imagenet-1k-wds', split='train')\n",
    "dataset_valid = load_dataset('timm/imagenet-1k-wds', split='validation')"
   ]
  },
  {
   "cell_type": "code",
   "execution_count": 3,
   "id": "1d780ec5-f8dd-4444-98a3-6a123e10828b",
   "metadata": {},
   "outputs": [],
   "source": [
    "config = SimpleNamespace()\n",
    "config.epochs = 20\n",
    "config.batch_size = 128\n",
    "config.steps_per_epoch = dataset_train.num_rows // config.batch_size\n",
    "config.total_steps = config.epochs * config.steps_per_epoch\n",
    "\n",
    "config.num_workers = 32\n",
    "config.grad_accum_steps = 1\n",
    "config.max_lr = 2e-3 \n",
    "config.lr_pow = 1.0\n",
    "\n",
    "config.weight_decay = 0.1\n",
    "config.no_wd_keys = ['norm', 'bias']\n",
    "\n",
    "config.randaug_n = 2\n",
    "config.randaug_m = 5\n",
    "config.randerase = 0.2\n",
    "\n",
    "config.progressive_sizes = [128, 160, 192, 224]\n",
    "\n",
    "config.mixup_alpha = 0.2\n",
    "config.cutmix_alpha = 0.2\n",
    "\n",
    "config.label_smoothing = 0.1\n",
    "\n",
    "config.mesa = True\n",
    "config.mesa_ratio = 2.0\n",
    "config.mesa_start = 0.25 \n",
    "\n",
    "config.channels=3\n",
    "config.classifier_num_classes=1000\n",
    "\n",
    "config.log_filename = 'log_cuda_2'"
   ]
  },
  {
   "cell_type": "code",
   "execution_count": 4,
   "id": "591c7811-9141-4597-99eb-c40b59eb66e6",
   "metadata": {},
   "outputs": [
    {
     "name": "stdout",
     "output_type": "stream",
     "text": [
      "52.654088\n",
      "0.019488 \t stem\n",
      "38.017792 \t stages\n",
      "14.616808 \t head\n"
     ]
    }
   ],
   "source": [
    "from timm.models.efficientvit_mit import EfficientVitLarge, GELUTanh\n",
    "\n",
    "class GroupNorm8(torch.nn.Module):\n",
    "    def __init__(self, num_features, eps=1e-7, affine=True):\n",
    "        super().__init__()\n",
    "        self.groupnorm = torch.nn.GroupNorm(num_groups=8,\n",
    "                                      num_channels=num_features,\n",
    "                                      eps=eps,\n",
    "                                      affine=affine)\n",
    "    def forward(self, x):\n",
    "        return self.groupnorm(x)\n",
    "\n",
    "model = EfficientVitLarge(\n",
    "    in_chans=config.channels,\n",
    "    widths=(32, 64, 128, 256, 512),\n",
    "    depths=(1, 1, 1, 6, 6),\n",
    "    head_dim=32,\n",
    "    norm_layer=GroupNorm8,\n",
    "    act_layer=GELUTanh,\n",
    "    global_pool='avg',\n",
    "    head_widths=(3072, 3200),\n",
    "    drop_rate=0.0,\n",
    "    num_classes=config.classifier_num_classes\n",
    ")\n",
    "model.head.in_conv.norm = torch.nn.GroupNorm(\n",
    "    num_groups=8,\n",
    "    num_channels=model.head.in_conv.norm.num_features,\n",
    "    affine=model.head.in_conv.norm.affine,\n",
    "    eps=model.head.in_conv.norm.eps\n",
    ")\n",
    "\n",
    "model.to(device)\n",
    "\n",
    "print(sum(p.numel() for p in model.parameters())/1e6)\n",
    "for name, module in model.named_children():\n",
    "    print(f\"{sum(p.numel() for p in module.parameters())/1e6} \\t {name}\")"
   ]
  },
  {
   "cell_type": "code",
   "execution_count": 5,
   "id": "6022268e-4f38-4f3f-95bc-6cf9008a7ac1",
   "metadata": {},
   "outputs": [],
   "source": [
    "param_groups = []\n",
    "for name, p in model.named_parameters():\n",
    "    if p.requires_grad:\n",
    "        use_wd = True\n",
    "        for kw in config.no_wd_keys:\n",
    "            if kw in name.lower():\n",
    "                use_wd = False\n",
    "                break\n",
    "        wd_val = config.weight_decay if use_wd else 0.0\n",
    "        param_groups.append({'params': [p], 'weight_decay': wd_val})\n",
    "\n",
    "optimizer = Adan(param_groups, lr=1.0, weight_decay=0.0, caution=True)\n",
    "\n",
    "def rc_sched(i_step, config):\n",
    "    t = i_step / config.total_steps\n",
    "    return config.max_lr * 0.5 * (1 - np.cos(2 * np.pi * (t ** config.lr_pow))) + 1e-15\n",
    "\n",
    "schedule = torch.optim.lr_scheduler.LambdaLR(\n",
    "    optimizer,\n",
    "    lr_lambda=lambda i_step: rc_sched(i_step, config)\n",
    ")"
   ]
  },
  {
   "cell_type": "code",
   "execution_count": 6,
   "id": "3342b886-54da-455b-ba10-6a5c0cfede5e",
   "metadata": {},
   "outputs": [],
   "source": [
    "class EMAHelper:\n",
    "    def __init__(self, model, decay=0.9999):\n",
    "        self.decay = decay\n",
    "        self.teacher = copy.deepcopy(model)\n",
    "        for p in self.teacher.parameters():\n",
    "            p.requires_grad_(False)\n",
    "\n",
    "    def update(self, student):\n",
    "        with torch.no_grad():\n",
    "            d = self.decay\n",
    "            for tparam, sparam in zip(self.teacher.parameters(), student.parameters()):\n",
    "                tparam.copy_(tparam * d + sparam * (1 - d))\n",
    "    \n",
    "    def forward(self, x):\n",
    "        return self.teacher(x)"
   ]
  },
  {
   "cell_type": "code",
   "execution_count": 7,
   "id": "935afcfd-41b7-4462-a1a3-1a504c16ded8",
   "metadata": {},
   "outputs": [],
   "source": [
    "mixup_tfm = MixUp(alpha=config.mixup_alpha, num_classes=config.classifier_num_classes)\n",
    "cutmix_tfm = CutMix(alpha=config.cutmix_alpha, num_classes=config.classifier_num_classes)\n",
    "\n",
    "def random_interpolation():\n",
    "    choices = [InterpolationMode.BILINEAR, InterpolationMode.BICUBIC, InterpolationMode.LANCZOS]\n",
    "    return random.choice(choices)\n",
    "    \n",
    "def get_epoch_size(epoch):\n",
    "    stage_len = config.epochs // len(config.progressive_sizes)\n",
    "    idx = min(epoch // stage_len, len(config.progressive_sizes)-1)\n",
    "    return config.progressive_sizes[idx]\n",
    "\n",
    "def build_train_prebatch_transform(epoch):\n",
    "    interp = InterpolationMode.LANCZOS if epoch==config.epochs-1 else random_interpolation()\n",
    "    return Compose([\n",
    "        RandomResizedCrop(get_epoch_size(epoch),interpolation=interp),\n",
    "        RandAugment(num_ops=config.randaug_n, magnitude=config.randaug_m),\n",
    "        PILToTensor(),\n",
    "        ToDtype(torch.float32,scale=False),\n",
    "        RandomErasing(p=config.randerase),\n",
    "        lambda x: x/127.5 - 1.0,\n",
    "    ])\n",
    "\n",
    "def build_valid_transform():\n",
    "    return Compose([\n",
    "        Resize(config.progressive_sizes[-1], interpolation=InterpolationMode.LANCZOS),\n",
    "        CenterCrop(config.progressive_sizes[-1]),\n",
    "        PILToTensor(),\n",
    "        ToDtype(torch.float32,scale=False),\n",
    "        lambda x: x/127.5 - 1.0,\n",
    "    ])\n",
    "    \n",
    "def train_collate_fn(batch, epoch):\n",
    "    transform = build_train_prebatch_transform(epoch)\n",
    "    x_list, y_list = [], []\n",
    "    for sample in batch:\n",
    "        img = sample['jpg'].convert(\"RGB\")\n",
    "        cls_ = sample['cls']\n",
    "        x_ = transform(img)\n",
    "        x_list.append(x_)\n",
    "        y_list.append(cls_)\n",
    "    x = torch.stack(x_list, dim=0)\n",
    "    y = torch.tensor(y_list, dtype=torch.long)\n",
    "    return x, y\n",
    "\n",
    "def valid_collate_fn(batch):\n",
    "    transform = build_valid_transform()\n",
    "    x_list, y_list = [], []\n",
    "    for sample in batch:\n",
    "        img = sample['jpg'].convert(\"RGB\")\n",
    "        x_ = transform(img)\n",
    "        y_ = sample['cls']\n",
    "        x_list.append(x_)\n",
    "        y_list.append(y_)\n",
    "    x = torch.stack(x_list, dim=0)\n",
    "    y = torch.tensor(y_list, dtype=torch.long)\n",
    "    return x, y"
   ]
  },
  {
   "cell_type": "code",
   "execution_count": null,
   "id": "0f1c6ecb-4940-4b19-9ee5-a116eb1d9fb9",
   "metadata": {},
   "outputs": [],
   "source": [
    "learning_rates = [optimizer.param_groups[0]['lr']]\n",
    "\n",
    "ema_helper = EMAHelper(model, decay=0.9999) if config.mesa else None\n",
    "\n",
    "train_criterion = torch.nn.CrossEntropyLoss(label_smoothing=config.label_smoothing)\n",
    "val_criterion = torch.nn.CrossEntropyLoss()\n",
    "\n",
    "mb = master_bar(range(config.epochs))\n",
    "global_step = 0\n",
    "\n",
    "train_losses = []\n",
    "valid_accs = []\n",
    "\n",
    "for i_epoch in mb:\n",
    "    model.train()\n",
    "    if ema_helper:\n",
    "        ema_helper.teacher.eval()\n",
    "\n",
    "    train_loader = torch.utils.data.DataLoader(\n",
    "        dataset_train,\n",
    "        batch_size=config.batch_size,\n",
    "        shuffle=True,\n",
    "        num_workers=config.num_workers,\n",
    "        drop_last=True,\n",
    "        pin_memory=True,\n",
    "        collate_fn=lambda batch: train_collate_fn(batch,i_epoch)\n",
    "    )\n",
    "\n",
    "    # Training\n",
    "    pb = progress_bar(train_loader, parent=mb)\n",
    "    for (x, y) in pb:\n",
    "        x, y = x.to(device), y.to(device)\n",
    "\n",
    "        pick = random.choice([\"mixup\", \"cutmix\", \"none\"])\n",
    "        if pick == \"mixup\" and config.mixup_alpha > 0:\n",
    "            (x, y) = mixup_tfm((x, y))\n",
    "        elif pick == \"cutmix\" and config.cutmix_alpha > 0:\n",
    "            (x, y) = cutmix_tfm((x, y))\n",
    "\n",
    "        logits = model(x)\n",
    "        loss = train_criterion(logits, y)\n",
    "        if global_step % 128 == 0:\n",
    "            train_losses.append(loss.item())\n",
    "\n",
    "        if ema_helper:\n",
    "            frac = i_epoch / config.epochs\n",
    "            if frac >= config.mesa_start:\n",
    "                with torch.no_grad():\n",
    "                    teacher_out = ema_helper.teacher(x)\n",
    "                teacher_prob = torch.sigmoid(teacher_out)\n",
    "                student_prob = torch.sigmoid(logits)\n",
    "                mesa_loss = torch.nn.functional.binary_cross_entropy(student_prob, teacher_prob)\n",
    "                loss = loss + config.mesa_ratio * mesa_loss\n",
    "\n",
    "        optimizer.zero_grad()\n",
    "        loss.backward()\n",
    "        torch.nn.utils.clip_grad_norm_(model.parameters(), 5.0, norm_type=2.0)\n",
    "        optimizer.step()\n",
    "\n",
    "        if ema_helper:\n",
    "            ema_helper.update(model)\n",
    "\n",
    "        schedule.step()\n",
    "        learning_rates.append(optimizer.param_groups[0]['lr'])\n",
    "        global_step += 1\n",
    "\n",
    "    model.eval()\n",
    "    correct = 0\n",
    "\n",
    "    val_loader = torch.utils.data.DataLoader(\n",
    "        dataset_valid,\n",
    "        batch_size=config.batch_size,\n",
    "        shuffle=False,\n",
    "        num_workers=config.num_workers,\n",
    "        drop_last=False,\n",
    "        pin_memory=True,\n",
    "        collate_fn=valid_collate_fn\n",
    "    )\n",
    "    for (xv, yv) in progress_bar(val_loader, parent=mb):\n",
    "        xv, yv = xv.to(device), yv.to(device)\n",
    "        with torch.no_grad():\n",
    "            logits_val = model(xv)\n",
    "        preds = logits_val.argmax(dim=1)\n",
    "        correct += (preds == yv).sum().item()\n",
    "\n",
    "    val_acc = correct / dataset_valid.num_rows\n",
    "    valid_accs.append(val_acc)\n",
    "\n",
    "    mb.main_bar.comment = f\"Epoch={i_epoch} | Train Loss={train_losses[-1]:.4f} | Val Acc={val_acc:.4f}\"\n",
    "    torch.save({\n",
    "        'i_epoch': i_epoch,\n",
    "        'model_state_dict': model.state_dict(),\n",
    "        'ema_state_dict': ema_helper.teacher.state_dict() if ema_helper else None,\n",
    "        'optimizer_state_dict': optimizer.state_dict(),\n",
    "        'train_loss': train_losses,\n",
    "        'valid_acc': valid_accs,\n",
    "        'config': vars(config),\n",
    "    }, f'{config.log_filename}.pth')"
   ]
  },
  {
   "cell_type": "code",
   "execution_count": 9,
   "id": "5ca7925e-d032-4832-b2b6-7395cc9c4f6a",
   "metadata": {},
   "outputs": [
    {
     "data": {
      "text/html": [
       "\n",
       "    <div>\n",
       "      <progress value='20' class='' max='20' style='width:300px; height:20px; vertical-align: middle;'></progress>\n",
       "      100.00% [20/20 13:21:28&lt;00:00 Epoch=19 | Train Loss=2.2441 | Val Acc=0.7349]\n",
       "    </div>\n",
       "    "
      ],
      "text/plain": [
       "<IPython.core.display.HTML object>"
      ]
     },
     "metadata": {},
     "output_type": "display_data"
    },
    {
     "data": {
      "text/html": [
       "\n",
       "    <div>\n",
       "      <progress value='391' class='' max='391' style='width:300px; height:20px; vertical-align: middle;'></progress>\n",
       "      100.00% [391/391 00:26&lt;00:00]\n",
       "    </div>\n",
       "    "
      ],
      "text/plain": [
       "<IPython.core.display.HTML object>"
      ]
     },
     "metadata": {},
     "output_type": "display_data"
    }
   ],
   "source": [
    "from IPython.display import display, HTML\n",
    "import matplotlib.pyplot as plt\n",
    "display(HTML(mb.main_bar.progress))\n",
    "display(HTML(mb.child.progress))"
   ]
  },
  {
   "cell_type": "code",
   "execution_count": 10,
   "id": "fca0168f-b012-4232-bd06-16324e1ec560",
   "metadata": {},
   "outputs": [
    {
     "data": {
      "text/plain": [
       "[<matplotlib.lines.Line2D at 0x7fc468299990>]"
      ]
     },
     "execution_count": 10,
     "metadata": {},
     "output_type": "execute_result"
    },
    {
     "data": {
      "image/png": "[encoded data removed]",
      "text/plain": [
       "<Figure size 640x480 with 1 Axes>"
      ]
     },
     "metadata": {},
     "output_type": "display_data"
    }
   ],
   "source": [
    "plt.plot(train_losses)"
   ]
  },
  {
   "cell_type": "code",
   "execution_count": 11,
   "id": "41c892a5-cfcd-444f-bbc9-c2b35e4e677c",
   "metadata": {},
   "outputs": [
    {
     "data": {
      "text/plain": [
       "[<matplotlib.lines.Line2D at 0x7fc43054d990>]"
      ]
     },
     "execution_count": 11,
     "metadata": {},
     "output_type": "execute_result"
    },
    {
     "data": {
      "image/png": "[encoded data removed]",
      "text/plain": [
       "<Figure size 640x480 with 1 Axes>"
      ]
     },
     "metadata": {},
     "output_type": "display_data"
    }
   ],
   "source": [
    "plt.plot(learning_rates)"
   ]
  },
  {
   "cell_type": "code",
   "execution_count": 12,
   "id": "2d3a2c8e-808f-48ac-a744-79a13c9d7c7d",
   "metadata": {},
   "outputs": [
    {
     "data": {
      "text/plain": [
       "[<matplotlib.lines.Line2D at 0x7fc52f7d4460>]"
      ]
     },
     "execution_count": 12,
     "metadata": {},
     "output_type": "execute_result"
    },
    {
     "data": {
      "image/png": "[encoded data removed]",
      "text/plain": [
       "<Figure size 640x480 with 1 Axes>"
      ]
     },
     "metadata": {},
     "output_type": "display_data"
    }
   ],
   "source": [
    "plt.plot(valid_accs)"
   ]
  },
  {
   "cell_type": "code",
   "execution_count": null,
   "id": "94225f45-5889-45a5-b6e4-5c8f318385ae",
   "metadata": {},
   "outputs": [],
   "source": []
  }
 ],
 "metadata": {
  "kernelspec": {
   "display_name": "Python 3 (ipykernel)",
   "language": "python",
   "name": "python3"
  },
  "language_info": {
   "codemirror_mode": {
    "name": "ipython",
    "version": 3
   },
   "file_extension": ".py",
   "mimetype": "text/x-python",
   "name": "python",
   "nbconvert_exporter": "python",
   "pygments_lexer": "ipython3",
   "version": "3.10.12"
  }
 },
 "nbformat": 4,
 "nbformat_minor": 5
}
