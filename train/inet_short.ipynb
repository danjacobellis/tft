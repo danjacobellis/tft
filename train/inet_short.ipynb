{
 "cells": [
  {
   "cell_type": "code",
   "execution_count": 1,
   "id": "65434349-eb3f-472f-8eb0-51eb09fd6ba3",
   "metadata": {},
   "outputs": [],
   "source": [
    "import warnings\n",
    "warnings.filterwarnings(\"ignore\", message=\".*`torch.cuda.amp.autocast.*\")\n",
    "import torch\n",
    "import numpy as np\n",
    "import random\n",
    "import PIL.Image\n",
    "import matplotlib.pyplot as plt\n",
    "from types import SimpleNamespace\n",
    "from datasets import load_dataset\n",
    "from timm.optim import Adan\n",
    "from torchvision.transforms.v2 import (\n",
    "    Compose, Resize, RandomCrop, CenterCrop, RandomHorizontalFlip,\n",
    "    PILToTensor, ToPILImage, CutMix, MixUp)\n",
    "from fastprogress.fastprogress import master_bar, progress_bar\n",
    "from IPython.display import display, HTML"
   ]
  },
  {
   "cell_type": "code",
   "execution_count": 2,
   "id": "ea6f63e8-9953-4513-9768-bce9e6ac989d",
   "metadata": {},
   "outputs": [
    {
     "data": {
      "application/vnd.jupyter.widget-view+json": {
       "model_id": "0e6543ab637d461fb8d85f7917793425",
       "version_major": 2,
       "version_minor": 0
      },
      "text/plain": [
       "Resolving data files:   0%|          | 0/66 [00:00<?, ?it/s]"
      ]
     },
     "metadata": {},
     "output_type": "display_data"
    },
    {
     "data": {
      "application/vnd.jupyter.widget-view+json": {
       "model_id": "07c3626755614cb19e7f22110c09fdb6",
       "version_major": 2,
       "version_minor": 0
      },
      "text/plain": [
       "Resolving data files:   0%|          | 0/66 [00:00<?, ?it/s]"
      ]
     },
     "metadata": {},
     "output_type": "display_data"
    },
    {
     "data": {
      "application/vnd.jupyter.widget-view+json": {
       "model_id": "8e7d1c4cf862498a822bc054a5951463",
       "version_major": 2,
       "version_minor": 0
      },
      "text/plain": [
       "Loading dataset shards:   0%|          | 0/66 [00:00<?, ?it/s]"
      ]
     },
     "metadata": {},
     "output_type": "display_data"
    },
    {
     "data": {
      "application/vnd.jupyter.widget-view+json": {
       "model_id": "9381de8fb0ce4857b4d3f2818e0afc3c",
       "version_major": 2,
       "version_minor": 0
      },
      "text/plain": [
       "Resolving data files:   0%|          | 0/66 [00:00<?, ?it/s]"
      ]
     },
     "metadata": {},
     "output_type": "display_data"
    },
    {
     "data": {
      "application/vnd.jupyter.widget-view+json": {
       "model_id": "c0a4ceef82f44a6ca6966a69d37f1e73",
       "version_major": 2,
       "version_minor": 0
      },
      "text/plain": [
       "Resolving data files:   0%|          | 0/66 [00:00<?, ?it/s]"
      ]
     },
     "metadata": {},
     "output_type": "display_data"
    }
   ],
   "source": [
    "torch.set_float32_matmul_precision('highest')\n",
    "device = \"cuda:1\"\n",
    "dataset_train = load_dataset('danjacobellis/imagenet_288_webp',split='train')\n",
    "dataset_valid = load_dataset('danjacobellis/imagenet_288_webp',split='validation')"
   ]
  },
  {
   "cell_type": "code",
   "execution_count": 3,
   "id": "a13d07b4-216e-4aeb-a71c-267a306dd8a7",
   "metadata": {},
   "outputs": [],
   "source": [
    "config = SimpleNamespace()\n",
    "# Training and optimizer config\n",
    "config.batch_size = 128\n",
    "config.steps_per_epoch = dataset_train.num_rows//config.batch_size\n",
    "config.grad_accum_steps = 1\n",
    "config.max_lr = (config.batch_size/256)*2e-2\n",
    "config.lr_pow = 1.0\n",
    "config.plot_update = 128\n",
    "config.epochs = 20\n",
    "config.steps = config.epochs*config.steps_per_epoch\n",
    "\n",
    "config.weight_decay = 0.0\n",
    "config.num_workers = 32\n",
    "config.max_crop_size = 288\n",
    "config.max_chroma_subsample = 32\n",
    "config.valid_crop_size = 288\n",
    "\n",
    "# model config\n",
    "config.channels = 3\n",
    "config.classifier_num_classes = 1000\n",
    "config.checkpoint = False"
   ]
  },
  {
   "cell_type": "code",
   "execution_count": 4,
   "id": "3d4b77ec-9ba2-4aff-87ae-f890150ef542",
   "metadata": {},
   "outputs": [
    {
     "name": "stdout",
     "output_type": "stream",
     "text": [
      "52.654088\n",
      "0.019488 \t stem\n",
      "38.017792 \t stages\n",
      "14.616808 \t head\n"
     ]
    }
   ],
   "source": [
    "from timm.models.efficientvit_mit import EfficientVitLarge, GELUTanh\n",
    "class GroupNorm8(torch.nn.Module):\n",
    "    def __init__(self, num_features, eps=1e-7, affine=True):\n",
    "        super().__init__()\n",
    "        self.groupnorm = torch.nn.GroupNorm(num_groups=8,\n",
    "                                      num_channels=num_features,\n",
    "                                      eps=eps,\n",
    "                                      affine=affine)\n",
    "    def forward(self, x):\n",
    "        return self.groupnorm(x)\n",
    "model = EfficientVitLarge(\n",
    "    in_chans=config.channels,\n",
    "    widths=(32, 64, 128, 256, 512),\n",
    "    depths=(1, 1, 1, 6, 6),\n",
    "    head_dim=32,\n",
    "    norm_layer=GroupNorm8,\n",
    "    act_layer=GELUTanh,\n",
    "    global_pool='avg',\n",
    "    head_widths=(3072, 3200),\n",
    "    drop_rate=0.0,\n",
    "    num_classes=config.classifier_num_classes\n",
    ")\n",
    "model.head.in_conv.norm = torch.nn.GroupNorm(\n",
    "    num_groups=8,\n",
    "    num_channels=model.head.in_conv.norm.num_features,\n",
    "    affine=model.head.in_conv.norm.affine,\n",
    "    eps=model.head.in_conv.norm.eps\n",
    ")\n",
    "model.to(device)\n",
    "print(sum(p.numel() for p in model.parameters())/1e6)\n",
    "for name, module in model.named_children():\n",
    "    print(f\"{sum(p.numel() for p in module.parameters())/1e6} \\t {name}\")\n",
    "\n",
    "if config.checkpoint:\n",
    "    checkpoint = torch.load(config.checkpoint, map_location=\"cpu\", weights_only=False)\n",
    "    model.load_state_dict(checkpoint['model'])"
   ]
  },
  {
   "cell_type": "code",
   "execution_count": 5,
   "id": "aa00c7de-cae2-44df-8f38-7440104f96de",
   "metadata": {},
   "outputs": [],
   "source": [
    "optimizer = Adan(\n",
    "    params=model.parameters(),\n",
    "    lr=1.0,\n",
    "    weight_decay=config.weight_decay,\n",
    "    caution=True\n",
    ")\n",
    "def rc_sched(i_step, config):\n",
    "    t = i_step / (config.steps / config.plot_update)\n",
    "    return config.max_lr*0.5 * (1 - np.cos(2*np.pi*(t**config.lr_pow))) + 1e-15\n",
    "    return lr\n",
    "schedule = torch.optim.lr_scheduler.LambdaLR(\n",
    "    optimizer,\n",
    "    lr_lambda = lambda i_step: rc_sched(i_step, config),\n",
    ")"
   ]
  },
  {
   "cell_type": "code",
   "execution_count": 6,
   "id": "85726cea-2e1d-41a4-b8ea-fdb09d45eb32",
   "metadata": {},
   "outputs": [],
   "source": [
    "# learning_rates = [optimizer.param_groups[0]['lr']]\n",
    "# i_step = 0\n",
    "# for i_epoch in range(config.epochs):\n",
    "#     for i_batch in range(config.steps_per_epoch):\n",
    "#         if (i_step+1) % config.plot_update == 0:\n",
    "#             schedule.step()\n",
    "#             learning_rates.append(optimizer.param_groups[0]['lr'])\n",
    "#         i_step+=1\n",
    "# fig, axes = plt.subplots(ncols=2, figsize=(10, 4))\n",
    "# axes[0].semilogy(learning_rates);axes[0].set_ylim([1e-6, 1.0])\n",
    "# axes[1].plot(learning_rates);"
   ]
  },
  {
   "cell_type": "code",
   "execution_count": 6,
   "id": "3086f982-e5aa-491d-9f98-70a661ce9a37",
   "metadata": {},
   "outputs": [],
   "source": [
    "class ChromaSubsampling:\n",
    "    def __init__(self, f):\n",
    "        self.f = f\n",
    "    def __call__(self, img):\n",
    "        img_ycbcr = img.convert(\"YCbCr\")\n",
    "        width, height = img_ycbcr.size\n",
    "        tensor = PILToTensor()(img_ycbcr)\n",
    "        for ch in [1, 2]:\n",
    "            channel_img = ToPILImage()(tensor[ch])\n",
    "            downsampled = channel_img.resize(\n",
    "                (width // self.f, height // self.f),\n",
    "                resample=PIL.Image.Resampling.LANCZOS\n",
    "            )\n",
    "            upsampled = downsampled.resize(\n",
    "                (width, height),\n",
    "                resample=PIL.Image.Resampling.LANCZOS\n",
    "            )\n",
    "            new_channel = PILToTensor()(upsampled)\n",
    "            tensor[ch] = new_channel.squeeze(0)\n",
    "        img_ycbcr_modified = ToPILImage(mode=\"YCbCr\")(tensor)\n",
    "        return img_ycbcr_modified.convert(\"RGB\")\n",
    "    def __repr__(self):\n",
    "        return f\"{self.__class__.__name__}(f={self.f})\""
   ]
  },
  {
   "cell_type": "code",
   "execution_count": 7,
   "id": "5fdc4b98-a6b6-40e6-9d4b-b12914d24cc3",
   "metadata": {},
   "outputs": [],
   "source": [
    "mix_transforms = [\n",
    "    CutMix(num_classes=config.classifier_num_classes),\n",
    "    MixUp(num_classes=config.classifier_num_classes)\n",
    "]\n",
    "crop_size = lambda i_epoch : int(32*((((i_epoch+1)*(config.max_crop_size**2)/config.epochs)**0.5)//32))\n",
    "chroma_f = lambda i_epoch: int(config.max_chroma_subsample * ((config.epochs - i_epoch) / config.epochs) + 1.0 * (i_epoch / config.epochs))\n",
    "cent_crop = Compose([\n",
    "    Resize(config.valid_crop_size, interpolation=PIL.Image.Resampling.LANCZOS),\n",
    "    CenterCrop(size=config.valid_crop_size),\n",
    "    PILToTensor()\n",
    "])\n",
    "def valid_collate_fn(batch):\n",
    "    B = len(batch)\n",
    "    x = torch.zeros((B, config.channels, config.valid_crop_size, config.valid_crop_size), dtype=torch.uint8)\n",
    "    y = torch.zeros(B, dtype=torch.int)\n",
    "    for i_sample, sample in enumerate(batch):\n",
    "        y[i_sample] = sample['cls']\n",
    "        x[i_sample,:,:,:] = cent_crop(sample['webp'])\n",
    "    x = x.to(torch.float) / 127.5 - 1.0\n",
    "    y = y.to(torch.long)\n",
    "    return (x,y)"
   ]
  },
  {
   "cell_type": "code",
   "execution_count": null,
   "id": "52e14104-0ca1-4519-a206-7834ffbf16a0",
   "metadata": {},
   "outputs": [],
   "source": [
    "mb = master_bar(range(config.epochs))\n",
    "mb.names = ['per batch','smoothed']\n",
    "train_loss = []\n",
    "valid_acc = []\n",
    "learning_rates = [optimizer.param_groups[0]['lr']]\n",
    "i_step = 0\n",
    "for i_epoch in mb:\n",
    "    # training\n",
    "    model.train()\n",
    "    rand_crop = Compose([\n",
    "        Resize(crop_size(i_epoch), interpolation=PIL.Image.Resampling.LANCZOS),\n",
    "        RandomHorizontalFlip(1.0 if i_epoch%2 else 0.0),\n",
    "        RandomCrop((crop_size(i_epoch),crop_size(i_epoch))),\n",
    "        ChromaSubsampling(min(crop_size(i_epoch),chroma_f(i_epoch))),\n",
    "        PILToTensor()\n",
    "    ])\n",
    "    def train_collate_fn(batch):\n",
    "        B = len(batch)\n",
    "        x = torch.zeros((B, config.channels, crop_size(i_epoch), crop_size(i_epoch)), dtype=torch.uint8)\n",
    "        y = torch.zeros(B, dtype=torch.int)\n",
    "        for i_sample, sample in enumerate(batch):\n",
    "            y[i_sample] = sample['cls']\n",
    "            x[i_sample,:,:,:] = rand_crop(sample['webp'])\n",
    "        x = x.to(torch.float) / 127.5 - 1.0\n",
    "        y = y.to(torch.long)\n",
    "        return x, y\n",
    "\n",
    "    dataloader_train = torch.utils.data.DataLoader(\n",
    "        dataset_train,\n",
    "        batch_size=config.batch_size,\n",
    "        shuffle=True,\n",
    "        num_workers=config.num_workers,\n",
    "        drop_last=True,\n",
    "        pin_memory=True,\n",
    "        collate_fn=train_collate_fn\n",
    "    )\n",
    "    pb = progress_bar(dataloader_train, parent=mb)\n",
    "    for i_batch, (x,y) in enumerate(pb):\n",
    "        y = y.to(torch.long).to(device)\n",
    "        x = x.to(device)\n",
    "\n",
    "        for mix_transform in mix_transforms:\n",
    "            x, y = mix_transform(x, y) \n",
    "\n",
    "        logits = model(x)\n",
    "        loss = torch.nn.CrossEntropyLoss()(input=logits, target=y)\n",
    "\n",
    "        train_loss.append(loss.item())\n",
    "        loss.backward()\n",
    "        torch.nn.utils.clip_grad_norm_(model.parameters(), 5.0, norm_type=2.0)\n",
    "        if (i_batch + 1) % config.grad_accum_steps == 0:\n",
    "            optimizer.step()\n",
    "            optimizer.zero_grad()\n",
    "\n",
    "        # plotting and learning rate update\n",
    "        if (i_step+1) % config.plot_update == 0:\n",
    "            plot_n = len(train_loss) // config.plot_update\n",
    "            smoothed_x = (0.5+torch.arange(plot_n)) * config.plot_update\n",
    "            smoothed_y = torch.tensor(train_loss).reshape(plot_n, -1).mean(dim=1)\n",
    "            train_x = range(len(train_loss))\n",
    "            train_y = train_loss\n",
    "            mb.update_graph([[train_x, np.log10(train_y)],[smoothed_x, np.log10(smoothed_y)]])\n",
    "\n",
    "            # lr update\n",
    "            schedule.step()\n",
    "            learning_rates.append(optimizer.param_groups[0]['lr'])\n",
    "    \n",
    "        i_step+=1\n",
    "        \n",
    "    # validation\n",
    "    model.eval()\n",
    "    valid_acc.append(0)\n",
    "    data_loader_valid = torch.utils.data.DataLoader(\n",
    "        dataset_valid,\n",
    "        batch_size=config.batch_size,\n",
    "        shuffle=False,\n",
    "        num_workers=config.num_workers,\n",
    "        drop_last=False,\n",
    "        pin_memory=True,\n",
    "        collate_fn=valid_collate_fn\n",
    "    )\n",
    "    pb_valid = progress_bar(data_loader_valid, parent=mb)\n",
    "    for i_batch, (x, y) in enumerate(pb_valid):\n",
    "        y = y.to(device)\n",
    "        x = x.to(device)\n",
    "        with torch.no_grad():\n",
    "            logits = ( model(x) + model(torch.flip(x, dims=[3])) ) / 2\n",
    "        valid_acc[i_epoch] += torch.sum(logits.argmax(dim=1) == y).item()\n",
    "    valid_acc[i_epoch] /= len(dataset_valid)\n",
    "    \n",
    "    mb.main_bar.comment = f'valid_acc {valid_acc[i_epoch]:.4g}'\n",
    "    \n",
    "    torch.save({\n",
    "        'i_epoch': i_epoch,\n",
    "        'learning_rates': learning_rates,\n",
    "        'smoothed_y': smoothed_y,\n",
    "        'valid_acc': valid_acc,\n",
    "        'config': config,\n",
    "        'model_state_dict': model.state_dict(),\n",
    "    }, f\"log_{device}_2.pth\")"
   ]
  },
  {
   "cell_type": "code",
   "execution_count": 10,
   "id": "fbb020a6-a19e-4296-87bd-475fafd28cc4",
   "metadata": {
    "scrolled": true
   },
   "outputs": [
    {
     "data": {
      "text/html": [
       "\n",
       "    <div>\n",
       "      <progress value='20' class='' max='20' style='width:300px; height:20px; vertical-align: middle;'></progress>\n",
       "      100.00% [20/20 11:06:12&lt;00:00 valid_acc 0.7527]\n",
       "    </div>\n",
       "    "
      ],
      "text/plain": [
       "<IPython.core.display.HTML object>"
      ]
     },
     "metadata": {},
     "output_type": "display_data"
    },
    {
     "data": {
      "text/html": [
       "\n",
       "    <div>\n",
       "      <progress value='391' class='' max='391' style='width:300px; height:20px; vertical-align: middle;'></progress>\n",
       "      100.00% [391/391 01:20&lt;00:00]\n",
       "    </div>\n",
       "    "
      ],
      "text/plain": [
       "<IPython.core.display.HTML object>"
      ]
     },
     "metadata": {},
     "output_type": "display_data"
    }
   ],
   "source": [
    "from IPython.display import display, HTML\n",
    "import matplotlib.pyplot as plt\n",
    "display(HTML(mb.main_bar.progress))\n",
    "display(HTML(mb.child.progress))"
   ]
  },
  {
   "cell_type": "code",
   "execution_count": 11,
   "id": "6a6ca452-bd75-4fff-ba10-aa86b93ca0d5",
   "metadata": {},
   "outputs": [
    {
     "data": {
      "text/plain": [
       "[<matplotlib.lines.Line2D at 0x7f8e4c771ba0>]"
      ]
     },
     "execution_count": 11,
     "metadata": {},
     "output_type": "execute_result"
    },
    {
     "data": {
      "image/png": "[encoded data removed]",
      "text/plain": [
       "<Figure size 640x480 with 1 Axes>"
      ]
     },
     "metadata": {},
     "output_type": "display_data"
    }
   ],
   "source": [
    "plt.plot(learning_rates)"
   ]
  },
  {
   "cell_type": "code",
   "execution_count": 12,
   "id": "7684eca0-0d2d-467c-b4a8-6ca7eab74b37",
   "metadata": {},
   "outputs": [
    {
     "name": "stderr",
     "output_type": "stream",
     "text": [
      "/tmp/ipykernel_3330176/2432266517.py:2: UserWarning: Attempt to set non-positive ylim on a log-scaled axis will be ignored.\n",
      "  plt.ylim([0,7])\n"
     ]
    },
    {
     "data": {
      "text/plain": [
       "(2.686596305053457, 7)"
      ]
     },
     "execution_count": 12,
     "metadata": {},
     "output_type": "execute_result"
    },
    {
     "data": {
      "image/png": "[encoded data removed]",
      "text/plain": [
       "<Figure size 640x480 with 1 Axes>"
      ]
     },
     "metadata": {},
     "output_type": "display_data"
    }
   ],
   "source": [
    "plt.semilogy(smoothed_y)\n",
    "plt.ylim([0,7])"
   ]
  },
  {
   "cell_type": "code",
   "execution_count": 13,
   "id": "98f47ea3-744c-4a6f-b40c-722b9cdcd56e",
   "metadata": {},
   "outputs": [
    {
     "data": {
      "text/plain": [
       "[<matplotlib.lines.Line2D at 0x7f8e4c6fbe20>]"
      ]
     },
     "execution_count": 13,
     "metadata": {},
     "output_type": "execute_result"
    },
    {
     "data": {
      "image/png": "[encoded data removed]",
      "text/plain": [
       "<Figure size 640x480 with 1 Axes>"
      ]
     },
     "metadata": {},
     "output_type": "display_data"
    }
   ],
   "source": [
    "plt.plot(valid_acc)"
   ]
  },
  {
   "cell_type": "code",
   "execution_count": null,
   "id": "fb1242de-5562-480d-9d6a-859d7c17d59b",
   "metadata": {},
   "outputs": [],
   "source": [
    "###### torch.save({\n",
    "#     'i_epoch': i_epoch,\n",
    "#     'learning_rates': learning_rates,\n",
    "#     'smoothed_y': smoothed_y,\n",
    "#     'valid_acc': valid_acc,\n",
    "#     'config': config,\n",
    "#     'model': model.state_dict(),\n",
    "#     'optimizer': optimizer.state_dict(),\n",
    "# }, f\"../../hf/tft/efficientvit_l1_gn8.pth\")"
   ]
  }
 ],
 "metadata": {
  "kernelspec": {
   "display_name": "Python 3 (ipykernel)",
   "language": "python",
   "name": "python3"
  },
  "language_info": {
   "codemirror_mode": {
    "name": "ipython",
    "version": 3
   },
   "file_extension": ".py",
   "mimetype": "text/x-python",
   "name": "python",
   "nbconvert_exporter": "python",
   "pygments_lexer": "ipython3",
   "version": "3.10.12"
  }
 },
 "nbformat": 4,
 "nbformat_minor": 5
}
